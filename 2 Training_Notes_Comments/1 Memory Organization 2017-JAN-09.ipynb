{
 "cells": [
  {
   "cell_type": "code",
   "execution_count": 6,
   "metadata": {
    "collapsed": true
   },
   "outputs": [],
   "source": [
    "#Let us create 4 variable like below.\n",
    "#Here we no need to specify the data type.Because Python have Dynamic datatyping feature\n",
    "a=10\n",
    "b=20\n",
    "c=a\n",
    "d=10"
   ]
  },
  {
   "cell_type": "code",
   "execution_count": 2,
   "metadata": {
    "collapsed": false
   },
   "outputs": [
    {
     "name": "stdout",
     "output_type": "stream",
     "text": [
      "10 20 10 10\n"
     ]
    }
   ],
   "source": [
    "#Print statement will simply prints the actual value of that variable which is in the memory\n",
    "print a,b,c,d"
   ]
  },
  {
   "cell_type": "code",
   "execution_count": 5,
   "metadata": {
    "collapsed": false
   },
   "outputs": [
    {
     "name": "stdout",
     "output_type": "stream",
     "text": [
      "27922592 27922352 27922592 27922592\n"
     ]
    }
   ],
   "source": [
    "# Here Id's of a,c and d are same\n",
    "#those are pointing or refering to the same object\n",
    "# In the memorey there are only two objects are creating i.e 10  & 20\n",
    "# Here 10 is refering by a,c and d. So It's Reference count is 3\n",
    "# And 20 is refering by only b. So It's Reference count is 1\n",
    "#Note: Here only Two OBJECTS are created\n",
    "print id(a),id(b),id(c),id(d)"
   ]
  },
  {
   "cell_type": "code",
   "execution_count": 7,
   "metadata": {
    "collapsed": true
   },
   "outputs": [],
   "source": [
    "#let check with scenario with other data types example list\n",
    "#So i am creating list l1,l2,l3 and l4 here\n",
    "l1=[1,2,3,4]\n",
    "l2=[4,5,6,7]\n",
    "l3=l1\n",
    "l4=[1,2,3,4]"
   ]
  },
  {
   "cell_type": "code",
   "execution_count": 8,
   "metadata": {
    "collapsed": false
   },
   "outputs": [
    {
     "name": "stdout",
     "output_type": "stream",
     "text": [
      "[1, 2, 3, 4] [4, 5, 6, 7] [1, 2, 3, 4] [1, 2, 3, 4]\n"
     ]
    }
   ],
   "source": [
    "print l1,l2,l3,l4"
   ]
  },
  {
   "cell_type": "code",
   "execution_count": 9,
   "metadata": {
    "collapsed": false
   },
   "outputs": [
    {
     "name": "stdout",
     "output_type": "stream",
     "text": [
      "140362469133416 140362355147696 140362469133416 140362449411248\n"
     ]
    }
   ],
   "source": [
    "#Unlike Integers, here totally THREE Objects are created i.e for l1,l2,l4\n",
    "#Here l1 & l3 are pointing to the same Object in the memory. So list [1,2,3,4] reference count is 2.\n",
    "#But in case of l4, another duplicate object is creating in the memory. So id(l4) is different with the id(l1) & ID(l3).\n",
    "# To understand this concept , first we need to know about , Mutable and Immutable concepts\n",
    "\n",
    "print id(l1),id(l2),id(l3),id(l4)"
   ]
  },
  {
   "cell_type": "code",
   "execution_count": 14,
   "metadata": {
    "collapsed": false
   },
   "outputs": [
    {
     "name": "stdout",
     "output_type": "stream",
     "text": [
      "100 100 100\n"
     ]
    }
   ],
   "source": [
    "# IMMUTABLE: \n",
    "# Modification of the value is not possible once it allocates the memory for the variable is called Immutable.\n",
    "# If we try to change the value , then it will creates another OBJECT in the memory, insterd of modifying the existing value.\n",
    "# Integers are Immutable type\n",
    "a=100\n",
    "b=a\n",
    "c=100\n",
    "print a,b,c"
   ]
  },
  {
   "cell_type": "code",
   "execution_count": 15,
   "metadata": {
    "collapsed": false
   },
   "outputs": [
    {
     "name": "stdout",
     "output_type": "stream",
     "text": [
      "110 100 100\n"
     ]
    }
   ],
   "source": [
    "#Here i am modifying the 'a' value from 100 to 110. \n",
    "# So as discussed above, Integer is an Immutable type , so it is not going to modifying the previously assigned value\n",
    "# Instead it will creates another object in the memory.\n",
    "# So now a is pointing to 110.\n",
    "#Note: But here 'b' and 'c' are still pointing to the same object i.e 100. But not 110.\n",
    "#So here the value of 'a' is not modified. Hence it is an Immutable Type.\n",
    "a=110\n",
    "print a,b,c"
   ]
  },
  {
   "cell_type": "code",
   "execution_count": 34,
   "metadata": {
    "collapsed": false
   },
   "outputs": [
    {
     "name": "stdout",
     "output_type": "stream",
     "text": [
      "avinash avinash avinash\n",
      "140362354694592 140362354694592 140362354694592\n",
      "avinash.k avinash avinash\n",
      "140362353963200 140362354694592 140362354694592\n"
     ]
    }
   ],
   "source": [
    "# Lets check this with Strings\n",
    "s1=\"avinash\"\n",
    "s2=s1\n",
    "s3=\"avinash\"\n",
    "print s1,s2,s3\n",
    "print id(s1),id(s2),id(s3)\n",
    "\n",
    "# Lets modify s1\n",
    "s1=\"avinash.k\"\n",
    "print s1,s2,s3\n",
    "print id(s1),id(s2),id(s3)\n",
    "# So Strings are also Immutable"
   ]
  },
  {
   "cell_type": "code",
   "execution_count": 16,
   "metadata": {
    "collapsed": false
   },
   "outputs": [
    {
     "name": "stdout",
     "output_type": "stream",
     "text": [
      "[1, 2, 3, 4] [1, 2, 3, 4] [1, 2, 3, 4]\n"
     ]
    }
   ],
   "source": [
    "# MUTABLE:\n",
    "# In Mutable types,Modification of value of the variable assined in the memory is Possibe.\n",
    "# So when we modify the variable value,It is going to chang the actual value of the variable instead of creatoing anothe Object.\n",
    "# Lists, Tupples, dictionaries are examples for the Mutables.\n",
    "# Lets see this with following list l1,l2,l3.\n",
    "l1=[1,2,3,4]\n",
    "l2=l1\n",
    "l3=[1,2,3,4]\n",
    "print l1,l2,l3"
   ]
  },
  {
   "cell_type": "code",
   "execution_count": 18,
   "metadata": {
    "collapsed": false
   },
   "outputs": [
    {
     "name": "stdout",
     "output_type": "stream",
     "text": [
      "140362469150016 140362469150016 140362354737448\n"
     ]
    }
   ],
   "source": [
    "# Lets print these l1,l2,l3 id's\n",
    "# Here List l1 & l2 are pointing or refering to the same object in the memory\n",
    "# Where as l3 is referring to the different object in the memory\n",
    "# Here DUPLICATE Object is creating for l3 variable in the variable.\n",
    "print id(l1),id(l2),id(l3)"
   ]
  },
  {
   "cell_type": "code",
   "execution_count": 26,
   "metadata": {
    "collapsed": false
   },
   "outputs": [
    {
     "name": "stdout",
     "output_type": "stream",
     "text": [
      "[1, 2, 3, 4] [1, 2, 3, 4] [1, 2, 3, 4]\n",
      "[1, 2, 3, 4, 10] [1, 2, 3, 4, 10] [1, 2, 3, 4]\n"
     ]
    }
   ],
   "source": [
    "# Lets enhance this with another example\n",
    "# Here we will change the actual List value , which is already initialized and have allocated memory.\n",
    "l1=[1,2,3,4]\n",
    "l2=l1\n",
    "l3=[1,2,3,4]\n",
    "print l1,l2,l3\n",
    "\n",
    "# Now I am modifying the l1 value\n",
    "l1.append(10)\n",
    "print l1,l2,l3\n",
    "\n",
    "# Here we changed the value of l1. i.e we added another list item 10 inthe l1 by using appenr() function\n",
    "# Then , the actual value of the l1 is changed from [1,2,3,4] from [1,2,3,4,10].\n",
    "# Note : Here no NEW object is created . Insted it changed the existing object value in the memory.\n",
    "# So when we change the l1 object value, the other variables which are pointing to the same object are also pointed to that changed value.\n",
    "# Hence l1,l2 are refering to same object. i.e: l1=l2=[1,2,3,4,10]. Lists are Mutable."
   ]
  },
  {
   "cell_type": "code",
   "execution_count": 43,
   "metadata": {
    "collapsed": false
   },
   "outputs": [
    {
     "name": "stdout",
     "output_type": "stream",
     "text": [
      "set([1, 2, 3, 4]) set([1, 2, 3, 4]) set([1, 2, 3, 4])\n",
      "140362354808024 140362354808024 140362400610656\n",
      "set([1, 2, 3, 4, 5, 6]) set([1, 2, 3, 4]) set([1, 2, 3, 4])\n",
      "140362412018712 140362354808024 140362400610656\n"
     ]
    }
   ],
   "source": [
    "# Lets check this with tupple\n",
    "# Tupple is a Mutable type\n",
    "t1={1,2,3,4}\n",
    "t2=t1\n",
    "t3={1,2,3,4}\n",
    "print t1,t2,t3\n",
    "print id(t1),id(t2),id(t3)\n",
    "\n",
    "# Lets modify t1\n",
    "t1={1,2,3,4,5,6}\n",
    "print t1,t2,t3\n",
    "print id(t1),id(t2),id(t3)"
   ]
  },
  {
   "cell_type": "code",
   "execution_count": 44,
   "metadata": {
    "collapsed": false
   },
   "outputs": [
    {
     "name": "stdout",
     "output_type": "stream",
     "text": [
      "{1: 'a', 2: 'b', 3: 'c', 4: 'd'} {1: 'a', 2: 'b', 3: 'c', 4: 'd'} {1: 'a', 2: 'b', 3: 'c', 4: 'd'}\n",
      "140362353198256 140362353198256 140362353198536\n",
      "{1: 'a', 2: 'b', 3: 'c', 4: 'd', 5: 'e', 6: 'f'} {1: 'a', 2: 'b', 3: 'c', 4: 'd'} {1: 'a', 2: 'b', 3: 'c', 4: 'd'}\n",
      "140362354744408 140362353198256 140362353198536\n"
     ]
    }
   ],
   "source": [
    "# Lets check this with Dictionary\n",
    "# Dictionary is a Mutable Type\n",
    "t1={1:\"a\",2:\"b\",3:\"c\",4:\"d\"}\n",
    "t2=t1\n",
    "t3={1:\"a\",2:\"b\",3:\"c\",4:\"d\"}\n",
    "print t1,t2,t3\n",
    "print id(t1),id(t2),id(t3)\n",
    "\n",
    "# Lets modify t1\n",
    "t1={1:\"a\",2:\"b\",3:\"c\",4:\"d\",5:\"e\",6:\"f\"}\n",
    "print t1,t2,t3\n",
    "print id(t1),id(t2),id(t3)"
   ]
  },
  {
   "cell_type": "code",
   "execution_count": null,
   "metadata": {
    "collapsed": true
   },
   "outputs": [],
   "source": [
    "# End of Python class-1 Practice"
   ]
  }
 ],
 "metadata": {
  "anaconda-cloud": {},
  "kernelspec": {
   "display_name": "Python [default]",
   "language": "python",
   "name": "python2"
  },
  "language_info": {
   "codemirror_mode": {
    "name": "ipython",
    "version": 2
   },
   "file_extension": ".py",
   "mimetype": "text/x-python",
   "name": "python",
   "nbconvert_exporter": "python",
   "pygments_lexer": "ipython2",
   "version": "2.7.12"
  }
 },
 "nbformat": 4,
 "nbformat_minor": 1
}
