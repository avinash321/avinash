{
 "cells": [
  {
   "cell_type": "code",
   "execution_count": 1,
   "metadata": {
    "collapsed": true
   },
   "outputs": [],
   "source": [
    "# How to work with files in python\n",
    "# We can perform read operation, write operation on the files using open\n",
    "# open() is a predefined function in python\n",
    "# This will create the file object , This file object will have multiple properties\n",
    "# Bydefault mode for the given file is Read Mode\n",
    "# 'r'---------> For Reading   &   'w'------------>For writing or creating new file\n",
    "# The below code will first first search for the given file in the curent directory, and then\n",
    "# the file become write mode\n",
    "# If the given file is not found, then it will creates the new file with the given name\n",
    "# Here f1.txt is created with in the home folder in write mode...Byusing the file reference , we can perform,\n",
    "# write operation o it\n",
    "f=open(\"f1.txt\",'w')"
   ]
  },
  {
   "cell_type": "code",
   "execution_count": 2,
   "metadata": {
    "collapsed": true
   },
   "outputs": [],
   "source": [
    "# File Object functions: write() funcion\n",
    "# It will write the data on file\n",
    "# ***Note:\n",
    "# It will accept only string format data\n",
    "# If the file contains the previous data , first it will removes the entire data, then it will write the given data\n",
    "# There may be chance of loosing sensitve data , while performing write operations.\n",
    "f.write(\"Some data\")"
   ]
  },
  {
   "cell_type": "code",
   "execution_count": 3,
   "metadata": {
    "collapsed": true
   },
   "outputs": [],
   "source": [
    "# This will close the opened file\n",
    "# And also saves the written data on file..\n",
    "# If once we close the file , then performing IO Operations on the file is not possible\n",
    "f.close()"
   ]
  },
  {
   "cell_type": "code",
   "execution_count": 4,
   "metadata": {
    "collapsed": true
   },
   "outputs": [],
   "source": [
    "# We Can open a file in multiple Modes..\n",
    "# 'r'----> read Mode\n",
    "# 'w'-----> write mode\n",
    "# 'a'------> append Mode\n",
    "# 'U'------> UXXXX  Mode\n",
    "# Here we are opening the file in Write mode\n",
    "f=open(\"f1.txt\",'w')"
   ]
  },
  {
   "cell_type": "code",
   "execution_count": 5,
   "metadata": {
    "collapsed": true
   },
   "outputs": [],
   "source": [
    "# We can open the same file multiple times in write mode based on our requirement\n",
    "# Note: When we open the file in Write mode , then we loss the prvious data...\n",
    "# And every opened file should always followed with the file close or flush  or else it will not save the data..\n",
    "# The data will be stored in the buffer storage..\n",
    "# Once you close the file , then that the data which is stored in the buffer storage will be moved from the ,\n",
    "# Buffer storage to the main memory\n",
    "f=open(\"f1.txt\",'w')\n",
    "f.close()\n"
   ]
  },
  {
   "cell_type": "code",
   "execution_count": 5,
   "metadata": {
    "collapsed": true
   },
   "outputs": [],
   "source": [
    "f=open('f1.txt','w')\n",
    "f.write(\"java is very esy to learn\")"
   ]
  },
  {
   "cell_type": "code",
   "execution_count": 6,
   "metadata": {
    "collapsed": false
   },
   "outputs": [
    {
     "name": "stdout",
     "output_type": "stream",
     "text": [
      "java is very esy to learn\n"
     ]
    }
   ],
   "source": [
    "# Opening a file in read mode..\n",
    "# When you open a file in read mode , then it will not support for the write operation.\n",
    "f=open('f1.txt','r')\n",
    "# After creating the file object you can read the file using read function with the referencre of the file object\n",
    "data = f.read()\n",
    "print data"
   ]
  },
  {
   "cell_type": "code",
   "execution_count": 7,
   "metadata": {
    "collapsed": true
   },
   "outputs": [],
   "source": [
    "# You can replace some text in the open file using replace() function..it is one of the string function\n",
    "mod_data = data.replace('java','python')"
   ]
  },
  {
   "cell_type": "code",
   "execution_count": 7,
   "metadata": {
    "collapsed": false
   },
   "outputs": [
    {
     "ename": "NameError",
     "evalue": "name 'mod_data' is not defined",
     "output_type": "error",
     "traceback": [
      "\u001b[0;31m---------------------------------------------------------------------------\u001b[0m",
      "\u001b[0;31mNameError\u001b[0m                                 Traceback (most recent call last)",
      "\u001b[0;32m<ipython-input-7-92b70fa282c7>\u001b[0m in \u001b[0;36m<module>\u001b[0;34m()\u001b[0m\n\u001b[0;32m----> 1\u001b[0;31m \u001b[0mmod_data\u001b[0m\u001b[0;34m\u001b[0m\u001b[0m\n\u001b[0m",
      "\u001b[0;31mNameError\u001b[0m: name 'mod_data' is not defined"
     ]
    }
   ],
   "source": [
    "mod_data"
   ]
  },
  {
   "cell_type": "code",
   "execution_count": 9,
   "metadata": {
    "collapsed": true
   },
   "outputs": [],
   "source": [
    "# So we need to again write the modified data into the f1.txt and then close\n",
    "f=open('f1.txt','w')\n",
    "f.write(mod_data)\n",
    "f.close()"
   ]
  },
  {
   "cell_type": "code",
   "execution_count": 11,
   "metadata": {
    "collapsed": true
   },
   "outputs": [],
   "source": [
    "# flush() function will works as a save point for the data..\n",
    "# if we call flush() function , it will save only the statements above in it , but not all the statement\n",
    "# Here , when we open this file , only some content will display...\n",
    "# Some more conent is not saved\n",
    "f=open('f1.txt','w')\n",
    "f.write(\"Some content\")\n",
    "f.flush()\n",
    "f.write(\"some more content\")"
   ]
  },
  {
   "cell_type": "code",
   "execution_count": 12,
   "metadata": {
    "collapsed": false
   },
   "outputs": [
    {
     "ename": "ValueError",
     "evalue": "I/O operation on closed file",
     "output_type": "error",
     "traceback": [
      "\u001b[0;31m---------------------------------------------------------------------------\u001b[0m",
      "\u001b[0;31mValueError\u001b[0m                                Traceback (most recent call last)",
      "\u001b[0;32m<ipython-input-12-eb054af21436>\u001b[0m in \u001b[0;36m<module>\u001b[0;34m()\u001b[0m\n\u001b[1;32m      2\u001b[0m \u001b[0mf\u001b[0m\u001b[1;33m.\u001b[0m\u001b[0mwrite\u001b[0m\u001b[1;33m(\u001b[0m\u001b[1;34m\"Some content\"\u001b[0m\u001b[1;33m)\u001b[0m\u001b[1;33m\u001b[0m\u001b[0m\n\u001b[1;32m      3\u001b[0m \u001b[0mf\u001b[0m\u001b[1;33m.\u001b[0m\u001b[0mclose\u001b[0m\u001b[1;33m(\u001b[0m\u001b[1;33m)\u001b[0m\u001b[1;33m\u001b[0m\u001b[0m\n\u001b[0;32m----> 4\u001b[0;31m \u001b[0mf\u001b[0m\u001b[1;33m.\u001b[0m\u001b[0mwrite\u001b[0m\u001b[1;33m(\u001b[0m\u001b[1;34m\"some more content\"\u001b[0m\u001b[1;33m)\u001b[0m\u001b[1;33m\u001b[0m\u001b[0m\n\u001b[0m",
      "\u001b[0;31mValueError\u001b[0m: I/O operation on closed file"
     ]
    }
   ],
   "source": [
    "# Afetr closing the file , the IO operations on that file is not possible\n",
    "f=open('f1.txt','w')\n",
    "f.write(\"Some content\")\n",
    "f.close()\n",
    "f.write(\"some more content\")"
   ]
  },
  {
   "cell_type": "code",
   "execution_count": 13,
   "metadata": {
    "collapsed": true
   },
   "outputs": [],
   "source": [
    "f=open('f1.txt','w')\n",
    "f.write(\"Some content\")\n",
    "f.flush()\n",
    "f.write(\"some more content\")"
   ]
  },
  {
   "cell_type": "code",
   "execution_count": 9,
   "metadata": {
    "collapsed": true
   },
   "outputs": [],
   "source": [
    "l=['python','java','c','cpp','php']"
   ]
  },
  {
   "cell_type": "code",
   "execution_count": 11,
   "metadata": {
    "collapsed": false
   },
   "outputs": [
    {
     "ename": "TypeError",
     "evalue": "expected a string or other character buffer object",
     "output_type": "error",
     "traceback": [
      "\u001b[0;31m---------------------------------------------------------------------------\u001b[0m",
      "\u001b[0;31mTypeError\u001b[0m                                 Traceback (most recent call last)",
      "\u001b[0;32m<ipython-input-11-776d7cb5383b>\u001b[0m in \u001b[0;36m<module>\u001b[0;34m()\u001b[0m\n\u001b[1;32m      1\u001b[0m \u001b[0;31m# A file will accept only string format but not any other format like , list ,tupple ..etc\u001b[0m\u001b[0;34m\u001b[0m\u001b[0;34m\u001b[0m\u001b[0m\n\u001b[1;32m      2\u001b[0m \u001b[0mf\u001b[0m\u001b[0;34m=\u001b[0m\u001b[0mopen\u001b[0m\u001b[0;34m(\u001b[0m\u001b[0;34m'f1.txt'\u001b[0m\u001b[0;34m,\u001b[0m\u001b[0;34m'w'\u001b[0m\u001b[0;34m)\u001b[0m\u001b[0;34m\u001b[0m\u001b[0m\n\u001b[0;32m----> 3\u001b[0;31m \u001b[0mf\u001b[0m\u001b[0;34m.\u001b[0m\u001b[0mwrite\u001b[0m\u001b[0;34m(\u001b[0m\u001b[0ml\u001b[0m\u001b[0;34m)\u001b[0m\u001b[0;34m\u001b[0m\u001b[0m\n\u001b[0m\u001b[1;32m      4\u001b[0m \u001b[0;34m\u001b[0m\u001b[0m\n",
      "\u001b[0;31mTypeError\u001b[0m: expected a string or other character buffer object"
     ]
    }
   ],
   "source": [
    "# A file will accept only string format but not any other format like , list ,tupple ..etc\n",
    "# If you want write any other data type other than String , then first you need to convert the given data type into sting\n",
    "# By using str() function\n",
    "f=open('f1.txt','w')\n",
    "f.write(l)"
   ]
  },
  {
   "cell_type": "code",
   "execution_count": 12,
   "metadata": {
    "collapsed": true
   },
   "outputs": [],
   "source": [
    "#Here we are converting a list into string,before writing the actual list on file\n",
    "f=open('f1.txt','w')\n",
    "f.write(\",\".join(l))\n",
    "f.close()"
   ]
  },
  {
   "cell_type": "code",
   "execution_count": 17,
   "metadata": {
    "collapsed": true
   },
   "outputs": [],
   "source": [
    "# \\n just for print a new line for every lis item\n",
    "f=open('f1.txt','w')\n",
    "f.write(\"\\n\".join(l))\n",
    "f.close()"
   ]
  },
  {
   "cell_type": "code",
   "execution_count": 18,
   "metadata": {
    "collapsed": true
   },
   "outputs": [],
   "source": [
    "# Difference between write() and writelines()\n",
    "# writ(): it will accept only stings\n",
    "# writelines(): it will accept sequence of srings (ex: list & Tupples with strings)\n",
    "f=open('f1.txt','w')\n",
    "f.writelines(l)\n",
    "f.close()"
   ]
  },
  {
   "cell_type": "code",
   "execution_count": 19,
   "metadata": {
    "collapsed": false
   },
   "outputs": [
    {
     "name": "stdout",
     "output_type": "stream",
     "text": [
      "Python is a general-purpose interpreted, interactive, \n",
      "object-oriented, and high-level programming language. \n",
      "It was created by Guido van Rossum during 1985- 1990. \n",
      "Like Perl, Python source code is also available under the GNU General Public License (GPL). \n",
      "This tutorial gives enough understanding on Python programming language.\n"
     ]
    }
   ],
   "source": [
    "f=open('f1.txt')\n",
    "data = f.read()\n",
    "f.close()\n",
    "print data"
   ]
  },
  {
   "cell_type": "code",
   "execution_count": 20,
   "metadata": {
    "collapsed": false
   },
   "outputs": [
    {
     "name": "stdout",
     "output_type": "stream",
     "text": [
      "first time read data:  Python is a general-purpose interpreted, interactive, \n",
      "object-oriented, and high-level programming language. \n",
      "It was created by Guido van Rossum during 1985- 1990. \n",
      "Like Perl, Python source code is also available under the GNU General Public License (GPL). \n",
      "This tutorial gives enough understanding on Python programming language.\n",
      "second time read data:  \n"
     ]
    }
   ],
   "source": [
    "f=open('f1.txt')\n",
    "data = f.read()\n",
    "print \"first time read data: \",data\n",
    "data1 = f.read()\n",
    "print \"second time read data: \",data1\n",
    "f.close()"
   ]
  },
  {
   "cell_type": "code",
   "execution_count": 13,
   "metadata": {
    "collapsed": false
   },
   "outputs": [
    {
     "name": "stdout",
     "output_type": "stream",
     "text": [
      "first time read data:  python,java,c,cpp,php\n",
      "second time read data:  python,java,c,cpp,php\n"
     ]
    }
   ],
   "source": [
    "# Seek() function: it will move the curser for the file read operation\n",
    "# In general, once we read the file , if we want to read the same file it will start from the previously ended psition.\n",
    "# Nothing but last position in the given file\n",
    "# So if we try to read the document next time it will give the empty output..\n",
    "# In this case , we will use the seek() function...\n",
    "#ex:seek(0) ---> It will move the control to the initil position\n",
    "#ex:seek(10) ---> It will move the control to 10th index position in the given file\n",
    "\n",
    "f=open('f1.txt')\n",
    "data = f.read()\n",
    "print \"first time read data: \",data\n",
    "f.seek(0)\n",
    "data1 = f.read()\n",
    "print \"second time read data: \",data1\n",
    "f.close()"
   ]
  },
  {
   "cell_type": "code",
   "execution_count": 22,
   "metadata": {
    "collapsed": false
   },
   "outputs": [
    {
     "name": "stdout",
     "output_type": "stream",
     "text": [
      "first time read data:  Python is a general-purpose interpreted, interactive, \n",
      "object-oriented, and high-level programming language. \n",
      "It was created by Guido van Rossum during 1985- 1990. \n",
      "Like Perl, Python source code is also available under the GNU General Public License (GPL). \n",
      "This tutorial gives enough understanding on Python programming language.\n",
      "second time read data:  a general-purpose interpreted, interactive, \n",
      "object-oriented, and high-level programming language. \n",
      "It was created by Guido van Rossum during 1985- 1990. \n",
      "Like Perl, Python source code is also available under the GNU General Public License (GPL). \n",
      "This tutorial gives enough understanding on Python programming language.\n"
     ]
    }
   ],
   "source": [
    "f=open('f1.txt')\n",
    "data = f.read()\n",
    "print \"first time read data: \",data\n",
    "f.seek(10)\n",
    "data1 = f.read()\n",
    "print \"second time read data: \",data1\n",
    "f.close()"
   ]
  },
  {
   "cell_type": "code",
   "execution_count": 23,
   "metadata": {
    "collapsed": false
   },
   "outputs": [
    {
     "name": "stdout",
     "output_type": "stream",
     "text": [
      "first time read data:  Python is a general-purpose interpreted, interactive, \n",
      "object-oriented, and high-level programming language. \n",
      "It was created by Guido van Rossum during 1985- 1990. \n",
      "Like Perl, Python source code is also available under the GNU General Public License (GPL). \n",
      "This tutorial gives enough understanding on Python programming language.\n",
      "second time read data:  Python is a general-purpose interpreted, interactive, \n",
      "object-oriented, and high-level programming language. \n",
      "It was created by Guido van Rossum during 1985- 1990. \n",
      "Like Perl, Python source code is also available under the GNU General Public License (GPL). \n",
      "This tutorial gives enough understanding on Python programming language.\n"
     ]
    }
   ],
   "source": [
    "# If we dont have seek() function , then we need to open the file multiple time\n",
    "f=open('f1.txt')\n",
    "data = f.read()\n",
    "print \"first time read data: \",data\n",
    "f.close()\n",
    "f=open('f1.txt')\n",
    "data1 = f.read()\n",
    "print \"second time read data: \",data1\n",
    "f.close()"
   ]
  },
  {
   "cell_type": "code",
   "execution_count": 24,
   "metadata": {
    "collapsed": false
   },
   "outputs": [
    {
     "name": "stdout",
     "output_type": "stream",
     "text": [
      "first time read data:  purpose interpreted, interactive, \n",
      "object-oriented, and high-level programming language. \n",
      "It was created by Guido van Rossum during 1985- 1990. \n",
      "Like Perl, Python source code is also available under the GNU General Public License (GPL). \n",
      "This tutorial gives enough understanding on Python programming language.\n"
     ]
    }
   ],
   "source": [
    "f=open('f1.txt')\n",
    "f.seek(20)\n",
    "data = f.read()\n",
    "print \"first time read data: \",data\n",
    "f.close()\n"
   ]
  },
  {
   "cell_type": "code",
   "execution_count": 25,
   "metadata": {
    "collapsed": false
   },
   "outputs": [
    {
     "name": "stdout",
     "output_type": "stream",
     "text": [
      "Python is a general-purpose interpreted, interactive, \n",
      "\n",
      "object-oriented, and high-level programming language. \n",
      "\n"
     ]
    }
   ],
   "source": [
    "# Read: Read() function will read the data in the given file and return that data in string format\n",
    "# Read() function by default will read untill the EOF and returns that data\n",
    "# We can also send paramters as an integers , from where you want to read the file\n",
    "# Empty & negative paramters will always reads the EOF\n",
    "# Note: Read() functon will read the given file only once , if you truy to read the same file again ,\n",
    "# then it will displyas the empty string\n",
    "# To avoid above scenario, inorder to read the file again we will use seek() function\n",
    "# seek() : it will ccepts the paramaters, and based on the given parameter , it will move the curser to that point\n",
    "# Ex: seek(0)\n",
    "\n",
    "# Readline(): Readline() function will returns the first line of the content\n",
    "# i.e It will return the data untill it encounters the \\n\n",
    "# similarly it will returns each line with the iteration\n",
    "# If you want read the given file line by line then use readline() function\n",
    "\n",
    "f=open('f1.txt')\n",
    "print f.readline()\n",
    "print f.readline()"
   ]
  },
  {
   "cell_type": "code",
   "execution_count": 26,
   "metadata": {
    "collapsed": false
   },
   "outputs": [
    {
     "name": "stdout",
     "output_type": "stream",
     "text": [
      "['It was created by Guido van Rossum during 1985- 1990. \\n', 'Like Perl, Python source code is also available under the GNU General Public License (GPL). \\n', 'This tutorial gives enough understanding on Python programming language.']\n"
     ]
    }
   ],
   "source": [
    "# ReadLines(): Readlines() function will read the given data and returns the readed data into a list format\n",
    "# Readlines() is quiet similar to read()..\n",
    "# But Read() function will returns the given data as it is ,where as readlines(), \n",
    "# will returns the data into list & including \\n with every new line as shown in below\n",
    "print f.readlines()"
   ]
  },
  {
   "cell_type": "code",
   "execution_count": 27,
   "metadata": {
    "collapsed": false
   },
   "outputs": [
    {
     "name": "stdout",
     "output_type": "stream",
     "text": [
      "['Python is a general-purpose interpreted, interactive, \\n', 'object-oriented, and high-level programming language. \\n', 'It was created by Guido van Rossum during 1985- 1990. \\n', 'Like Perl, Python source code is also available under the GNU General Public License (GPL). \\n', 'This tutorial gives enough understanding on Python programming language.']\n"
     ]
    }
   ],
   "source": [
    "f=open('f1.txt')\n",
    "print f.readlines()\n"
   ]
  },
  {
   "cell_type": "code",
   "execution_count": 28,
   "metadata": {
    "collapsed": false
   },
   "outputs": [
    {
     "name": "stdout",
     "output_type": "stream",
     "text": [
      "Python is a general-purpose interpreted, interactive, \n",
      "\n",
      "object-oriented, and high-level programming language. \n",
      "\n",
      "['It was created by Guido van Rossum during 1985- 1990. \\n', 'Like Perl, Python source code is also available under the GNU General Public License (GPL). \\n', 'This tutorial gives enough understanding on Python programming language.']\n"
     ]
    }
   ],
   "source": [
    "# Readline() function we can call line by line\n",
    "f=open('f1.txt') \n",
    "print f.readline()\n",
    "print f.readline()\n",
    "print f.readlines()\n"
   ]
  },
  {
   "cell_type": "code",
   "execution_count": 29,
   "metadata": {
    "collapsed": false
   },
   "outputs": [
    {
     "name": "stdout",
     "output_type": "stream",
     "text": [
      "['Python is a general-purpose interpreted, interactive, \\n', 'object-oriented, and high-level programming language. \\n', 'It was created by Guido van Rossum during 1985- 1990. \\n', 'Like Perl, Python source code is also available under the GNU General Public License (GPL). \\n', 'This tutorial gives enough understanding on Python programming language.']\n",
      "[]\n"
     ]
    }
   ],
   "source": [
    "# If we call readlines() multiple times then it will prints the empty list as shown in below\n",
    "f=open('f1.txt')\n",
    "print f.readlines()\n",
    "print f.readlines()\n"
   ]
  },
  {
   "cell_type": "code",
   "execution_count": 30,
   "metadata": {
    "collapsed": false
   },
   "outputs": [
    {
     "data": {
      "text/plain": [
       "'Python is a general-purpose interpreted, interactive, \\nobject-oriented, and high-level programming language. \\nIt was created by Guido van Rossum during 1985- 1990. \\nLike Perl, Python source code is also available under the GNU General Public License (GPL). \\nThis tutorial gives enough understanding on Python programming language.'"
      ]
     },
     "execution_count": 30,
     "metadata": {},
     "output_type": "execute_result"
    }
   ],
   "source": [
    "# read() \n",
    "f=open('f1.txt')\n",
    "data = f.read()\n",
    "data"
   ]
  },
  {
   "cell_type": "code",
   "execution_count": 31,
   "metadata": {
    "collapsed": false
   },
   "outputs": [
    {
     "data": {
      "text/plain": [
       "['Python is a general-purpose interpreted, interactive, object-oriented, and high-level programming language. It was created by Guido van Rossum during 1985- 1990. Like Perl, Python source code is also available under the GNU General Public License (GPL). This tutorial gives enough understanding on Python programming language.']"
      ]
     },
     "execution_count": 31,
     "metadata": {},
     "output_type": "execute_result"
    }
   ],
   "source": [
    "# readlines()\n",
    "f=open('f1.txt')\n",
    "data = f.readlines()\n",
    "data"
   ]
  },
  {
   "cell_type": "code",
   "execution_count": 32,
   "metadata": {
    "collapsed": false
   },
   "outputs": [
    {
     "name": "stdout",
     "output_type": "stream",
     "text": [
      "0\n",
      "326\n",
      "326\n",
      "326\n"
     ]
    }
   ],
   "source": [
    "#tell(): tell() function will returns the current position of the file in integer format\n",
    "f=open('f1.txt')\n",
    "print f.tell()\n",
    "f.readline()\n",
    "print f.tell()\n",
    "f.readline()\n",
    "print f.tell()\n",
    "f.readlines()\n",
    "print f.tell()\n"
   ]
  },
  {
   "cell_type": "code",
   "execution_count": 34,
   "metadata": {
    "collapsed": false
   },
   "outputs": [
    {
     "name": "stdout",
     "output_type": "stream",
     "text": [
      "����\u0000\u0010JFIF\u0000\u0001\u0002\u0001\u0000`\u0000`\u0000\u0000��\u0012�Exif\u0000\u0000MM\u0000*\u0000\u0000\u0000\b\u0000\u0007\u00012\u0000\u0002\u0000\u0000\u0000\u0014\u0000\u0000\u0000bGF\u0000\u0003\u0000\u0000\u0000\u0001\u0000\u0004\u0000\u0000GI\u0000\u0003\u0000\u0000\u0000\u0001\u0000?\u0000\u0000��\u0000\u0002\u0000\u0000\u0000\u0016\u0000\u0000\u0000v��\u0000\u0001\u0000\u0000\u0000\u001c",
      "\u0000\u0000\u0000\u0000�\u001c",
      "\u0000\u0007\u0000\u0000\u0007�\u0000\u0000\u0000\u0000�i\u0000\u0004\u0000\u0000\u0000\u0001\u0000\u0000\u0000�\u0000\u0000\u0000�2009:03:12 13:48:39\u0000Microsoft Corporation\u0000\u0000\u0005�\u0003\u0000\u0002\u0000\u0000\u0000\u0014\u0000\u0000\u0000ΐ\u0004\u0000\u0002\u0000\u0000\u0000\u0014\u0000\u0000\u0000⒑\u0000\u0002\u0000\u0000\u0000\u000302\u0000\u0000��\u0000\u0002\u0000\u0000\u0000\u000302\u0000\u0000�\u001c",
      "\u0000\u0007\u0000\u0000\u0007�\u0000\u0000\u0000\u0000\u0000\u0000\u0000\u00002008:02:07 11:33:11\u00002008:02:07 11:33:11\u0000\u0000\u0005\u0001\u0003\u0000\u0003\u0000\u0000\u0000\u0001\u0000\u0006\u0000\u0000\u0001\n"
     ]
    }
   ],
   "source": [
    "# We can read different type of files using open() function\n",
    "# for ex: txt,xlsx,sls,csv,jpg,jpeg,mp4,mp3 etc....\n",
    "f=open('Tulips.jpg')\n",
    "data = f.read()\n",
    "print data"
   ]
  },
  {
   "cell_type": "code",
   "execution_count": 35,
   "metadata": {
    "collapsed": true
   },
   "outputs": [],
   "source": [
    "f=open('Tulips.jpg')\n",
    "data = f.read()\n",
    "f.close()\n",
    "f=open('t1.jpg','w')\n",
    "f.write(data)\n",
    "f.close()"
   ]
  },
  {
   "cell_type": "code",
   "execution_count": 36,
   "metadata": {
    "collapsed": true
   },
   "outputs": [],
   "source": [
    "# rb: read buffer \n",
    "# wb: write buffer()\n",
    "f=open('Tulips.jpg','rb')\n",
    "data = f.read()\n",
    "f.close()\n",
    "f=open('t1.jpg','wb')\n",
    "f.write(data)\n",
    "f.close()"
   ]
  },
  {
   "cell_type": "code",
   "execution_count": 37,
   "metadata": {
    "collapsed": false
   },
   "outputs": [
    {
     "ename": "TypeError",
     "evalue": "expected a string or other character buffer object",
     "output_type": "error",
     "traceback": [
      "\u001b[0;31m---------------------------------------------------------------------------\u001b[0m",
      "\u001b[0;31mTypeError\u001b[0m                                 Traceback (most recent call last)",
      "\u001b[0;32m<ipython-input-37-801b40e2607d>\u001b[0m in \u001b[0;36m<module>\u001b[0;34m()\u001b[0m\n\u001b[1;32m      1\u001b[0m \u001b[0mf\u001b[0m\u001b[1;33m=\u001b[0m\u001b[0mopen\u001b[0m\u001b[1;33m(\u001b[0m\u001b[1;34m'f1.txt'\u001b[0m\u001b[1;33m,\u001b[0m\u001b[1;34m'w'\u001b[0m\u001b[1;33m)\u001b[0m\u001b[1;33m\u001b[0m\u001b[0m\n\u001b[0;32m----> 2\u001b[0;31m \u001b[0mf\u001b[0m\u001b[1;33m.\u001b[0m\u001b[0mwrite\u001b[0m\u001b[1;33m(\u001b[0m\u001b[1;36m1234567\u001b[0m\u001b[1;33m)\u001b[0m\u001b[1;33m\u001b[0m\u001b[0m\n\u001b[0m\u001b[1;32m      3\u001b[0m \u001b[0mf\u001b[0m\u001b[1;33m.\u001b[0m\u001b[0mclose\u001b[0m\u001b[1;33m(\u001b[0m\u001b[1;33m)\u001b[0m\u001b[1;33m\u001b[0m\u001b[0m\n",
      "\u001b[0;31mTypeError\u001b[0m: expected a string or other character buffer object"
     ]
    }
   ],
   "source": [
    "# Note: File write operation will accept only string format\n",
    "f=open('f1.txt','w')\n",
    "f.write(1234567)\n",
    "f.close()"
   ]
  },
  {
   "cell_type": "code",
   "execution_count": 38,
   "metadata": {
    "collapsed": true
   },
   "outputs": [],
   "source": [
    "f=open('f1.txt','w')\n",
    "f.write(str(1234567))\n",
    "f.close()"
   ]
  },
  {
   "cell_type": "code",
   "execution_count": 39,
   "metadata": {
    "collapsed": false
   },
   "outputs": [
    {
     "ename": "TypeError",
     "evalue": "expected a string or other character buffer object",
     "output_type": "error",
     "traceback": [
      "\u001b[0;31m---------------------------------------------------------------------------\u001b[0m",
      "\u001b[0;31mTypeError\u001b[0m                                 Traceback (most recent call last)",
      "\u001b[0;32m<ipython-input-39-fb46eb61c0fc>\u001b[0m in \u001b[0;36m<module>\u001b[0;34m()\u001b[0m\n\u001b[1;32m      1\u001b[0m \u001b[0ml\u001b[0m\u001b[1;33m=\u001b[0m\u001b[1;33m[\u001b[0m\u001b[1;36m10\u001b[0m\u001b[1;33m,\u001b[0m\u001b[1;36m20\u001b[0m\u001b[1;33m,\u001b[0m\u001b[1;36m30\u001b[0m\u001b[1;33m,\u001b[0m\u001b[1;36m40\u001b[0m\u001b[1;33m,\u001b[0m\u001b[1;36m50\u001b[0m\u001b[1;33m]\u001b[0m\u001b[1;33m\u001b[0m\u001b[0m\n\u001b[1;32m      2\u001b[0m \u001b[0mf\u001b[0m\u001b[1;33m=\u001b[0m\u001b[0mopen\u001b[0m\u001b[1;33m(\u001b[0m\u001b[1;34m'f1.txt'\u001b[0m\u001b[1;33m,\u001b[0m\u001b[1;34m'w'\u001b[0m\u001b[1;33m)\u001b[0m\u001b[1;33m\u001b[0m\u001b[0m\n\u001b[0;32m----> 3\u001b[0;31m \u001b[0mf\u001b[0m\u001b[1;33m.\u001b[0m\u001b[0mwrite\u001b[0m\u001b[1;33m(\u001b[0m\u001b[0ml\u001b[0m\u001b[1;33m)\u001b[0m\u001b[1;33m\u001b[0m\u001b[0m\n\u001b[0m\u001b[1;32m      4\u001b[0m \u001b[0mf\u001b[0m\u001b[1;33m.\u001b[0m\u001b[0mclose\u001b[0m\u001b[1;33m(\u001b[0m\u001b[1;33m)\u001b[0m\u001b[1;33m\u001b[0m\u001b[0m\n",
      "\u001b[0;31mTypeError\u001b[0m: expected a string or other character buffer object"
     ]
    }
   ],
   "source": [
    "# file write operation will not accept list , it will accept only string format\n",
    "l=[10,20,30,40,50]\n",
    "f=open('f1.txt','w')\n",
    "f.write(l)\n",
    "f.close()"
   ]
  },
  {
   "cell_type": "code",
   "execution_count": 41,
   "metadata": {
    "collapsed": false
   },
   "outputs": [],
   "source": [
    "l=[10,20,30,40,50]\n",
    "f=open('f1.txt','w')\n",
    "f.write(str(l))\n",
    "f.close()"
   ]
  },
  {
   "cell_type": "code",
   "execution_count": 42,
   "metadata": {
    "collapsed": false
   },
   "outputs": [
    {
     "name": "stdout",
     "output_type": "stream",
     "text": [
      "<type 'str'>\n"
     ]
    }
   ],
   "source": [
    "f=open('f1.txt')\n",
    "data = f.read()\n",
    "print type(data)"
   ]
  },
  {
   "cell_type": "code",
   "execution_count": 44,
   "metadata": {
    "collapsed": false
   },
   "outputs": [],
   "source": [
    "# Picke Module: This module is very helpful to copying data from one file to another file\n",
    "# This module contains several functions , dump is one amoung them\n",
    "import pickle"
   ]
  },
  {
   "cell_type": "code",
   "execution_count": 45,
   "metadata": {
    "collapsed": true
   },
   "outputs": [],
   "source": [
    "data = [{'id':1,'name':'name1','sal':3},{'id':2,'name':'name2','sal':3},{'id':3,'name':'name3','sal':3}]"
   ]
  },
  {
   "cell_type": "code",
   "execution_count": 46,
   "metadata": {
    "collapsed": false
   },
   "outputs": [
    {
     "data": {
      "text/plain": [
       "[{'id': 1, 'name': 'name1', 'sal': 3},\n",
       " {'id': 2, 'name': 'name2', 'sal': 3},\n",
       " {'id': 3, 'name': 'name3', 'sal': 3}]"
      ]
     },
     "execution_count": 46,
     "metadata": {},
     "output_type": "execute_result"
    }
   ],
   "source": [
    "data"
   ]
  },
  {
   "cell_type": "code",
   "execution_count": 47,
   "metadata": {
    "collapsed": true
   },
   "outputs": [],
   "source": [
    "# dump(): Dump will works like a copy & paste\n",
    "# It will accept the 2 parameters 1.Data,2.File where it need to paste the given data..\n",
    "\n",
    "f=open('data.txt','w')\n",
    "data = [{'id':1,'name':'name1','sal':3},{'id':2,'name':'name2','sal':3},{'id':3,'name':'name3','sal':3}]\n",
    "import pickle\n",
    "pickle.dump(data,f)\n",
    "f.close()"
   ]
  },
  {
   "cell_type": "code",
   "execution_count": 48,
   "metadata": {
    "collapsed": false
   },
   "outputs": [
    {
     "name": "stdout",
     "output_type": "stream",
     "text": [
      "(lp0\n",
      "(dp1\n",
      "S'sal'\n",
      "p2\n",
      "I3\n",
      "sS'id'\n",
      "p3\n",
      "I1\n",
      "sS'name'\n",
      "p4\n",
      "S'name1'\n",
      "p5\n",
      "sa(dp6\n",
      "g2\n",
      "I3\n",
      "sg3\n",
      "I2\n",
      "sg4\n",
      "S'name2'\n",
      "p7\n",
      "sa(dp8\n",
      "g2\n",
      "I3\n",
      "sg3\n",
      "I3\n",
      "sg4\n",
      "S'name3'\n",
      "p9\n",
      "sa.\n"
     ]
    }
   ],
   "source": [
    "# When we perform dump operaton , then the out put will print like below..in jumbled format\n",
    "f=open('data.txt')\n",
    "data = f.read()\n",
    "print data"
   ]
  },
  {
   "cell_type": "code",
   "execution_count": 49,
   "metadata": {
    "collapsed": true
   },
   "outputs": [],
   "source": [
    "#load(): load() function is the part of pickle module\n",
    "# it will return or load the data as it is , with the datatype\n",
    "    \n",
    "f=open('data.txt')\n",
    "data = pickle.load(f)"
   ]
  },
  {
   "cell_type": "code",
   "execution_count": 50,
   "metadata": {
    "collapsed": false
   },
   "outputs": [
    {
     "data": {
      "text/plain": [
       "[{'id': 1, 'name': 'name1', 'sal': 3},\n",
       " {'id': 2, 'name': 'name2', 'sal': 3},\n",
       " {'id': 3, 'name': 'name3', 'sal': 3}]"
      ]
     },
     "execution_count": 50,
     "metadata": {},
     "output_type": "execute_result"
    }
   ],
   "source": [
    "# Advantage of Pickle Module:\n",
    "# Whenever we want to write the data as it is , and do not want to change the type of the data then dump() is very useful\n",
    "# dump() function will accept the all kind of data and when we retrieve the data , it will give the exact datatype..\n",
    "data"
   ]
  },
  {
   "cell_type": "code",
   "execution_count": 51,
   "metadata": {
    "collapsed": false
   },
   "outputs": [
    {
     "data": {
      "text/plain": [
       "list"
      ]
     },
     "execution_count": 51,
     "metadata": {},
     "output_type": "execute_result"
    }
   ],
   "source": [
    "type(data)"
   ]
  },
  {
   "cell_type": "code",
   "execution_count": null,
   "metadata": {
    "collapsed": true
   },
   "outputs": [],
   "source": []
  }
 ],
 "metadata": {
  "anaconda-cloud": {},
  "kernelspec": {
   "display_name": "Python [default]",
   "language": "python",
   "name": "python2"
  },
  "language_info": {
   "codemirror_mode": {
    "name": "ipython",
    "version": 2
   },
   "file_extension": ".py",
   "mimetype": "text/x-python",
   "name": "python",
   "nbconvert_exporter": "python",
   "pygments_lexer": "ipython2",
   "version": "2.7.12"
  }
 },
 "nbformat": 4,
 "nbformat_minor": 1
}
