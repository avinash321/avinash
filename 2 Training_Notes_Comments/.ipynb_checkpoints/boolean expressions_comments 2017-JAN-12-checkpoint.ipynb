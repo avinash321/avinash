{
 "cells": [
  {
   "cell_type": "code",
   "execution_count": 1,
   "metadata": {
    "collapsed": false
   },
   "outputs": [
    {
     "name": "stdout",
     "output_type": "stream",
     "text": [
      "30\n"
     ]
    }
   ],
   "source": [
    "#Boolean expressions:\n",
    "#boolean function will returns True if the condition is pass and returns False if the condition is fail\n",
    "#Let us take two variables 'a' and 'b' and will apply the conditional opraters on it.\n",
    "a=10\n",
    "b=20\n",
    "print a+b"
   ]
  },
  {
   "cell_type": "code",
   "execution_count": 2,
   "metadata": {
    "collapsed": false
   },
   "outputs": [
    {
     "name": "stdout",
     "output_type": "stream",
     "text": [
      "False\n"
     ]
    }
   ],
   "source": [
    "#We have following conditional operaters to apply the condition on variables\n",
    "#Greaterthan (>) on 'a' and 'b' (i.e: a>b) will returns False\n",
    "print a>b"
   ]
  },
  {
   "cell_type": "code",
   "execution_count": 3,
   "metadata": {
    "collapsed": false
   },
   "outputs": [
    {
     "name": "stdout",
     "output_type": "stream",
     "text": [
      "True\n"
     ]
    }
   ],
   "source": [
    "#Lessthan (<) on 'a' and 'b' (i.e: a<b) will returns True\n",
    "print a<b"
   ]
  },
  {
   "cell_type": "code",
   "execution_count": 4,
   "metadata": {
    "collapsed": false
   },
   "outputs": [
    {
     "name": "stdout",
     "output_type": "stream",
     "text": [
      "True\n"
     ]
    }
   ],
   "source": [
    "#Lessthan or equals (<=) on 'a' and 'b' (i.e: a<=b) will returns True\n",
    "print a<=b"
   ]
  },
  {
   "cell_type": "code",
   "execution_count": 5,
   "metadata": {
    "collapsed": false
   },
   "outputs": [
    {
     "name": "stdout",
     "output_type": "stream",
     "text": [
      "False\n"
     ]
    }
   ],
   "source": [
    "#Greaterhan or equals (>=) on 'a' and 'b' (i.e: a>=b) will returns False\n",
    "print a>=b"
   ]
  },
  {
   "cell_type": "code",
   "execution_count": 6,
   "metadata": {
    "collapsed": false
   },
   "outputs": [
    {
     "name": "stdout",
     "output_type": "stream",
     "text": [
      "False\n"
     ]
    }
   ],
   "source": [
    "# Double Equals: (==) is a conditional operater to check 'a' is equals to 'b'\n",
    "\n",
    "print a==b"
   ]
  },
  {
   "cell_type": "code",
   "execution_count": 7,
   "metadata": {
    "collapsed": false
   },
   "outputs": [
    {
     "name": "stdout",
     "output_type": "stream",
     "text": [
      "False\n"
     ]
    }
   ],
   "source": [
    "# is: 'IS' is a conditional operater to check 'a' is equals to 'b'\n",
    "# It is also similar to Double equals Operater , But there is some differnce between them.\n",
    "\n",
    "#Difference Between is and Double equals:\n",
    "\n",
    "#--> In case of Strings and Integers Is & Doule Equals functionality will be similar\n",
    "#a=10\n",
    "#b=10\n",
    "#a is b------------> Returns True\n",
    "#a==b------------> Returns True\n",
    "#----------------------------------------\n",
    "#a=”test”\n",
    "#b=”test”\n",
    "#a is b-----------> Returns True\n",
    "#a==b-----------> Returns True\n",
    "\n",
    "#--> But in case of list,Tupple,Dictionary :   Is & Doule Equals (==) functionality is NOT similar\n",
    "#a=[1,2,3,4]\n",
    "#b=[1,2,3,4]\n",
    "#a==b------------> Returns True\n",
    "#a is b------------> Returns False\n",
    "\n",
    "print a is b"
   ]
  },
  {
   "cell_type": "code",
   "execution_count": 8,
   "metadata": {
    "collapsed": false
   },
   "outputs": [
    {
     "name": "stdout",
     "output_type": "stream",
     "text": [
      "True\n"
     ]
    }
   ],
   "source": [
    "# in: 'in' is an operator that will search the given sub string in the actual string\n",
    "# if the sub string is found it will returns True , if not found it will returns False\n",
    "#--> 'in' operator is also used in the for loop also.\n",
    "print \"sub\" in \"actual substring\""
   ]
  },
  {
   "cell_type": "code",
   "execution_count": 9,
   "metadata": {
    "collapsed": true
   },
   "outputs": [],
   "source": [
    "# Lets create a variable 'a' and assigned it to 10.\n",
    "# So then memory will be allocated for the created object (i.e 10)\n",
    "# Now create anothe variable 'b' and assign it to the 'a'\n",
    "# So now 'a' and 'b' both are pointing to the same Object (i.e 10)\n",
    "# Noe the Reference count of the Object '10' is 2\n",
    "a=10\n",
    "b=a"
   ]
  },
  {
   "cell_type": "code",
   "execution_count": 10,
   "metadata": {
    "collapsed": false
   },
   "outputs": [
    {
     "data": {
      "text/plain": [
       "True"
      ]
     },
     "execution_count": 10,
     "metadata": {},
     "output_type": "execute_result"
    }
   ],
   "source": [
    "# Lets check 'a' and 'b' values with Double euals (==)\n",
    "# It is  returning True\n",
    "a==b"
   ]
  },
  {
   "cell_type": "code",
   "execution_count": 11,
   "metadata": {
    "collapsed": false
   },
   "outputs": [
    {
     "data": {
      "text/plain": [
       "True"
      ]
     },
     "execution_count": 11,
     "metadata": {},
     "output_type": "execute_result"
    }
   ],
   "source": [
    "# Lets check 'a' and 'b' values with 'is' Operator\n",
    "# It is also returning True\n",
    "a is b"
   ]
  },
  {
   "cell_type": "code",
   "execution_count": 12,
   "metadata": {
    "collapsed": true
   },
   "outputs": [],
   "source": [
    "# Lets assign the similar values to variable 'a' and 'b' seperately  (i.e: a=10 , b=20)\n",
    "a=10\n",
    "b=10"
   ]
  },
  {
   "cell_type": "code",
   "execution_count": 13,
   "metadata": {
    "collapsed": false
   },
   "outputs": [
    {
     "data": {
      "text/plain": [
       "True"
      ]
     },
     "execution_count": 13,
     "metadata": {},
     "output_type": "execute_result"
    }
   ],
   "source": [
    "# With individual assignment also , a is b returning True\n",
    "a is b"
   ]
  },
  {
   "cell_type": "code",
   "execution_count": 14,
   "metadata": {
    "collapsed": true
   },
   "outputs": [],
   "source": [
    "#Lets check the same scenario with the list\n",
    "l1=[1,2,3,4]\n",
    "l2=[1,2,3,4]"
   ]
  },
  {
   "cell_type": "code",
   "execution_count": 15,
   "metadata": {
    "collapsed": false
   },
   "outputs": [
    {
     "data": {
      "text/plain": [
       "True"
      ]
     },
     "execution_count": 15,
     "metadata": {},
     "output_type": "execute_result"
    }
   ],
   "source": [
    "l1 == l2"
   ]
  },
  {
   "cell_type": "code",
   "execution_count": 16,
   "metadata": {
    "collapsed": false
   },
   "outputs": [
    {
     "data": {
      "text/plain": [
       "False"
      ]
     },
     "execution_count": 16,
     "metadata": {},
     "output_type": "execute_result"
    }
   ],
   "source": [
    "# In the case of list l1==l2 returning True but li is l2 returning False\n",
    "# As stated above , In case of Integers & Strings Double Equals(==) & Is will function similar. So Returning True.\n",
    "# But in case of List,Tupple & Dictionary , Double Equals & Is will Not Similar. So l1 is l2 is returning False.\n",
    "l1 is l2"
   ]
  },
  {
   "cell_type": "code",
   "execution_count": 17,
   "metadata": {
    "collapsed": false
   },
   "outputs": [
    {
     "name": "stdout",
     "output_type": "stream",
     "text": [
      "140\n",
      "c= return value\n"
     ]
    }
   ],
   "source": [
    "#Function:\n",
    "# def: In python we will declare a function with the def keyword , and followed by the function name.\n",
    "# The function name is User defined.\n",
    "# The function should always contains a paranthesis () \n",
    "# The function declaration should always end with a column (:) \n",
    "# This column indicates the starting of the respective function block\n",
    "# Indentation: The statements  which are belongs to the function , should be Indented with Tab space.\n",
    "# In function block every statement should equally Indented.Otherwise it will return Indentation Error.\n",
    "# A function may also contains parameters based on our requirement.\n",
    "# Return : 'return ' is a keyword that will returns the function result to the functiona call.\n",
    "# When we call a function , if that function have any return value , we can store that returnd value from the function if we requires\n",
    "# return is optional, will use based on our requirement.\n",
    "\n",
    "def fun(a,b):\n",
    "    a=10+a\n",
    "    b=100+b\n",
    "    print a+b\n",
    "    return \"return value\"\n",
    "c=fun(10,20)\n",
    "print \"c=\",c"
   ]
  },
  {
   "cell_type": "code",
   "execution_count": 18,
   "metadata": {
    "collapsed": false
   },
   "outputs": [
    {
     "name": "stdout",
     "output_type": "stream",
     "text": [
      "c= 140\n"
     ]
    }
   ],
   "source": [
    "def fun(a,b):\n",
    "    a=10+a\n",
    "    b=100+b\n",
    "    return a+b\n",
    "c=fun(10,20)\n",
    "print \"c=\",c"
   ]
  },
  {
   "cell_type": "code",
   "execution_count": 1,
   "metadata": {
    "collapsed": true
   },
   "outputs": [],
   "source": [
    "# bool(condition) is the syntax for boolean type.\n",
    "# So it will returns True or False based on the condition result.\n",
    "c=bool(10>20)"
   ]
  },
  {
   "cell_type": "code",
   "execution_count": 20,
   "metadata": {
    "collapsed": false
   },
   "outputs": [
    {
     "data": {
      "text/plain": [
       "False"
      ]
     },
     "execution_count": 20,
     "metadata": {},
     "output_type": "execute_result"
    }
   ],
   "source": [
    "c"
   ]
  },
  {
   "cell_type": "code",
   "execution_count": 21,
   "metadata": {
    "collapsed": true
   },
   "outputs": [],
   "source": [
    "a=10\n",
    "b=20"
   ]
  },
  {
   "cell_type": "code",
   "execution_count": 22,
   "metadata": {
    "collapsed": false
   },
   "outputs": [
    {
     "data": {
      "text/plain": [
       "False"
      ]
     },
     "execution_count": 22,
     "metadata": {},
     "output_type": "execute_result"
    }
   ],
   "source": [
    "#Comparing Stings with Integers:\n",
    "# A String is always Greater than any Integer (i.e: 1234,-323,1.23,-3.33,0,None)\n",
    "10>\"2\""
   ]
  },
  {
   "cell_type": "code",
   "execution_count": 6,
   "metadata": {
    "collapsed": false
   },
   "outputs": [
    {
     "data": {
      "text/plain": [
       "True"
      ]
     },
     "execution_count": 6,
     "metadata": {},
     "output_type": "execute_result"
    }
   ],
   "source": [
    "# Here 1 is treated as String, but not Integer.\n",
    "# So \"1\" is greater than 100 will returns True \n",
    "\"1\">100"
   ]
  },
  {
   "cell_type": "code",
   "execution_count": 7,
   "metadata": {
    "collapsed": false
   },
   "outputs": [
    {
     "data": {
      "text/plain": [
       "True"
      ]
     },
     "execution_count": 7,
     "metadata": {},
     "output_type": "execute_result"
    }
   ],
   "source": [
    "# Even Empty String is greater than any Integer will returns True \n",
    "\"\">100"
   ]
  },
  {
   "cell_type": "code",
   "execution_count": 9,
   "metadata": {
    "collapsed": false
   },
   "outputs": [
    {
     "data": {
      "text/plain": [
       "False"
      ]
     },
     "execution_count": 9,
     "metadata": {},
     "output_type": "execute_result"
    }
   ],
   "source": [
    "# In the case of comparing two strings , (i.e:Strings with Integer vlue) , \n",
    "#First it will convert the  Integer Number into Binary form('0' and '1') & then it will performs the comparison\n",
    "# And it will take only first number from the total Number (i.e : in 32 , it will consider only '3')\n",
    "# For example (\"12\"<\"2) : In Binary form 1 represents ----->  0001 and 2 represents as------>0010\n",
    "\"12\"<\"2\""
   ]
  },
  {
   "cell_type": "code",
   "execution_count": 12,
   "metadata": {
    "collapsed": false
   },
   "outputs": [
    {
     "data": {
      "text/plain": [
       "('12', '2', '012', '1000', '13')"
      ]
     },
     "execution_count": 12,
     "metadata": {},
     "output_type": "execute_result"
    }
   ],
   "source": [
    "\"12\", \"2\",\"012\",\"1000\",\"13\""
   ]
  },
  {
   "cell_type": "code",
   "execution_count": 13,
   "metadata": {
    "collapsed": false
   },
   "outputs": [
    {
     "data": {
      "text/plain": [
       "False"
      ]
     },
     "execution_count": 13,
     "metadata": {},
     "output_type": "execute_result"
    }
   ],
   "source": [
    "# bool() will always returns True with any Number except '0' and None\n",
    "bool(0)"
   ]
  },
  {
   "cell_type": "code",
   "execution_count": 27,
   "metadata": {
    "collapsed": false
   },
   "outputs": [
    {
     "data": {
      "text/plain": [
       "False"
      ]
     },
     "execution_count": 27,
     "metadata": {},
     "output_type": "execute_result"
    }
   ],
   "source": [
    "bool(10>20)"
   ]
  },
  {
   "cell_type": "code",
   "execution_count": 28,
   "metadata": {
    "collapsed": false
   },
   "outputs": [
    {
     "data": {
      "text/plain": [
       "False"
      ]
     },
     "execution_count": 28,
     "metadata": {},
     "output_type": "execute_result"
    }
   ],
   "source": [
    "bool(0)"
   ]
  },
  {
   "cell_type": "code",
   "execution_count": 29,
   "metadata": {
    "collapsed": false
   },
   "outputs": [
    {
     "data": {
      "text/plain": [
       "True"
      ]
     },
     "execution_count": 29,
     "metadata": {},
     "output_type": "execute_result"
    }
   ],
   "source": [
    "## bool() : will always returns True with Negative Numbers also\n",
    "bool(-10)"
   ]
  },
  {
   "cell_type": "code",
   "execution_count": 30,
   "metadata": {
    "collapsed": false
   },
   "outputs": [
    {
     "data": {
      "text/plain": [
       "True"
      ]
     },
     "execution_count": 30,
     "metadata": {},
     "output_type": "execute_result"
    }
   ],
   "source": [
    "bool(10)"
   ]
  },
  {
   "cell_type": "code",
   "execution_count": 31,
   "metadata": {
    "collapsed": false
   },
   "outputs": [
    {
     "data": {
      "text/plain": [
       "True"
      ]
     },
     "execution_count": 31,
     "metadata": {},
     "output_type": "execute_result"
    }
   ],
   "source": [
    "# bool() : will always returns True with String\n",
    "bool(\"python\")"
   ]
  },
  {
   "cell_type": "code",
   "execution_count": 32,
   "metadata": {
    "collapsed": false
   },
   "outputs": [
    {
     "data": {
      "text/plain": [
       "False"
      ]
     },
     "execution_count": 32,
     "metadata": {},
     "output_type": "execute_result"
    }
   ],
   "source": [
    "# bool() : will returns False with Empty String and None\n",
    "bool(\"\")"
   ]
  },
  {
   "cell_type": "code",
   "execution_count": 33,
   "metadata": {
    "collapsed": false,
    "scrolled": true
   },
   "outputs": [
    {
     "data": {
      "text/plain": [
       "True"
      ]
     },
     "execution_count": 33,
     "metadata": {},
     "output_type": "execute_result"
    }
   ],
   "source": [
    "bool(\"0\")"
   ]
  },
  {
   "cell_type": "code",
   "execution_count": 16,
   "metadata": {
    "collapsed": false
   },
   "outputs": [
    {
     "data": {
      "text/plain": [
       "True"
      ]
     },
     "execution_count": 16,
     "metadata": {},
     "output_type": "execute_result"
    }
   ],
   "source": [
    "# Multiple Conditions:\n",
    "#we can write the more than one conditions using AND , OR operaters\n",
    "\n",
    "#AND : It will return True when both conditions are True\n",
    "#if (a>b and a>c):\n",
    "\n",
    "#OR: It will return False when both conditions are False\n",
    "#if(a>b or a>c):\n",
    "\n",
    "10<20 and 1<2"
   ]
  },
  {
   "cell_type": "code",
   "execution_count": 35,
   "metadata": {
    "collapsed": false
   },
   "outputs": [
    {
     "data": {
      "text/plain": [
       "False"
      ]
     },
     "execution_count": 35,
     "metadata": {},
     "output_type": "execute_result"
    }
   ],
   "source": [
    "#Scenario 1:\n",
    "#if (a>b and a>c and a>d and a>e) --------------> valid\n",
    "#if (a>b or a>c or a>d or a>e) -------------------->  Invalid Syntax \n",
    "\n",
    "#Scenario 2:\n",
    "#if(1 and 2 and 3 and 4)------------------------> Returns True\n",
    "#if(1 and 2 and 3 and 0)------------------------> Returns False\n",
    "#if(0 and 0 and 0 and 0)------------------------> Returns False\n",
    "\n",
    "#if(1 or 2 or 3 or 4)---------------------------> Returns True\n",
    "#if(1 or 2 or 0 or 4)---------------------------> Returns True\n",
    "#if (0 or 0 or 0 or 0)---------------------------> Invalid Syntax\n",
    "\n",
    "10<20 and 1>2"
   ]
  },
  {
   "cell_type": "code",
   "execution_count": 37,
   "metadata": {
    "collapsed": false
   },
   "outputs": [
    {
     "data": {
      "text/plain": [
       "True"
      ]
     },
     "execution_count": 37,
     "metadata": {},
     "output_type": "execute_result"
    }
   ],
   "source": [
    "10<20 or 1>2"
   ]
  },
  {
   "cell_type": "code",
   "execution_count": 38,
   "metadata": {
    "collapsed": true
   },
   "outputs": [],
   "source": [
    "# if if else if else if:\n",
    "#Whenever we want to exeute some statements not every time but only based on some condition , \n",
    "#then we will go for Conditional statements.\n",
    "#Types:\n",
    "#--> if\n",
    "#--> if else\n",
    "#--> if else if\n",
    "\n",
    "#if Condition:\n",
    "#syntax:\n",
    "#if(a>b):\n",
    "#    statement 1\n",
    "#    statement 2"
   ]
  },
  {
   "cell_type": "code",
   "execution_count": 39,
   "metadata": {
    "collapsed": false
   },
   "outputs": [
    {
     "name": "stdout",
     "output_type": "stream",
     "text": [
      "program strted\n",
      "else block started\n",
      "10>20 is False\n",
      "end of else block\n",
      "other sttements in program\n",
      "program ended\n"
     ]
    }
   ],
   "source": [
    "#Ifelse:\n",
    "#whenever we want to execte some statements in our program by applying condition & \n",
    "#if the condition fails we are expecting some other statements to execute (Not Main Block) ,\n",
    "#then we will use the else block.\n",
    "\n",
    "#--> In Simple words, else block will be excuted , when our conditions fails\n",
    "#--> An else block will be always followed by an If block\n",
    "\n",
    "print \"program strted\"\n",
    "if 10>20:\n",
    "    print \"if block started\"\n",
    "    print \"10>20 is True\"\n",
    "    print \"if block ended\"\n",
    "else:\n",
    "    print \"else block started\"\n",
    "    print \"10>20 is False\"\n",
    "    print \"end of else block\"\n",
    "\n",
    "print \"other sttements in program\"\n",
    "print \"program ended\"\n",
    "\n",
    "# Here the condition 10>20 is False. So  the conditioned failed.\n",
    "# So , here the if block is skipped.\n",
    "# And the else is Executed"
   ]
  },
  {
   "cell_type": "code",
   "execution_count": 40,
   "metadata": {
    "collapsed": false
   },
   "outputs": [
    {
     "name": "stdout",
     "output_type": "stream",
     "text": [
      "Menu:\n",
      "1. Windows\n",
      "2. Linux\n",
      "3. Mac\n"
     ]
    }
   ],
   "source": [
    "# Printing the text like below by using \\n\n",
    "# \\n is treated as single character inpython\n",
    "# it will print a new line inthe program execution\n",
    "'''\n",
    "Menu:\n",
    "1. windows\n",
    "2. Linux\n",
    "3. Mac\n",
    "'''\n",
    "print \"Menu:\\n1. Windows\\n2. Linux\\n3. Mac\""
   ]
  },
  {
   "cell_type": "code",
   "execution_count": 41,
   "metadata": {
    "collapsed": false
   },
   "outputs": [
    {
     "name": "stdout",
     "output_type": "stream",
     "text": [
      "Menu:\n",
      "1. Windows\n",
      "2. Linux\n",
      "3. Mac\n",
      "Enter an option: 1\n"
     ]
    }
   ],
   "source": [
    "# Here we are taking the user input using raw_input ()\n",
    "# And storing that value into other variable 'opt'\n",
    "'''\n",
    "Menu:\n",
    "1. windows\n",
    "2. Linux\n",
    "3. Mac\n",
    "'''\n",
    "print \"Menu:\\n1. Windows\\n2. Linux\\n3. Mac\"\n",
    "opt = raw_input(\"Enter an option: \")\n"
   ]
  },
  {
   "cell_type": "code",
   "execution_count": 42,
   "metadata": {
    "collapsed": false
   },
   "outputs": [
    {
     "data": {
      "text/plain": [
       "'1'"
      ]
     },
     "execution_count": 42,
     "metadata": {},
     "output_type": "execute_result"
    }
   ],
   "source": [
    "# Based on this 'opt' variable , we will apply the conditions\n",
    "opt"
   ]
  },
  {
   "cell_type": "code",
   "execution_count": 44,
   "metadata": {
    "collapsed": false
   },
   "outputs": [
    {
     "name": "stdout",
     "output_type": "stream",
     "text": [
      "program started\n",
      "Menu:\n",
      "1. Windows\n",
      "2. Linux\n",
      "3. Mac\n",
      "Enter an option: 1\n",
      "windows selected\n",
      "other statements in program\n",
      "program ended\n"
     ]
    }
   ],
   "source": [
    "# This program will shows the set of operating systems with numbers as options.\n",
    "# And it take the input from the user, based on the user input , it will print the result. \n",
    "'''\n",
    "Menu:\n",
    "1. windows\n",
    "2. Linux\n",
    "3. Mac\n",
    "'''\n",
    "print \"program started\"\n",
    "print \"Menu:\\n1. Windows\\n2. Linux\\n3. Mac\"\n",
    "opt = raw_input(\"Enter an option: \")\n",
    "\n",
    "if opt == \"1\":\n",
    "    print \"windows selected\"\n",
    "if opt == \"2\":\n",
    "    print \"Linux selected\"\n",
    "if opt ==\"3\":\n",
    "    print \"Mac selected\"\n",
    "    \n",
    "\n",
    "print \"other statements in program\"\n",
    "print \"program ended\"\n",
    "# Here we selected 1 ----> so \"windows selected\" is printing\n",
    "# And remaining conditions are failed."
   ]
  },
  {
   "cell_type": "code",
   "execution_count": 45,
   "metadata": {
    "collapsed": false
   },
   "outputs": [
    {
     "name": "stdout",
     "output_type": "stream",
     "text": [
      "program started\n",
      "Menu:\n",
      "1. Windows\n",
      "2. Linux\n",
      "3. Mac\n",
      "Enter an option: 2\n",
      "Linux selected\n",
      "other statements in program\n",
      "program ended\n"
     ]
    }
   ],
   "source": [
    "# Here we selected 2 ----> so \"Linux selected\" is printing\n",
    "# And remaining conditions are failed.\n",
    "'''\n",
    "Menu:\n",
    "1. windows\n",
    "2. Linux\n",
    "3. Mac\n",
    "'''\n",
    "print \"program started\"\n",
    "print \"Menu:\\n1. Windows\\n2. Linux\\n3. Mac\"\n",
    "opt = raw_input(\"Enter an option: \")\n",
    "\n",
    "if opt == \"1\":\n",
    "    print \"windows selected\"\n",
    "if opt == \"2\":\n",
    "    print \"Linux selected\"\n",
    "if opt ==\"3\":\n",
    "    print \"Mac selected\"\n",
    "    \n",
    "\n",
    "print \"other statements in program\"\n",
    "print \"program ended\""
   ]
  },
  {
   "cell_type": "code",
   "execution_count": 46,
   "metadata": {
    "collapsed": false
   },
   "outputs": [
    {
     "name": "stdout",
     "output_type": "stream",
     "text": [
      "program started\n",
      "Menu:\n",
      "1. Windows\n",
      "2. Linux\n",
      "3. Mac\n",
      "Enter an option: 3\n",
      "Mac selected\n",
      "other statements in program\n",
      "program ended\n"
     ]
    }
   ],
   "source": [
    "# Here we selected 3 ----> so \"Mac selected\" is printing\n",
    "# And remaining conditions are failed.\n",
    "'''\n",
    "Menu:\n",
    "1. windows\n",
    "2. Linux\n",
    "3. Mac\n",
    "'''\n",
    "print \"program started\"\n",
    "print \"Menu:\\n1. Windows\\n2. Linux\\n3. Mac\"\n",
    "opt = raw_input(\"Enter an option: \")\n",
    "\n",
    "if opt == \"1\":\n",
    "    print \"windows selected\"\n",
    "if opt == \"2\":\n",
    "    print \"Linux selected\"\n",
    "if opt ==\"3\":\n",
    "    print \"Mac selected\"\n",
    "    \n",
    "\n",
    "print \"other statements in program\"\n",
    "print \"program ended\""
   ]
  },
  {
   "cell_type": "code",
   "execution_count": 47,
   "metadata": {
    "collapsed": false
   },
   "outputs": [
    {
     "name": "stdout",
     "output_type": "stream",
     "text": [
      "program started\n",
      "Menu:\n",
      "1. Windows\n",
      "2. Linux\n",
      "3. Mac\n",
      "Enter an option: 4\n",
      "other statements in program\n",
      "program ended\n"
     ]
    }
   ],
   "source": [
    "# This program will also robust with the unwanted / Unexpected input number from the user\n",
    "'''\n",
    "Menu:\n",
    "1. windows\n",
    "2. Linux\n",
    "3. Mac\n",
    "'''\n",
    "print \"program started\"\n",
    "print \"Menu:\\n1. Windows\\n2. Linux\\n3. Mac\"\n",
    "opt = raw_input(\"Enter an option: \")\n",
    "\n",
    "if opt == \"1\":\n",
    "    print \"windows selected\"\n",
    "if opt == \"2\":\n",
    "    print \"Linux selected\"\n",
    "if opt == \"3\":\n",
    "    print \"Mac selected\"\n",
    "    \n",
    "\n",
    "print \"other statements in program\"\n",
    "print \"program ended\""
   ]
  },
  {
   "cell_type": "code",
   "execution_count": 48,
   "metadata": {
    "collapsed": false
   },
   "outputs": [
    {
     "name": "stdout",
     "output_type": "stream",
     "text": [
      "program started\n",
      "Menu:\n",
      "1. Windows\n",
      "2. Linux\n",
      "3. Mac\n",
      "Enter an option: 2\n",
      "Linux selected\n",
      "wrong option selected\n",
      "other statements in program\n",
      "program ended\n"
     ]
    }
   ],
   "source": [
    "# If we have multiple If blocks  then we need to write multiple respective else blocks.\n",
    "# And if we write only one else block after multiple If blocks , \n",
    "# then that else block will be work for only last If block. And for the remaining If blocks , there is no else block.\n",
    "'''\n",
    "Menu:\n",
    "1. windows\n",
    "2. Linux\n",
    "3. Mac\n",
    "'''\n",
    "print \"program started\"\n",
    "print \"Menu:\\n1. Windows\\n2. Linux\\n3. Mac\"\n",
    "opt = raw_input(\"Enter an option: \")\n",
    "\n",
    "if opt == \"1\":\n",
    "    print \"windows selected\"\n",
    "if opt == \"2\":\n",
    "    print \"Linux selected\"\n",
    "if opt ==\"3\":\n",
    "    print \"Mac selected\"\n",
    "else:\n",
    "    print \"wrong option selected\"\n",
    "    \n",
    "\n",
    "print \"other statements in program\"\n",
    "print \"program ended\"\n",
    "# Here the 2nd If statement is passed , so \"Linux selected\" is printed\n",
    "#But else block (\"wrong option selected\") also printed\n",
    "# Because the third If block (if opt ==\"3\":) is failed . So The respective else block is executed."
   ]
  },
  {
   "cell_type": "code",
   "execution_count": 49,
   "metadata": {
    "collapsed": false
   },
   "outputs": [
    {
     "name": "stdout",
     "output_type": "stream",
     "text": [
      "program started\n",
      "Menu:\n",
      "1. Windows\n",
      "2. Linux\n",
      "3. Mac\n",
      "Enter an option: 2\n",
      "Linux selected\n",
      "other statements in program\n",
      "program ended\n"
     ]
    }
   ],
   "source": [
    "# Here we selected 2 ----> so \"Linux selected\" is printing\n",
    "# And remaining conditions are failed.\n",
    "'''\n",
    "Menu:\n",
    "1. windows\n",
    "2. Linux\n",
    "3. Mac\n",
    "'''\n",
    "print \"program started\"\n",
    "print \"Menu:\\n1. Windows\\n2. Linux\\n3. Mac\"\n",
    "opt = raw_input(\"Enter an option: \")\n",
    "\n",
    "if opt == \"1\":\n",
    "    print \"windows selected\"\n",
    "elif opt == \"2\":\n",
    "    print \"Linux selected\"\n",
    "elif opt ==\"3\":\n",
    "    print \"Mac selected\"\n",
    "else:\n",
    "    print \"wrong option selected\"\n",
    "    \n",
    "\n",
    "print \"other statements in program\"\n",
    "print \"program ended\""
   ]
  },
  {
   "cell_type": "code",
   "execution_count": 50,
   "metadata": {
    "collapsed": false
   },
   "outputs": [
    {
     "name": "stdout",
     "output_type": "stream",
     "text": [
      "program started\n",
      "Menu:\n",
      "1. Windows\n",
      "2. Linux\n",
      "3. Mac\n",
      "Enter an option: 4\n",
      "wrong option selected\n",
      "other statements in program\n",
      "program ended\n"
     ]
    }
   ],
   "source": [
    "'''\n",
    "if else if:\n",
    "When ever we want to verify multiple conditions one by one and once ,any one of If condition pass, \n",
    "then if we want to ignore / skip remaining if conditions , then we will use if else if.\n",
    "--> in simple words, veryfying something based on multiple conditions untill it is true...\n",
    "    and if no condition is passed , then it will goes to the final else block, but it is also optional.\n",
    "--> But here the else block will be respective to all the If blocks.\n",
    "--> else block will be executed only when all the condition are failed.\n",
    "--> In if else if implementation, first If block will be started as normal , simple if i.e if(a>b):\n",
    "--> Remaining if blocks will be started as elif(a>b):\n",
    "--> And finally after all else if blocks , we will write the single if block ,\n",
    "    that going to be excute if all the if conditions are fails. And it is Optional to write an else block.\n",
    "'''\n",
    "'''\n",
    "Menu:\n",
    "1. windows\n",
    "2. Linux\n",
    "3. Mac\n",
    "'''\n",
    "print \"program started\"\n",
    "print \"Menu:\\n1. Windows\\n2. Linux\\n3. Mac\"\n",
    "opt = raw_input(\"Enter an option: \")\n",
    "\n",
    "if opt == \"1\":\n",
    "    print \"windows selected\"\n",
    "elif opt == \"2\":\n",
    "    print \"Linux selected\"\n",
    "elif opt ==\"3\":\n",
    "    print \"Mac selected\"\n",
    "else:\n",
    "    print \"wrong option selected\"\n",
    "    \n",
    "\n",
    "print \"other statements in program\"\n",
    "print \"program ended\""
   ]
  },
  {
   "cell_type": "code",
   "execution_count": 51,
   "metadata": {
    "collapsed": true
   },
   "outputs": [],
   "source": [
    "#looping statements\n",
    "# for while"
   ]
  },
  {
   "cell_type": "code",
   "execution_count": null,
   "metadata": {
    "collapsed": true
   },
   "outputs": [],
   "source": [
    "print \"program started\"\n",
    "i=0\n",
    "while i<10:\n",
    "    print \"iteration started\"\n",
    "    print i\n",
    "    print \"iteration ended\"\n",
    "\n",
    "print \"other statements in program\"\n",
    "print \"program ended\""
   ]
  },
  {
   "cell_type": "code",
   "execution_count": 52,
   "metadata": {
    "collapsed": false
   },
   "outputs": [
    {
     "name": "stdout",
     "output_type": "stream",
     "text": [
      "program started\n",
      "iteration started\n",
      "0\n",
      "iteration ended\n",
      "iteration started\n",
      "1\n",
      "iteration ended\n",
      "iteration started\n",
      "2\n",
      "iteration ended\n",
      "other statements in program\n",
      "program ended\n"
     ]
    }
   ],
   "source": [
    "print \"program started\"\n",
    "i=0\n",
    "while i<3:\n",
    "    print \"iteration started\"\n",
    "    print i\n",
    "    i=i+1\n",
    "    print \"iteration ended\"\n",
    "\n",
    "print \"other statements in program\"\n",
    "print \"program ended\""
   ]
  },
  {
   "cell_type": "code",
   "execution_count": 53,
   "metadata": {
    "collapsed": false
   },
   "outputs": [
    {
     "name": "stdout",
     "output_type": "stream",
     "text": [
      "program started\n",
      "iteration started\n",
      "a\n",
      "iteration ended\n",
      "iteration started\n",
      "b\n",
      "iteration ended\n",
      "iteration started\n",
      "c\n",
      "iteration ended\n",
      "other statements in program\n",
      "program ended\n"
     ]
    }
   ],
   "source": [
    "print \"program started\"\n",
    "for i in \"abc\":\n",
    "    print \"iteration started\"\n",
    "    print i\n",
    "    print \"iteration ended\"\n",
    "\n",
    "print \"other statements in program\"\n",
    "print \"program ended\""
   ]
  },
  {
   "cell_type": "code",
   "execution_count": 54,
   "metadata": {
    "collapsed": true
   },
   "outputs": [],
   "source": [
    "# looping control statements: break continue"
   ]
  },
  {
   "cell_type": "code",
   "execution_count": 55,
   "metadata": {
    "collapsed": false
   },
   "outputs": [
    {
     "name": "stdout",
     "output_type": "stream",
     "text": [
      "program started\n",
      "Enter sequence to iterate: python\n",
      "iteration started\n",
      "p\n",
      "iteration ended\n",
      "iteration started\n",
      "y\n",
      "iteration ended\n",
      "iteration started\n",
      "t\n",
      "iteration ended\n",
      "iteration started\n",
      "h\n",
      "iteration ended\n",
      "iteration started\n",
      "o\n",
      "iteration ended\n",
      "iteration started\n",
      "n\n",
      "iteration ended\n",
      "other statements in program\n",
      "program ended\n"
     ]
    }
   ],
   "source": [
    "print \"program started\"\n",
    "s=raw_input(\"Enter sequence to iterate: \")\n",
    "for i in s:\n",
    "    print \"iteration started\"\n",
    "    print i\n",
    "    print \"iteration ended\"\n",
    "\n",
    "print \"other statements in program\"\n",
    "print \"program ended\""
   ]
  },
  {
   "cell_type": "code",
   "execution_count": 56,
   "metadata": {
    "collapsed": false
   },
   "outputs": [
    {
     "name": "stdout",
     "output_type": "stream",
     "text": [
      "program started\n",
      "Enter sequence to iterate: abc def\n",
      "iteration started\n",
      "a\n",
      "iteration ended\n",
      "iteration started\n",
      "b\n",
      "iteration ended\n",
      "iteration started\n",
      "c\n",
      "iteration ended\n",
      "iteration started\n",
      " \n",
      "other statements in program\n",
      "program ended\n"
     ]
    }
   ],
   "source": [
    "print \"program started\"\n",
    "s=raw_input(\"Enter sequence to iterate: \")\n",
    "for i in s:\n",
    "    print \"iteration started\"\n",
    "    print i\n",
    "    if i == \" \":\n",
    "        break\n",
    "    print \"iteration ended\"\n",
    "\n",
    "print \"other statements in program\"\n",
    "print \"program ended\""
   ]
  },
  {
   "cell_type": "code",
   "execution_count": 57,
   "metadata": {
    "collapsed": false
   },
   "outputs": [
    {
     "name": "stdout",
     "output_type": "stream",
     "text": [
      "program started\n",
      "Enter sequence to iterate: abc def\n",
      "iteration started\n",
      "a\n",
      "iteration ended\n",
      "iteration started\n",
      "b\n",
      "iteration ended\n",
      "iteration started\n",
      "c\n",
      "iteration ended\n",
      "iteration started\n",
      "other statements in program\n",
      "program ended\n"
     ]
    }
   ],
   "source": [
    "print \"program started\"\n",
    "s=raw_input(\"Enter sequence to iterate: \")\n",
    "for i in s:\n",
    "    print \"iteration started\"\n",
    "    if i == \" \":\n",
    "        break\n",
    "    print i\n",
    "    print \"iteration ended\"\n",
    "\n",
    "print \"other statements in program\"\n",
    "print \"program ended\""
   ]
  },
  {
   "cell_type": "code",
   "execution_count": 59,
   "metadata": {
    "collapsed": false
   },
   "outputs": [
    {
     "name": "stdout",
     "output_type": "stream",
     "text": [
      "program started\n",
      "Enter sequence to iterate: abc def\n",
      "iteration started\n",
      "a\n",
      "iteration ended\n",
      "iteration started\n",
      "b\n",
      "iteration ended\n",
      "iteration started\n",
      "c\n",
      "iteration ended\n",
      "iteration started\n",
      " \n",
      "iteration ended\n",
      "iteration started\n",
      "d\n",
      "iteration ended\n",
      "iteration started\n",
      "e\n",
      "iteration ended\n",
      "iteration started\n",
      "f\n",
      "iteration ended\n",
      "other statements in program\n",
      "program ended\n"
     ]
    }
   ],
   "source": [
    "print \"program started\"\n",
    "s=raw_input(\"Enter sequence to iterate: \")\n",
    "for i in s:\n",
    "    print \"iteration started\"\n",
    "    print i\n",
    "    print \"iteration ended\"\n",
    "    continue\n",
    "\n",
    "print \"other statements in program\"\n",
    "print \"program ended\""
   ]
  },
  {
   "cell_type": "code",
   "execution_count": 60,
   "metadata": {
    "collapsed": false
   },
   "outputs": [
    {
     "name": "stdout",
     "output_type": "stream",
     "text": [
      "program started\n",
      "Enter sequence to iterate: a b c\n",
      "iteration started\n",
      "a\n",
      "iteration ended\n",
      "iteration started\n",
      "iteration started\n",
      "b\n",
      "iteration ended\n",
      "iteration started\n",
      "iteration started\n",
      "c\n",
      "iteration ended\n",
      "other statements in program\n",
      "program ended\n"
     ]
    }
   ],
   "source": [
    "print \"program started\"\n",
    "s=raw_input(\"Enter sequence to iterate: \")\n",
    "for i in s:\n",
    "    print \"iteration started\"\n",
    "    if i== \" \":\n",
    "        continue\n",
    "    print i\n",
    "    print \"iteration ended\"\n",
    "print \"other statements in program\"\n",
    "print \"program ended\""
   ]
  },
  {
   "cell_type": "code",
   "execution_count": 61,
   "metadata": {
    "collapsed": false
   },
   "outputs": [
    {
     "name": "stdout",
     "output_type": "stream",
     "text": [
      "program started\n",
      "Enter sequence to iterate: a b c\n",
      "iteration started\n",
      "a\n",
      "iteration ended\n",
      "iteration started\n",
      " \n",
      "iteration ended\n",
      "iteration started\n",
      "b\n",
      "iteration ended\n",
      "iteration started\n",
      " \n",
      "iteration ended\n",
      "iteration started\n",
      "c\n",
      "iteration ended\n",
      "other statements in program\n",
      "program ended\n"
     ]
    }
   ],
   "source": [
    "print \"program started\"\n",
    "s=raw_input(\"Enter sequence to iterate: \")\n",
    "for i in s:\n",
    "    print \"iteration started\"\n",
    "    print i\n",
    "    print \"iteration ended\"\n",
    "print \"other statements in program\"\n",
    "print \"program ended\""
   ]
  },
  {
   "cell_type": "code",
   "execution_count": 62,
   "metadata": {
    "collapsed": false
   },
   "outputs": [
    {
     "name": "stdout",
     "output_type": "stream",
     "text": [
      "m\n"
     ]
    }
   ],
   "source": [
    "for i in \"python program\":\n",
    "    continue\n",
    "print i"
   ]
  },
  {
   "cell_type": "code",
   "execution_count": 63,
   "metadata": {
    "collapsed": false
   },
   "outputs": [
    {
     "name": "stdout",
     "output_type": "stream",
     "text": [
      "p\n"
     ]
    }
   ],
   "source": [
    "for i in \"python program\":\n",
    "    break\n",
    "print i"
   ]
  },
  {
   "cell_type": "code",
   "execution_count": 64,
   "metadata": {
    "collapsed": false
   },
   "outputs": [
    {
     "name": "stdout",
     "output_type": "stream",
     "text": [
      "1\n"
     ]
    }
   ],
   "source": [
    "i=0\n",
    "while i<10:\n",
    "    i=i+1\n",
    "    break\n",
    "print i"
   ]
  },
  {
   "cell_type": "code",
   "execution_count": 65,
   "metadata": {
    "collapsed": false
   },
   "outputs": [
    {
     "name": "stdout",
     "output_type": "stream",
     "text": [
      "10\n"
     ]
    }
   ],
   "source": [
    "i=0\n",
    "while i<10:\n",
    "    i=i+1\n",
    "    continue\n",
    "print i"
   ]
  },
  {
   "cell_type": "code",
   "execution_count": 66,
   "metadata": {
    "collapsed": false
   },
   "outputs": [
    {
     "data": {
      "text/plain": [
       "False"
      ]
     },
     "execution_count": 66,
     "metadata": {},
     "output_type": "execute_result"
    }
   ],
   "source": [
    "\"abc\".isupper()"
   ]
  },
  {
   "cell_type": "code",
   "execution_count": 67,
   "metadata": {
    "collapsed": false
   },
   "outputs": [
    {
     "data": {
      "text/plain": [
       "False"
      ]
     },
     "execution_count": 67,
     "metadata": {},
     "output_type": "execute_result"
    }
   ],
   "source": [
    "\"Abc\".isupper()"
   ]
  },
  {
   "cell_type": "code",
   "execution_count": 68,
   "metadata": {
    "collapsed": false
   },
   "outputs": [
    {
     "data": {
      "text/plain": [
       "True"
      ]
     },
     "execution_count": 68,
     "metadata": {},
     "output_type": "execute_result"
    }
   ],
   "source": [
    "\"ABC\".isupper()"
   ]
  },
  {
   "cell_type": "code",
   "execution_count": 69,
   "metadata": {
    "collapsed": false
   },
   "outputs": [
    {
     "data": {
      "text/plain": [
       "True"
      ]
     },
     "execution_count": 69,
     "metadata": {},
     "output_type": "execute_result"
    }
   ],
   "source": [
    "\"123ABC\".isupper()"
   ]
  },
  {
   "cell_type": "code",
   "execution_count": 70,
   "metadata": {
    "collapsed": false
   },
   "outputs": [
    {
     "data": {
      "text/plain": [
       "False"
      ]
     },
     "execution_count": 70,
     "metadata": {},
     "output_type": "execute_result"
    }
   ],
   "source": [
    "\"123Abca\".isupper()"
   ]
  },
  {
   "cell_type": "code",
   "execution_count": 71,
   "metadata": {
    "collapsed": false
   },
   "outputs": [
    {
     "data": {
      "text/plain": [
       "False"
      ]
     },
     "execution_count": 71,
     "metadata": {},
     "output_type": "execute_result"
    }
   ],
   "source": [
    "\"123\".isupper()"
   ]
  },
  {
   "cell_type": "code",
   "execution_count": 72,
   "metadata": {
    "collapsed": false
   },
   "outputs": [
    {
     "data": {
      "text/plain": [
       "False"
      ]
     },
     "execution_count": 72,
     "metadata": {},
     "output_type": "execute_result"
    }
   ],
   "source": [
    "\"\".isupper()"
   ]
  },
  {
   "cell_type": "code",
   "execution_count": 73,
   "metadata": {
    "collapsed": false
   },
   "outputs": [
    {
     "data": {
      "text/plain": [
       "False"
      ]
     },
     "execution_count": 73,
     "metadata": {},
     "output_type": "execute_result"
    }
   ],
   "source": [
    "\"#$%\".isupper()"
   ]
  },
  {
   "cell_type": "code",
   "execution_count": 74,
   "metadata": {
    "collapsed": false
   },
   "outputs": [
    {
     "data": {
      "text/plain": [
       "True"
      ]
     },
     "execution_count": 74,
     "metadata": {},
     "output_type": "execute_result"
    }
   ],
   "source": [
    "\"#$%ABC\".isupper()"
   ]
  },
  {
   "cell_type": "code",
   "execution_count": 75,
   "metadata": {
    "collapsed": false
   },
   "outputs": [
    {
     "name": "stdout",
     "output_type": "stream",
     "text": [
      "enter a string: Python program\n",
      "given string contains capital letters\n"
     ]
    }
   ],
   "source": [
    "s=raw_input(\"enter a string: \")\n",
    "for char in s:\n",
    "    if char.isupper():\n",
    "        print \"given string contains capital letters\"\n",
    "        break\n",
    "        "
   ]
  },
  {
   "cell_type": "code",
   "execution_count": 76,
   "metadata": {
    "collapsed": true
   },
   "outputs": [],
   "source": [
    "s=\"python program\"\n"
   ]
  },
  {
   "cell_type": "code",
   "execution_count": 77,
   "metadata": {
    "collapsed": false
   },
   "outputs": [
    {
     "data": {
      "text/plain": [
       "'Python program'"
      ]
     },
     "execution_count": 77,
     "metadata": {},
     "output_type": "execute_result"
    }
   ],
   "source": [
    "s.capitalize()"
   ]
  },
  {
   "cell_type": "code",
   "execution_count": 78,
   "metadata": {
    "collapsed": false
   },
   "outputs": [
    {
     "name": "stdout",
     "output_type": "stream",
     "text": [
      "Pythonn program\n"
     ]
    }
   ],
   "source": [
    "s=\"pyTHONn proGRAM\"\n",
    "print s.capitalize()"
   ]
  },
  {
   "cell_type": "code",
   "execution_count": 79,
   "metadata": {
    "collapsed": false
   },
   "outputs": [
    {
     "data": {
      "text/plain": [
       "'pyTHONn proGRAM'"
      ]
     },
     "execution_count": 79,
     "metadata": {},
     "output_type": "execute_result"
    }
   ],
   "source": [
    "s"
   ]
  },
  {
   "cell_type": "code",
   "execution_count": 80,
   "metadata": {
    "collapsed": false
   },
   "outputs": [
    {
     "name": "stdout",
     "output_type": "stream",
     "text": [
      "0\n"
     ]
    }
   ],
   "source": [
    "s=\"python program\"\n",
    "print s.find(\"pyt\")"
   ]
  },
  {
   "cell_type": "code",
   "execution_count": 81,
   "metadata": {
    "collapsed": false
   },
   "outputs": [
    {
     "name": "stdout",
     "output_type": "stream",
     "text": [
      "10\n"
     ]
    }
   ],
   "source": [
    "s=\"python program\"\n",
    "print s.find(\"gram\")"
   ]
  },
  {
   "cell_type": "code",
   "execution_count": 82,
   "metadata": {
    "collapsed": false
   },
   "outputs": [
    {
     "name": "stdout",
     "output_type": "stream",
     "text": [
      "-1\n"
     ]
    }
   ],
   "source": [
    "s=\"python program\"\n",
    "print s.find(\"java\")"
   ]
  },
  {
   "cell_type": "code",
   "execution_count": 83,
   "metadata": {
    "collapsed": false
   },
   "outputs": [
    {
     "data": {
      "text/plain": [
       "-1"
      ]
     },
     "execution_count": 83,
     "metadata": {},
     "output_type": "execute_result"
    }
   ],
   "source": [
    "s.find(\"PYTHON\")"
   ]
  },
  {
   "cell_type": "code",
   "execution_count": 85,
   "metadata": {
    "collapsed": false
   },
   "outputs": [
    {
     "name": "stdout",
     "output_type": "stream",
     "text": [
      "0\n",
      "python program\n",
      "python\n"
     ]
    }
   ],
   "source": [
    "s=\"python program\"\n",
    "sub = \"PytHon\"\n",
    "\n",
    "s_l = s.lower()\n",
    "sub_l = sub.lower()\n",
    "print s_l.find(sub_l)\n",
    "print s_l\n",
    "print sub_l"
   ]
  },
  {
   "cell_type": "code",
   "execution_count": 86,
   "metadata": {
    "collapsed": false
   },
   "outputs": [
    {
     "data": {
      "text/plain": [
       "'python program'"
      ]
     },
     "execution_count": 86,
     "metadata": {},
     "output_type": "execute_result"
    }
   ],
   "source": [
    "s"
   ]
  },
  {
   "cell_type": "code",
   "execution_count": 87,
   "metadata": {
    "collapsed": false
   },
   "outputs": [
    {
     "data": {
      "text/plain": [
       "0"
      ]
     },
     "execution_count": 87,
     "metadata": {},
     "output_type": "execute_result"
    }
   ],
   "source": [
    "s.find('p')"
   ]
  },
  {
   "cell_type": "code",
   "execution_count": 88,
   "metadata": {
    "collapsed": true
   },
   "outputs": [],
   "source": [
    "s.find?"
   ]
  },
  {
   "cell_type": "code",
   "execution_count": 89,
   "metadata": {
    "collapsed": false
   },
   "outputs": [
    {
     "data": {
      "text/plain": [
       "7"
      ]
     },
     "execution_count": 89,
     "metadata": {},
     "output_type": "execute_result"
    }
   ],
   "source": [
    "s.find('p',3)"
   ]
  },
  {
   "cell_type": "code",
   "execution_count": null,
   "metadata": {
    "collapsed": true
   },
   "outputs": [],
   "source": []
  }
 ],
 "metadata": {
  "anaconda-cloud": {},
  "kernelspec": {
   "display_name": "Python [default]",
   "language": "python",
   "name": "python2"
  },
  "language_info": {
   "codemirror_mode": {
    "name": "ipython",
    "version": 2
   },
   "file_extension": ".py",
   "mimetype": "text/x-python",
   "name": "python",
   "nbconvert_exporter": "python",
   "pygments_lexer": "ipython2",
   "version": "2.7.12"
  }
 },
 "nbformat": 4,
 "nbformat_minor": 1
}
