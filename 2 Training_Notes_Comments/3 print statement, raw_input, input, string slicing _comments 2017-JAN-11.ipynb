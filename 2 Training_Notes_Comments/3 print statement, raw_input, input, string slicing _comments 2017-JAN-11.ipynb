{
 "cells": [
  {
   "cell_type": "code",
   "execution_count": 1,
   "metadata": {
    "collapsed": false
   },
   "outputs": [
    {
     "name": "stdout",
     "output_type": "stream",
     "text": [
      "Enter a value:10\n",
      "Enter b value:20\n"
     ]
    }
   ],
   "source": [
    "'''\n",
    "raw_Input() & Input(): \n",
    "Both raw_input() & input() Bboth functions will accept the input from the console.\n",
    "\n",
    "raw_input: \n",
    "raw_input will accept all kind  data. and it will convert the given data into String format.\n",
    "So it will return the string type of data.\n",
    "--> Whenever you don't know the exact type of the returning data , it is recommended to use the raw_input\n",
    "--> In this python training , most of the time we are going to use , raw_input only.\n",
    "--> Here , the type conversion is very easy & Flexible..Because we can always expect the returning data type ,\n",
    "    that is String .. So we can easily perform the required Type by doing casting.\n",
    "'''\n",
    "a=raw_input('Enter a value:')\n",
    "b=raw_input(\"Enter b value:\")"
   ]
  },
  {
   "cell_type": "code",
   "execution_count": 2,
   "metadata": {
    "collapsed": false
   },
   "outputs": [
    {
     "name": "stdout",
     "output_type": "stream",
     "text": [
      "10\n"
     ]
    }
   ],
   "source": [
    "print a\n"
   ]
  },
  {
   "cell_type": "code",
   "execution_count": 3,
   "metadata": {
    "collapsed": false
   },
   "outputs": [
    {
     "name": "stdout",
     "output_type": "stream",
     "text": [
      "20\n"
     ]
    }
   ],
   "source": [
    "print b"
   ]
  },
  {
   "cell_type": "code",
   "execution_count": 4,
   "metadata": {
    "collapsed": false
   },
   "outputs": [
    {
     "name": "stdout",
     "output_type": "stream",
     "text": [
      "<type 'str'>\n"
     ]
    }
   ],
   "source": [
    "#type(): This function will returns the given varuiable Type (i.e Integer / Float / String etc )\n",
    "print type(a)"
   ]
  },
  {
   "cell_type": "code",
   "execution_count": 5,
   "metadata": {
    "collapsed": true
   },
   "outputs": [],
   "source": [
    "# Along with the Integer , Float datatype , we also have one more Number data type in python that is Complex Numbers.\n",
    "c1=1+2j\n"
   ]
  },
  {
   "cell_type": "code",
   "execution_count": 6,
   "metadata": {
    "collapsed": false
   },
   "outputs": [
    {
     "name": "stdout",
     "output_type": "stream",
     "text": [
      "<type 'complex'>\n"
     ]
    }
   ],
   "source": [
    "# Lets check the c1 type byusing type() function\n",
    "# So it is returning 'c1' type as complex\n",
    "print type(c1)"
   ]
  },
  {
   "cell_type": "code",
   "execution_count": 7,
   "metadata": {
    "collapsed": false
   },
   "outputs": [
    {
     "name": "stdout",
     "output_type": "stream",
     "text": [
      "(3+6j)\n",
      "(-6+8j)\n",
      "(-1-2j)\n",
      "(0.5+0j)\n"
     ]
    }
   ],
   "source": [
    "# we can also performs the arithmetical operations on the complex variables. \n",
    "#(i.e addition, substraction, multiplication and Division etc)\n",
    "c1=1+2j\n",
    "c2=2+4j\n",
    "print c1+c2\n",
    "print c1*c2\n",
    "print c1-c2\n",
    "print c1/c2"
   ]
  },
  {
   "cell_type": "code",
   "execution_count": 8,
   "metadata": {
    "collapsed": false
   },
   "outputs": [
    {
     "name": "stdout",
     "output_type": "stream",
     "text": [
      "Enter a value:1+2j\n"
     ]
    }
   ],
   "source": [
    "# As we discussed above , raw_input will converts the given input into Stirng \n",
    "# So similarly it will also converts Given Complex numbers into String type\n",
    "a=raw_input('Enter a value:')"
   ]
  },
  {
   "cell_type": "code",
   "execution_count": 9,
   "metadata": {
    "collapsed": false
   },
   "outputs": [
    {
     "name": "stdout",
     "output_type": "stream",
     "text": [
      "<type 'str'>\n"
     ]
    }
   ],
   "source": [
    "print type(a)"
   ]
  },
  {
   "cell_type": "code",
   "execution_count": 10,
   "metadata": {
    "collapsed": false
   },
   "outputs": [
    {
     "name": "stdout",
     "output_type": "stream",
     "text": [
      "Enter a value: 10\n"
     ]
    }
   ],
   "source": [
    "'''\n",
    "input():\n",
    "Input() function will accept the data & it will return the given data with same datatype.\n",
    "--> For example if we give Integer input , it will returns the data type as INT & \n",
    "    If we input the  string data type it will return the String the data type..\n",
    "--> Whenever we want to get the exact data type  of the given data type , it is better to go with input() function\n",
    "'''\n",
    "a=input(\"Enter a value: \")"
   ]
  },
  {
   "cell_type": "code",
   "execution_count": 11,
   "metadata": {
    "collapsed": false
   },
   "outputs": [
    {
     "name": "stdout",
     "output_type": "stream",
     "text": [
      "<type 'int'>\n"
     ]
    }
   ],
   "source": [
    "# Here we are given the input as 10 i.e an Integer.\n",
    "# And if we check the given input data type afeter input () function execution , it is Still Integer datatype\n",
    "print type(a)"
   ]
  },
  {
   "cell_type": "code",
   "execution_count": 12,
   "metadata": {
    "collapsed": true
   },
   "outputs": [],
   "source": [
    "# Here we are given the input as \"Python\" i.e a String.\n",
    "# And if we check the given input data type afeter input () function execution, it is Still String datatype\n",
    "s1 = \"python\""
   ]
  },
  {
   "cell_type": "code",
   "execution_count": 13,
   "metadata": {
    "collapsed": false
   },
   "outputs": [
    {
     "name": "stdout",
     "output_type": "stream",
     "text": [
      "Enter a value: 'python'\n"
     ]
    }
   ],
   "source": [
    "a=input(\"Enter a value: \")"
   ]
  },
  {
   "cell_type": "code",
   "execution_count": 14,
   "metadata": {
    "collapsed": false
   },
   "outputs": [
    {
     "name": "stdout",
     "output_type": "stream",
     "text": [
      "<type 'str'>\n"
     ]
    }
   ],
   "source": [
    "# So input() function will remains the given value data type as it is. \n",
    "# It will not converts the given data type into another data type.\n",
    "print type(a)"
   ]
  },
  {
   "cell_type": "code",
   "execution_count": 15,
   "metadata": {
    "collapsed": false
   },
   "outputs": [
    {
     "ename": "NameError",
     "evalue": "name 'z' is not defined",
     "output_type": "error",
     "traceback": [
      "\u001b[0;31m---------------------------------------------------------------------------\u001b[0m",
      "\u001b[0;31mNameError\u001b[0m                                 Traceback (most recent call last)",
      "\u001b[0;32m<ipython-input-15-771f2b45b9f9>\u001b[0m in \u001b[0;36m<module>\u001b[0;34m()\u001b[0m\n\u001b[0;32m----> 1\u001b[0;31m \u001b[1;32mprint\u001b[0m \u001b[0mz\u001b[0m\u001b[1;33m\u001b[0m\u001b[0m\n\u001b[0m",
      "\u001b[0;31mNameError\u001b[0m: name 'z' is not defined"
     ]
    }
   ],
   "source": [
    "# If we try to declare any string type of data , without suing double quotes / Single Quotes ,\n",
    "# Then it will shows NameError : name 'abc' is not defined\n",
    "print z"
   ]
  },
  {
   "cell_type": "code",
   "execution_count": 8,
   "metadata": {
    "collapsed": false
   },
   "outputs": [
    {
     "name": "stdout",
     "output_type": "stream",
     "text": [
      "Enter a value: avi\n"
     ]
    },
    {
     "ename": "NameError",
     "evalue": "name 'avi' is not defined",
     "output_type": "error",
     "traceback": [
      "\u001b[0;31m---------------------------------------------------------------------------\u001b[0m",
      "\u001b[0;31mNameError\u001b[0m                                 Traceback (most recent call last)",
      "\u001b[0;32m<ipython-input-8-e1e708e427af>\u001b[0m in \u001b[0;36m<module>\u001b[0;34m()\u001b[0m\n\u001b[1;32m      1\u001b[0m \u001b[0;31m#\u001b[0m\u001b[0;34m\u001b[0m\u001b[0;34m\u001b[0m\u001b[0m\n\u001b[0;32m----> 2\u001b[0;31m \u001b[0ma\u001b[0m\u001b[0;34m=\u001b[0m\u001b[0minput\u001b[0m\u001b[0;34m(\u001b[0m\u001b[0;34m\"Enter a value: \"\u001b[0m\u001b[0;34m)\u001b[0m\u001b[0;34m\u001b[0m\u001b[0m\n\u001b[0m",
      "\u001b[0;32m/home/nexii/anaconda2/lib/python2.7/site-packages/ipykernel/ipkernel.pyc\u001b[0m in \u001b[0;36m<lambda>\u001b[0;34m(prompt)\u001b[0m\n\u001b[1;32m    162\u001b[0m             \u001b[0mself\u001b[0m\u001b[0;34m.\u001b[0m\u001b[0m_sys_eval_input\u001b[0m \u001b[0;34m=\u001b[0m \u001b[0mbuiltin_mod\u001b[0m\u001b[0;34m.\u001b[0m\u001b[0minput\u001b[0m\u001b[0;34m\u001b[0m\u001b[0m\n\u001b[1;32m    163\u001b[0m             \u001b[0mbuiltin_mod\u001b[0m\u001b[0;34m.\u001b[0m\u001b[0mraw_input\u001b[0m \u001b[0;34m=\u001b[0m \u001b[0mself\u001b[0m\u001b[0;34m.\u001b[0m\u001b[0mraw_input\u001b[0m\u001b[0;34m\u001b[0m\u001b[0m\n\u001b[0;32m--> 164\u001b[0;31m             \u001b[0mbuiltin_mod\u001b[0m\u001b[0;34m.\u001b[0m\u001b[0minput\u001b[0m \u001b[0;34m=\u001b[0m \u001b[0;32mlambda\u001b[0m \u001b[0mprompt\u001b[0m\u001b[0;34m=\u001b[0m\u001b[0;34m''\u001b[0m\u001b[0;34m:\u001b[0m \u001b[0meval\u001b[0m\u001b[0;34m(\u001b[0m\u001b[0mself\u001b[0m\u001b[0;34m.\u001b[0m\u001b[0mraw_input\u001b[0m\u001b[0;34m(\u001b[0m\u001b[0mprompt\u001b[0m\u001b[0;34m)\u001b[0m\u001b[0;34m)\u001b[0m\u001b[0;34m\u001b[0m\u001b[0m\n\u001b[0m\u001b[1;32m    165\u001b[0m         \u001b[0mself\u001b[0m\u001b[0;34m.\u001b[0m\u001b[0m_save_getpass\u001b[0m \u001b[0;34m=\u001b[0m \u001b[0mgetpass\u001b[0m\u001b[0;34m.\u001b[0m\u001b[0mgetpass\u001b[0m\u001b[0;34m\u001b[0m\u001b[0m\n\u001b[1;32m    166\u001b[0m         \u001b[0mgetpass\u001b[0m\u001b[0;34m.\u001b[0m\u001b[0mgetpass\u001b[0m \u001b[0;34m=\u001b[0m \u001b[0mself\u001b[0m\u001b[0;34m.\u001b[0m\u001b[0mgetpass\u001b[0m\u001b[0;34m\u001b[0m\u001b[0m\n",
      "\u001b[0;32m/home/nexii/anaconda2/lib/python2.7/site-packages/ipykernel/ipkernel.pyc\u001b[0m in \u001b[0;36m<module>\u001b[0;34m()\u001b[0m\n",
      "\u001b[0;31mNameError\u001b[0m: name 'avi' is not defined"
     ]
    }
   ],
   "source": [
    "# Dis Advantage of Input() function:\n",
    "# If the user gives the input a String without using Single Quotes or Double Quotes,\n",
    "# Then input () function will also throws the NameError: name 'abc' is not defined\n",
    "a=input(\"Enter a value: \")\n"
   ]
  },
  {
   "cell_type": "code",
   "execution_count": 5,
   "metadata": {
    "collapsed": false
   },
   "outputs": [
    {
     "name": "stdout",
     "output_type": "stream",
     "text": [
      "Enter a value: 10\n",
      "Enter b value: 20\n",
      "30\n"
     ]
    }
   ],
   "source": [
    "# Incase of Integer values as input , consider if the user Enters Numbers, then the input() function will  works fine.\n",
    "a=input(\"Enter a value: \")\n",
    "b=input(\"Enter b value: \")\n",
    "print a+b"
   ]
  },
  {
   "cell_type": "code",
   "execution_count": 19,
   "metadata": {
    "collapsed": false
   },
   "outputs": [
    {
     "name": "stdout",
     "output_type": "stream",
     "text": [
      "Enter a value: str1\n"
     ]
    },
    {
     "ename": "NameError",
     "evalue": "name 'str1' is not defined",
     "output_type": "error",
     "traceback": [
      "\u001b[0;31m---------------------------------------------------------------------------\u001b[0m",
      "\u001b[0;31mNameError\u001b[0m                                 Traceback (most recent call last)",
      "\u001b[0;32m<ipython-input-19-2414c5d47cb1>\u001b[0m in \u001b[0;36m<module>\u001b[0;34m()\u001b[0m\n\u001b[0;32m----> 1\u001b[0;31m \u001b[0ma\u001b[0m\u001b[1;33m=\u001b[0m\u001b[0minput\u001b[0m\u001b[1;33m(\u001b[0m\u001b[1;34m\"Enter a value: \"\u001b[0m\u001b[1;33m)\u001b[0m\u001b[1;33m\u001b[0m\u001b[0m\n\u001b[0m\u001b[1;32m      2\u001b[0m \u001b[0mb\u001b[0m\u001b[1;33m=\u001b[0m\u001b[0minput\u001b[0m\u001b[1;33m(\u001b[0m\u001b[1;34m\"Enter b value: \"\u001b[0m\u001b[1;33m)\u001b[0m\u001b[1;33m\u001b[0m\u001b[0m\n\u001b[1;32m      3\u001b[0m \u001b[1;32mprint\u001b[0m \u001b[0ma\u001b[0m\u001b[1;33m+\u001b[0m\u001b[0mb\u001b[0m\u001b[1;33m\u001b[0m\u001b[0m\n",
      "\u001b[0;32mC:\\Users\\samba\\Anaconda2\\lib\\site-packages\\ipykernel\\ipkernel.pyc\u001b[0m in \u001b[0;36m<lambda>\u001b[0;34m(prompt)\u001b[0m\n\u001b[1;32m    162\u001b[0m             \u001b[0mself\u001b[0m\u001b[1;33m.\u001b[0m\u001b[0m_sys_eval_input\u001b[0m \u001b[1;33m=\u001b[0m \u001b[0mbuiltin_mod\u001b[0m\u001b[1;33m.\u001b[0m\u001b[0minput\u001b[0m\u001b[1;33m\u001b[0m\u001b[0m\n\u001b[1;32m    163\u001b[0m             \u001b[0mbuiltin_mod\u001b[0m\u001b[1;33m.\u001b[0m\u001b[0mraw_input\u001b[0m \u001b[1;33m=\u001b[0m \u001b[0mself\u001b[0m\u001b[1;33m.\u001b[0m\u001b[0mraw_input\u001b[0m\u001b[1;33m\u001b[0m\u001b[0m\n\u001b[0;32m--> 164\u001b[0;31m             \u001b[0mbuiltin_mod\u001b[0m\u001b[1;33m.\u001b[0m\u001b[0minput\u001b[0m \u001b[1;33m=\u001b[0m \u001b[1;32mlambda\u001b[0m \u001b[0mprompt\u001b[0m\u001b[1;33m=\u001b[0m\u001b[1;34m''\u001b[0m\u001b[1;33m:\u001b[0m \u001b[0meval\u001b[0m\u001b[1;33m(\u001b[0m\u001b[0mself\u001b[0m\u001b[1;33m.\u001b[0m\u001b[0mraw_input\u001b[0m\u001b[1;33m(\u001b[0m\u001b[0mprompt\u001b[0m\u001b[1;33m)\u001b[0m\u001b[1;33m)\u001b[0m\u001b[1;33m\u001b[0m\u001b[0m\n\u001b[0m\u001b[1;32m    165\u001b[0m         \u001b[0mself\u001b[0m\u001b[1;33m.\u001b[0m\u001b[0m_save_getpass\u001b[0m \u001b[1;33m=\u001b[0m \u001b[0mgetpass\u001b[0m\u001b[1;33m.\u001b[0m\u001b[0mgetpass\u001b[0m\u001b[1;33m\u001b[0m\u001b[0m\n\u001b[1;32m    166\u001b[0m         \u001b[0mgetpass\u001b[0m\u001b[1;33m.\u001b[0m\u001b[0mgetpass\u001b[0m \u001b[1;33m=\u001b[0m \u001b[0mself\u001b[0m\u001b[1;33m.\u001b[0m\u001b[0mgetpass\u001b[0m\u001b[1;33m\u001b[0m\u001b[0m\n",
      "\u001b[0;32mC:\\Users\\samba\\Anaconda2\\lib\\site-packages\\ipykernel\\ipkernel.pyc\u001b[0m in \u001b[0;36m<module>\u001b[0;34m()\u001b[0m\n",
      "\u001b[0;31mNameError\u001b[0m: name 'str1' is not defined"
     ]
    }
   ],
   "source": [
    "# But if the user enters the Strings without using Single Quotes or Double Quotes,\n",
    "# And if we trying to perform the addition operation, then it will throws the Name Error:\n",
    "# Name Error: name 'abc' is not defined\n",
    "a=input(\"Enter a value: \")\n",
    "b=input(\"Enter b value: \")\n",
    "print a+b"
   ]
  },
  {
   "cell_type": "code",
   "execution_count": 21,
   "metadata": {
    "collapsed": false
   },
   "outputs": [
    {
     "name": "stdout",
     "output_type": "stream",
     "text": [
      " Anil 23 5.6\n"
     ]
    }
   ],
   "source": [
    "# Printing the variable values as it is by seperating each variable with comma(,)\n",
    "name = \"Anil\"\n",
    "age =23\n",
    "height =5.6\n",
    "print name,age,height"
   ]
  },
  {
   "cell_type": "code",
   "execution_count": 22,
   "metadata": {
    "collapsed": false
   },
   "outputs": [
    {
     "name": "stdout",
     "output_type": "stream",
     "text": [
      "Name: Anil\n"
     ]
    }
   ],
   "source": [
    "# If we want to print the variable value with the variable name, we will perform String Concatination as below\n",
    "# Name: Anil, Age: 23, height: 5.6\n",
    "print \"Name: \"+name"
   ]
  },
  {
   "cell_type": "code",
   "execution_count": 24,
   "metadata": {
    "collapsed": false
   },
   "outputs": [
    {
     "ename": "TypeError",
     "evalue": "cannot concatenate 'str' and 'int' objects",
     "output_type": "error",
     "traceback": [
      "\u001b[0;31m---------------------------------------------------------------------------\u001b[0m",
      "\u001b[0;31mTypeError\u001b[0m                                 Traceback (most recent call last)",
      "\u001b[0;32m<ipython-input-24-e824debd9ae0>\u001b[0m in \u001b[0;36m<module>\u001b[0;34m()\u001b[0m\n\u001b[0;32m----> 1\u001b[0;31m \u001b[1;32mprint\u001b[0m \u001b[1;34m\"Name: \"\u001b[0m\u001b[1;33m+\u001b[0m\u001b[0mname\u001b[0m\u001b[1;33m+\u001b[0m\u001b[1;34m\", Age:\"\u001b[0m\u001b[1;33m+\u001b[0m\u001b[0mage\u001b[0m\u001b[1;33m+\u001b[0m\u001b[1;34m\", Height: \"\u001b[0m\u001b[1;33m+\u001b[0m\u001b[0mheight\u001b[0m\u001b[1;33m\u001b[0m\u001b[0m\n\u001b[0m",
      "\u001b[0;31mTypeError\u001b[0m: cannot concatenate 'str' and 'int' objects"
     ]
    }
   ],
   "source": [
    "# As we already knowt that , String concatination of two Strings is possible\n",
    "# But String Concatination of String with any other data type is not possible\n",
    "print \"Name: \"+name+\", Age:\"+age+\", Height: \"+height"
   ]
  },
  {
   "cell_type": "code",
   "execution_count": 26,
   "metadata": {
    "collapsed": false
   },
   "outputs": [
    {
     "name": "stdout",
     "output_type": "stream",
     "text": [
      "Name: Anil, Age:23, Height: 5.6\n"
     ]
    }
   ],
   "source": [
    "# To perform String Concatination of String with any other datatype,\n",
    "# First we need to typecast the other datatype into String Datatype by using str() function.\n",
    "print \"Name: \"+name+\", Age:\"+str(age)+\", Height: \"+str(height)"
   ]
  },
  {
   "cell_type": "code",
   "execution_count": 27,
   "metadata": {
    "collapsed": false
   },
   "outputs": [
    {
     "name": "stdout",
     "output_type": "stream",
     "text": [
      "Name: Anil\n"
     ]
    }
   ],
   "source": [
    "# If we dont wnt to use Sring concatination, and try to merge the String with the Integer,\n",
    "# Then we will use the comma (,) between the String and Integer.\n",
    "# But here we have one Disadvantage ,it will print the given values seperated with single space.\n",
    "print \"Name:\",name"
   ]
  },
  {
   "cell_type": "code",
   "execution_count": 29,
   "metadata": {
    "collapsed": false
   },
   "outputs": [
    {
     "name": "stdout",
     "output_type": "stream",
     "text": [
      "Name: Anil , Age: 23 , Height: 5.6\n"
     ]
    }
   ],
   "source": [
    "# When we use comma (,)Instead of String concatination, it will print the given values seperated with single space.\n",
    "print \"Name:\",name,\", Age:\",age,\", Height:\",height"
   ]
  },
  {
   "cell_type": "code",
   "execution_count": 30,
   "metadata": {
    "collapsed": false
   },
   "outputs": [
    {
     "name": "stdout",
     "output_type": "stream",
     "text": [
      "line1\n",
      "line2\n"
     ]
    }
   ],
   "source": [
    "#Printing two lines one by on , by using two print statements\n",
    "'''\n",
    "line1\n",
    "line2\n",
    "'''\n",
    "print \"line1\"\n",
    "print \"line2\""
   ]
  },
  {
   "cell_type": "code",
   "execution_count": 31,
   "metadata": {
    "collapsed": false
   },
   "outputs": [
    {
     "name": "stdout",
     "output_type": "stream",
     "text": [
      "line1\n",
      "line2\n"
     ]
    }
   ],
   "source": [
    "# Printing two lines one by on , by using \\n operator\n",
    "# In Python two print a new line we will use the \\n operator\n",
    "# In Pytho \\n is treated as single char (But not two Char i.e '\\','n')\n",
    "# Whenever we want to print a new line in a big String , we will use the \\n there itself with in that string\n",
    "print \"line1\\nline2\""
   ]
  },
  {
   "cell_type": "code",
   "execution_count": 32,
   "metadata": {
    "collapsed": false
   },
   "outputs": [
    {
     "name": "stdout",
     "output_type": "stream",
     "text": [
      "14\n"
     ]
    }
   ],
   "source": [
    "#len() function:\n",
    "#len() function will returns the length of the given string\n",
    "#Here length of the String means --> Number of Chars presented in the string inclding space\n",
    "s=\"python program\"\n",
    "print len(s)"
   ]
  },
  {
   "cell_type": "code",
   "execution_count": 33,
   "metadata": {
    "collapsed": false
   },
   "outputs": [
    {
     "name": "stdout",
     "output_type": "stream",
     "text": [
      "15\n"
     ]
    }
   ],
   "source": [
    "# # In Python two print a new line we will use the \\n operator\n",
    "# In Pytho \\n is treated as single char (But not two Char i.e '\\','n')\n",
    "s=\"python program\\n\"\n",
    "print len(s)"
   ]
  },
  {
   "cell_type": "code",
   "execution_count": 34,
   "metadata": {
    "collapsed": false
   },
   "outputs": [
    {
     "name": "stdout",
     "output_type": "stream",
     "text": [
      "line1\n",
      "line2\ttabspace\n"
     ]
    }
   ],
   "source": [
    "# In python along with the \\n , we also have some reserved keywords (ex: \\t,%s %d %f %r )\n",
    "# we will ust '\\t' for single tabspace\n",
    "print \"line1\\nline2\\ttabspace\""
   ]
  },
  {
   "cell_type": "code",
   "execution_count": 9,
   "metadata": {
    "collapsed": true
   },
   "outputs": [],
   "source": [
    "# %s %d %f %r\n",
    "# %s ----> we will use the %s as a reference to hold the Sring type value\n",
    "# %d ----> we will use the %d as a reference to hold the Integer type value\n",
    "# %f ----> we will use the %f as a reference to hold the Float type value\n",
    "# %r ----> we will use the %r as a reference to hold the Any type value"
   ]
  },
  {
   "cell_type": "code",
   "execution_count": 36,
   "metadata": {
    "collapsed": false
   },
   "outputs": [
    {
     "name": "stdout",
     "output_type": "stream",
     "text": [
      "\n",
      "\t\n"
     ]
    }
   ],
   "source": [
    "# Here \\n will prints the New Line  & \\t prints tabspace\n",
    "print \"\\n\\t\""
   ]
  },
  {
   "cell_type": "code",
   "execution_count": 37,
   "metadata": {
    "collapsed": false
   },
   "outputs": [
    {
     "name": "stdout",
     "output_type": "stream",
     "text": [
      "%s%d%f%r\n"
     ]
    }
   ],
   "source": [
    "# if we use the %s,%d,%f,%r with in the string it will just simply prints the %s%d%f%r\n",
    "print \"%s%d%f%r\""
   ]
  },
  {
   "cell_type": "code",
   "execution_count": 38,
   "metadata": {
    "collapsed": false
   },
   "outputs": [
    {
     "name": "stdout",
     "output_type": "stream",
     "text": [
      "%s%d%f%r ('str1', 10, 1.2, (1, 2, 34))\n"
     ]
    }
   ],
   "source": [
    "# If we use the %s%d%f%r with paranthesis seperated by comma\n",
    "# Then also this notation is not corrct\n",
    "print \"%s%d%f%r\",('str1',10,1.2,(1,2,34))"
   ]
  },
  {
   "cell_type": "code",
   "execution_count": 39,
   "metadata": {
    "collapsed": false
   },
   "outputs": [
    {
     "name": "stdout",
     "output_type": "stream",
     "text": [
      "str1101.200000(1, 2, 34)\n"
     ]
    }
   ],
   "source": [
    "# There is a syntax for using the %s%d%f%r\n",
    "# --> we should place the values with in the paranthesis and place the references %s%d%f%r before that paranthesis,\n",
    "#     Based on the requirement and the type of value placed in the paranthesis\n",
    "# --> And Between the %s%d%f%r and paranthesis should be seperated with modulos (%) \n",
    "# For example : \"%s\" %(\"avinash\") \n",
    "# %r: we will use %r for any type of data , i.e that may be list or set or any other datatype.\n",
    "print \"%s%d%f%r\"%('str1',10,1.2,(1,2,34)) "
   ]
  },
  {
   "cell_type": "code",
   "execution_count": 40,
   "metadata": {
    "collapsed": false
   },
   "outputs": [
    {
     "name": "stdout",
     "output_type": "stream",
     "text": [
      "str1,->10,->1.200000,->(1, 2, 34)\n"
     ]
    }
   ],
   "source": [
    "# Here %s represent -------> str1\n",
    "#  %d represent -------> 10\n",
    "#  %f represent -------> 1.2\n",
    "#  %r represent -------> (1,2,34)\n",
    "# And '->' mark after %s , %d, %f will print as it is as astring\n",
    "print \"%s,->%d,->%f,->%r\"%('str1',10,1.2,(1,2,34))"
   ]
  },
  {
   "cell_type": "code",
   "execution_count": 41,
   "metadata": {
    "collapsed": false
   },
   "outputs": [
    {
     "name": "stdout",
     "output_type": "stream",
     "text": [
      "Name: Anil, Age: 23, height: 5.600000\n"
     ]
    }
   ],
   "source": [
    "#Lets print the following , by using %s%d%f%r \n",
    "# Name: Anil, Age: 23, height: 5.6\n",
    "print \"Name: %s, Age: %d, height: %f\"%(name,age,height)"
   ]
  },
  {
   "cell_type": "code",
   "execution_count": 42,
   "metadata": {
    "collapsed": true
   },
   "outputs": [],
   "source": [
    "name=\"dfdsfsd\""
   ]
  },
  {
   "cell_type": "code",
   "execution_count": 43,
   "metadata": {
    "collapsed": true
   },
   "outputs": [],
   "source": [
    "name=10"
   ]
  },
  {
   "cell_type": "code",
   "execution_count": 45,
   "metadata": {
    "collapsed": false
   },
   "outputs": [
    {
     "name": "stdout",
     "output_type": "stream",
     "text": [
      "Name: 'Anil', Age: 23, height: 5.6\n"
     ]
    }
   ],
   "source": [
    "# Name: Anil, Age: 23, height: 5.6\n",
    "name=\"Anil\"\n",
    "print \"Name: %r, Age: %r, height: %r\"%(name,age,height)"
   ]
  },
  {
   "cell_type": "code",
   "execution_count": 46,
   "metadata": {
    "collapsed": false
   },
   "outputs": [
    {
     "name": "stdout",
     "output_type": "stream",
     "text": [
      "it's a cool day\n"
     ]
    }
   ],
   "source": [
    "# Whenever we have a single quote in our string , we can ignore that , by using double quotes\n",
    "# it's a cool day\n",
    "print \"it's a cool day\""
   ]
  },
  {
   "cell_type": "code",
   "execution_count": 47,
   "metadata": {
    "collapsed": false
   },
   "outputs": [
    {
     "ename": "SyntaxError",
     "evalue": "invalid syntax (<ipython-input-47-b262a33c26aa>, line 1)",
     "output_type": "error",
     "traceback": [
      "\u001b[0;36m  File \u001b[0;32m\"<ipython-input-47-b262a33c26aa>\"\u001b[0;36m, line \u001b[0;32m1\u001b[0m\n\u001b[0;31m    print 'it's a cool day'\u001b[0m\n\u001b[0m              ^\u001b[0m\n\u001b[0;31mSyntaxError\u001b[0m\u001b[0;31m:\u001b[0m invalid syntax\n"
     ]
    }
   ],
   "source": [
    "# But,whenever we have a single quote in our string , if we use single quotes for that string ,\n",
    "# Then it will throws an Error : invalid syntax\n",
    "print 'it's a cool day'"
   ]
  },
  {
   "cell_type": "code",
   "execution_count": 48,
   "metadata": {
    "collapsed": false
   },
   "outputs": [
    {
     "name": "stdout",
     "output_type": "stream",
     "text": [
      "it's a cool day\n"
     ]
    }
   ],
   "source": [
    "# In this case , to handle this we will use single '\\' (Back slash) \n",
    "# Whenever we use '\\' (Back slash) before any keyword in the string , then it will ignore that keyword\n",
    "# And that keyword will print as it is\n",
    "# Here we simplyused the  '\\' (Back slash) before the Single Quoted mark ( Which we want to print as it is )\n",
    "\n",
    "print 'it\\'s a cool day'"
   ]
  },
  {
   "cell_type": "code",
   "execution_count": 49,
   "metadata": {
    "collapsed": false
   },
   "outputs": [
    {
     "name": "stdout",
     "output_type": "stream",
     "text": [
      "line1\n",
      "line2\n"
     ]
    }
   ],
   "source": [
    "# lLet usa take \\n \n",
    "# line1\\nline2\n",
    "\n",
    "print \"line1\\nline2\""
   ]
  },
  {
   "cell_type": "code",
   "execution_count": 50,
   "metadata": {
    "collapsed": false
   },
   "outputs": [
    {
     "name": "stdout",
     "output_type": "stream",
     "text": [
      "line1\\nline2\n"
     ]
    }
   ],
   "source": [
    "# If you want to print the '\\n' as it is , just place the '\\' (Back Slash) before '\\n' (i.e '\\\\n' )\n",
    "# Then it will print as it is\n",
    "# line1\\nline2\n",
    "\n",
    "print \"line1\\\\nline2\""
   ]
  },
  {
   "cell_type": "code",
   "execution_count": 51,
   "metadata": {
    "collapsed": false
   },
   "outputs": [
    {
     "name": "stdout",
     "output_type": "stream",
     "text": [
      "dsfsdfs\n",
      "\\dsfds\t dsfdsf \t sfdsf\n",
      "sfsdf\t\n"
     ]
    }
   ],
   "source": [
    "# Let us take the following example\n",
    "comment = \"dsfsdfs\\n\\dsfds\\t dsfdsf \\t sfdsf\\nsfsdf\\t\"\n",
    "print comment"
   ]
  },
  {
   "cell_type": "code",
   "execution_count": 52,
   "metadata": {
    "collapsed": false
   },
   "outputs": [
    {
     "name": "stdout",
     "output_type": "stream",
     "text": [
      "dsfsdfs\\n\\dsfds\\t dsfdsf \\t sfdsf\\nsfsdf\\t\n"
     ]
    }
   ],
   "source": [
    "# I you want to print this statement as it is, and ignore all the \\n & \\t . Then use '\\' before them\n",
    "# then it will print as it is\n",
    "# But if your String is too large (Consider it ia BigData), then this approach is not fine\n",
    "# In case of BigData, use 'r' before your string\n",
    "# This 'r' notation before the string , will print the data as it is\n",
    "comment = r\"dsfsdfs\\n\\dsfds\\t dsfdsf \\t sfdsf\\nsfsdf\\t\"\n",
    "print comment"
   ]
  },
  {
   "cell_type": "code",
   "execution_count": 53,
   "metadata": {
    "collapsed": false
   },
   "outputs": [
    {
     "name": "stdout",
     "output_type": "stream",
     "text": [
      "20\n",
      "22\n"
     ]
    }
   ],
   "source": [
    "# When we use this  'r' notation, if that String data consist \\n or \\t,\n",
    "# then  those \\n & \\t will be treated as two different chars (But Not as Single Char)\n",
    "# Int the following example we can observe, this with the help of len() function\n",
    "s=\"line1\\nline2\\ttabspace\"\n",
    "print len(s)\n",
    "s=r\"line1\\nline2\\ttabspace\" \n",
    "print len(s)"
   ]
  },
  {
   "cell_type": "code",
   "execution_count": 54,
   "metadata": {
    "collapsed": true
   },
   "outputs": [],
   "source": [
    "# String is a Sequence & it will have the index for every char in the String\n",
    "# Index will Starts from Zero\n",
    "# We can access the String Chars , by using their index values\n",
    "'''\n",
    "Accessing String chars with Index Values:\n",
    "--> Let say  a=”Python Learning”\n",
    "a[0]=P\n",
    "a[6[=[]\n",
    "a[14]=g\n",
    "a[17]= Error: String Index Out of range \n",
    "a[]= Error: Invalid Syntax\n",
    "a[-1]=g\n",
    "a[-5]=r\n",
    "a{-20]=Error: String Index Out of range \n",
    "a[3],a[5]=('h', 'n')\n",
    "a[a]=string indices must be integers, not str\n",
    "\n",
    "'''\n",
    "\n",
    "s1=\"python program\""
   ]
  },
  {
   "cell_type": "code",
   "execution_count": 55,
   "metadata": {
    "collapsed": false
   },
   "outputs": [
    {
     "name": "stdout",
     "output_type": "stream",
     "text": [
      "p\n"
     ]
    }
   ],
   "source": [
    "# We can access the String Chars by using Index values , with the help of Brackets\n",
    "# Here along with the string variable , we will put the index value of the required char in a Bracket to get the char.\n",
    "print s1[0]"
   ]
  },
  {
   "cell_type": "code",
   "execution_count": 56,
   "metadata": {
    "collapsed": false
   },
   "outputs": [
    {
     "name": "stdout",
     "output_type": "stream",
     "text": [
      "a\n"
     ]
    }
   ],
   "source": [
    "# Index is always is an Integer & Starts from Zero\n",
    "print s1[12]"
   ]
  },
  {
   "cell_type": "code",
   "execution_count": 58,
   "metadata": {
    "collapsed": false
   },
   "outputs": [
    {
     "name": "stdout",
     "output_type": "stream",
     "text": [
      "14\n"
     ]
    }
   ],
   "source": [
    "print len(s1)"
   ]
  },
  {
   "cell_type": "code",
   "execution_count": 59,
   "metadata": {
    "collapsed": false
   },
   "outputs": [
    {
     "ename": "IndexError",
     "evalue": "string index out of range",
     "output_type": "error",
     "traceback": [
      "\u001b[0;31m---------------------------------------------------------------------------\u001b[0m",
      "\u001b[0;31mIndexError\u001b[0m                                Traceback (most recent call last)",
      "\u001b[0;32m<ipython-input-59-533706a46e60>\u001b[0m in \u001b[0;36m<module>\u001b[0;34m()\u001b[0m\n\u001b[0;32m----> 1\u001b[0;31m \u001b[1;32mprint\u001b[0m \u001b[0ms1\u001b[0m\u001b[1;33m[\u001b[0m\u001b[1;36m20\u001b[0m\u001b[1;33m]\u001b[0m\u001b[1;33m\u001b[0m\u001b[0m\n\u001b[0m",
      "\u001b[0;31mIndexError\u001b[0m: string index out of range"
     ]
    }
   ],
   "source": [
    "# If we try to access the Index , if that string does n't have tht Index Character ,\n",
    "# (That if that index number is more than it's length)\n",
    "# Then it will throws the , IndexError: string index out of range\n",
    "print s1[20]"
   ]
  },
  {
   "cell_type": "code",
   "execution_count": 60,
   "metadata": {
    "collapsed": false
   },
   "outputs": [
    {
     "data": {
      "text/plain": [
       "'python program'"
      ]
     },
     "execution_count": 60,
     "metadata": {},
     "output_type": "execute_result"
    }
   ],
   "source": [
    "'''\n",
    "String Slicing :\n",
    "\n",
    "Let Say   a=”Python Slicing”\n",
    "\n",
    "a[:]=Python Slicing\n",
    "a[2:]=Py                  (Note-    2:  means ---> from o to n-1      0 to 1)\n",
    "a[:5]=Slicing\n",
    "a[0:]=Python Slicing\n",
    "a[:0]=''\n",
    "a[0:0]=''\n",
    "a[2:5]=tho\n",
    "a[5:3]=''\n",
    "a[5:10]=n Sli\n",
    "a[-14:-12]=Py\n",
    "a[-14:-1]=Python Slicin\n",
    "\n",
    "a[0:10000]=Python Slicing\n",
    "a[100000:0]=''\n",
    "a[-10000000:-1]=Python Slicin\n",
    "a[-1:-1000000000]=''\n",
    "\n",
    "a[0:-1]='Python Slicin'\n",
    "a[0:-2]='Python Slici'\n",
    "\n",
    "Note: String slicing will never returns the Error\n",
    "'''\n",
    "s1"
   ]
  },
  {
   "cell_type": "code",
   "execution_count": 61,
   "metadata": {
    "collapsed": false
   },
   "outputs": [
    {
     "name": "stdout",
     "output_type": "stream",
     "text": [
      "pit\n"
     ]
    }
   ],
   "source": [
    "#We will acces one by one char from a string like below by using their Index Values\n",
    "print s1[0]+s1[1]+s1[2]"
   ]
  },
  {
   "cell_type": "code",
   "execution_count": 63,
   "metadata": {
    "collapsed": false
   },
   "outputs": [
    {
     "name": "stdout",
     "output_type": "stream",
     "text": [
      "pyt\n"
     ]
    }
   ],
   "source": [
    "print s1[0:3] # m:n  mth index to n-1th iindex"
   ]
  },
  {
   "cell_type": "code",
   "execution_count": 64,
   "metadata": {
    "collapsed": false
   },
   "outputs": [
    {
     "data": {
      "text/plain": [
       "'python program'"
      ]
     },
     "execution_count": 64,
     "metadata": {},
     "output_type": "execute_result"
    }
   ],
   "source": [
    "s1"
   ]
  },
  {
   "cell_type": "code",
   "execution_count": 66,
   "metadata": {
    "collapsed": false
   },
   "outputs": [
    {
     "name": "stdout",
     "output_type": "stream",
     "text": [
      "m\n"
     ]
    }
   ],
   "source": [
    "# We can also specify the index like below , by using len() function\n",
    "print s1[len(s1)-1]"
   ]
  },
  {
   "cell_type": "code",
   "execution_count": 67,
   "metadata": {
    "collapsed": true
   },
   "outputs": [],
   "source": [
    "s=\"python program\""
   ]
  },
  {
   "cell_type": "code",
   "execution_count": 68,
   "metadata": {
    "collapsed": false
   },
   "outputs": [
    {
     "data": {
      "text/plain": [
       "'python program'"
      ]
     },
     "execution_count": 68,
     "metadata": {},
     "output_type": "execute_result"
    }
   ],
   "source": [
    "s"
   ]
  },
  {
   "cell_type": "code",
   "execution_count": 69,
   "metadata": {
    "collapsed": false
   },
   "outputs": [
    {
     "name": "stdout",
     "output_type": "stream",
     "text": [
      "m\n"
     ]
    }
   ],
   "source": [
    "# We can also have Index number as Negative\n",
    "# In Conventional Indexing , the Index starts from Zero and count from Right to Left untill Last Char of the String\n",
    "# But In the case of Negative Index, the Index count starts from Right to Left untill First char of the String\n",
    "\n",
    "print s[-1]"
   ]
  },
  {
   "cell_type": "code",
   "execution_count": 70,
   "metadata": {
    "collapsed": false
   },
   "outputs": [
    {
     "name": "stdout",
     "output_type": "stream",
     "text": [
      "r\n"
     ]
    }
   ],
   "source": [
    "print s[-3]"
   ]
  },
  {
   "cell_type": "code",
   "execution_count": 71,
   "metadata": {
    "collapsed": false
   },
   "outputs": [
    {
     "data": {
      "text/plain": [
       "'python program'"
      ]
     },
     "execution_count": 71,
     "metadata": {},
     "output_type": "execute_result"
    }
   ],
   "source": [
    "s"
   ]
  },
  {
   "cell_type": "code",
   "execution_count": 72,
   "metadata": {
    "collapsed": false
   },
   "outputs": [
    {
     "name": "stdout",
     "output_type": "stream",
     "text": [
      "python\n"
     ]
    }
   ],
   "source": [
    "# String Slicing\n",
    "# We can get the part of the string (or) Sub String by using this String slicing feature\n",
    "# To implement, String Slicingwe will use the Column (:) Operator\n",
    "print s[0:6]"
   ]
  },
  {
   "cell_type": "code",
   "execution_count": 73,
   "metadata": {
    "collapsed": false
   },
   "outputs": [
    {
     "name": "stdout",
     "output_type": "stream",
     "text": [
      "python\n"
     ]
    }
   ],
   "source": [
    "# It will starts printing  from  0th  (or)  Starting index to the 5th Index of that string\n",
    "# I.e it will print upto n-1th Index (Here n-1=6-1='5')\n",
    "print s[:6]"
   ]
  },
  {
   "cell_type": "code",
   "execution_count": 74,
   "metadata": {
    "collapsed": false
   },
   "outputs": [
    {
     "name": "stdout",
     "output_type": "stream",
     "text": [
      " program\n"
     ]
    }
   ],
   "source": [
    "# It will starts printing  from  6th index to the Last Index of that string\n",
    "print s[6:]"
   ]
  },
  {
   "cell_type": "code",
   "execution_count": 75,
   "metadata": {
    "collapsed": false
   },
   "outputs": [
    {
     "name": "stdout",
     "output_type": "stream",
     "text": [
      "hon \n"
     ]
    }
   ],
   "source": [
    "# It will starts printing  from  3rd index to the 6th Index (n-1 Index) of that string\n",
    "print s[3:7]"
   ]
  },
  {
   "cell_type": "code",
   "execution_count": 76,
   "metadata": {
    "collapsed": false
   },
   "outputs": [
    {
     "name": "stdout",
     "output_type": "stream",
     "text": [
      "\n"
     ]
    }
   ],
   "source": [
    "#In general,It will starts printing  from  7th index to the 2nd Index (n-1 Index) of that string\n",
    "# But it is not possible , so will prints Nothing\n",
    "# Note: String Slicing never throws an error\n",
    "print s[7:3]"
   ]
  },
  {
   "cell_type": "code",
   "execution_count": 77,
   "metadata": {
    "collapsed": false
   },
   "outputs": [
    {
     "data": {
      "text/plain": [
       "'python program'"
      ]
     },
     "execution_count": 77,
     "metadata": {},
     "output_type": "execute_result"
    }
   ],
   "source": [
    "s"
   ]
  },
  {
   "cell_type": "code",
   "execution_count": 78,
   "metadata": {
    "collapsed": false
   },
   "outputs": [
    {
     "name": "stdout",
     "output_type": "stream",
     "text": [
      "pto rg\n"
     ]
    }
   ],
   "source": [
    "# It will starts printing from  0th index to the 11th Index (n-1 Index) of that string with +2 Index count\n",
    "# i.e After printing the 0th index value, it will prints the 2nd Index (0+2=2) value Instad of 1st Index value\n",
    "print s[0:12:2]"
   ]
  },
  {
   "cell_type": "code",
   "execution_count": 79,
   "metadata": {
    "collapsed": false
   },
   "outputs": [
    {
     "name": "stdout",
     "output_type": "stream",
     "text": [
      "p no\n"
     ]
    }
   ],
   "source": [
    "# It will starts printing from  7th index to the 2nd Index (n-1 Index) of that string with -1 Index count\n",
    "# i.e After printing the 7th index value, it will prints the 6th Index (7-1=6) value Instad of 8th Index value\n",
    "print s[7:3:-1]"
   ]
  },
  {
   "cell_type": "code",
   "execution_count": 80,
   "metadata": {
    "collapsed": false
   },
   "outputs": [
    {
     "name": "stdout",
     "output_type": "stream",
     "text": [
      "margorp nohtyp\n"
     ]
    }
   ],
   "source": [
    "# To Print Reverse of the given String , will use Double Columns with -1 Decrement as shown in below\n",
    "print s[::-1]"
   ]
  },
  {
   "cell_type": "code",
   "execution_count": 81,
   "metadata": {
    "collapsed": false
   },
   "outputs": [
    {
     "data": {
      "text/plain": [
       "'python program'"
      ]
     },
     "execution_count": 81,
     "metadata": {},
     "output_type": "execute_result"
    }
   ],
   "source": [
    "s"
   ]
  },
  {
   "cell_type": "code",
   "execution_count": 82,
   "metadata": {
    "collapsed": true
   },
   "outputs": [],
   "source": [
    "# Direct String initialization & String Reference assignment & Full String Slicing using [:],\n",
    "# Will Points to the same Object in the memory.\n",
    "s=\"python\"\n",
    "s1=s\n",
    "s2=s[:]"
   ]
  },
  {
   "cell_type": "code",
   "execution_count": 83,
   "metadata": {
    "collapsed": false
   },
   "outputs": [
    {
     "name": "stdout",
     "output_type": "stream",
     "text": [
      "python python python\n"
     ]
    }
   ],
   "source": [
    "print s,s1,s2"
   ]
  },
  {
   "cell_type": "code",
   "execution_count": 84,
   "metadata": {
    "collapsed": false
   },
   "outputs": [
    {
     "name": "stdout",
     "output_type": "stream",
     "text": [
      "30451472 30451472 30451472\n"
     ]
    }
   ],
   "source": [
    "# Here we can see all String References are pointing to the same Object in the memory\n",
    "print id(s),id(s1),id(s2)"
   ]
  },
  {
   "cell_type": "code",
   "execution_count": 85,
   "metadata": {
    "collapsed": false
   },
   "outputs": [
    {
     "name": "stdout",
     "output_type": "stream",
     "text": [
      "p\n"
     ]
    }
   ],
   "source": [
    "print s[0]"
   ]
  },
  {
   "cell_type": "code",
   "execution_count": 86,
   "metadata": {
    "collapsed": false
   },
   "outputs": [
    {
     "ename": "TypeError",
     "evalue": "'str' object does not support item assignment",
     "output_type": "error",
     "traceback": [
      "\u001b[0;31m---------------------------------------------------------------------------\u001b[0m",
      "\u001b[0;31mTypeError\u001b[0m                                 Traceback (most recent call last)",
      "\u001b[0;32m<ipython-input-86-bac66e376a21>\u001b[0m in \u001b[0;36m<module>\u001b[0;34m()\u001b[0m\n\u001b[0;32m----> 1\u001b[0;31m \u001b[0ms\u001b[0m\u001b[1;33m[\u001b[0m\u001b[1;36m0\u001b[0m\u001b[1;33m]\u001b[0m \u001b[1;33m=\u001b[0m \u001b[1;34m\"z\"\u001b[0m\u001b[1;33m\u001b[0m\u001b[0m\n\u001b[0m",
      "\u001b[0;31mTypeError\u001b[0m: 'str' object does not support item assignment"
     ]
    }
   ],
   "source": [
    "# Modyfying the Strings with their Index values is not Possible\n",
    "# Becuse Strings are Immutable (Changing of the value is not possible) \n",
    "s[0] = \"z\""
   ]
  },
  {
   "cell_type": "code",
   "execution_count": 87,
   "metadata": {
    "collapsed": true
   },
   "outputs": [],
   "source": [
    "# Index feature will only supports for Sequence types \n",
    "# But it will not supports for Integers or other Non-Sequence types\n",
    "i=1023456"
   ]
  },
  {
   "cell_type": "code",
   "execution_count": 88,
   "metadata": {
    "collapsed": false
   },
   "outputs": [
    {
     "ename": "TypeError",
     "evalue": "'int' object has no attribute '__getitem__'",
     "output_type": "error",
     "traceback": [
      "\u001b[0;31m---------------------------------------------------------------------------\u001b[0m",
      "\u001b[0;31mTypeError\u001b[0m                                 Traceback (most recent call last)",
      "\u001b[0;32m<ipython-input-88-5ad0f3145082>\u001b[0m in \u001b[0;36m<module>\u001b[0;34m()\u001b[0m\n\u001b[0;32m----> 1\u001b[0;31m \u001b[1;32mprint\u001b[0m \u001b[0mi\u001b[0m\u001b[1;33m[\u001b[0m\u001b[1;36m0\u001b[0m\u001b[1;33m:\u001b[0m\u001b[1;36m2\u001b[0m\u001b[1;33m]\u001b[0m\u001b[1;33m\u001b[0m\u001b[0m\n\u001b[0m",
      "\u001b[0;31mTypeError\u001b[0m: 'int' object has no attribute '__getitem__'"
     ]
    }
   ],
   "source": [
    "print i[0:2]"
   ]
  },
  {
   "cell_type": "code",
   "execution_count": 10,
   "metadata": {
    "collapsed": false
   },
   "outputs": [
    {
     "ename": "SyntaxError",
     "evalue": "invalid syntax (<ipython-input-10-9cda467d4a2c>, line 20)",
     "output_type": "error",
     "traceback": [
      "\u001b[0;36m  File \u001b[0;32m\"<ipython-input-10-9cda467d4a2c>\"\u001b[0;36m, line \u001b[0;32m20\u001b[0m\n\u001b[0;31m    def fun(){\u001b[0m\n\u001b[0m             ^\u001b[0m\n\u001b[0;31mSyntaxError\u001b[0m\u001b[0;31m:\u001b[0m invalid syntax\n"
     ]
    }
   ],
   "source": [
    "#Functions:\n",
    "'''\n",
    "Syntax:\n",
    "print “This is main Block Statement 1”\n",
    "def fun1():\n",
    "    print “This is my First Statement”\n",
    "    print “This is my second Statement”\n",
    "print “This is main Block Statement 2”\n",
    "fun1()\n",
    "\n",
    "--> In Python , the function syntax will be as shown in above\n",
    "--> We will define the function, by using def Keyword\n",
    "--> Every function will have a Paranthesiss () & End with Column (:)\n",
    "--> The function name should not start with the number..but it can contain in the middle and end\n",
    "--> You can use only one special char  Under score(i.e _) in the function name\n",
    "--> It is recommended to use small chars\n",
    "'''\n",
    "\n",
    "\n",
    "# In Pytho we never use Brackets to represent Block of function statements\n",
    "# Instead we have Indentation concept in Python\n",
    "\n",
    "print \"program started\"\n",
    "def fun(){\n",
    "    print \"statements in function\"\n",
    "}\n"
   ]
  },
  {
   "cell_type": "code",
   "execution_count": 89,
   "metadata": {
    "collapsed": false
   },
   "outputs": [
    {
     "name": "stdout",
     "output_type": "stream",
     "text": [
      "program started\n",
      "other statements in program\n",
      "function started\n",
      "statements in function\n",
      "function ended\n",
      "program ended\n"
     ]
    }
   ],
   "source": [
    "'''\n",
    "*--> Afetr defining the function block, do not start writing from the start line. Just give an Indent.\n",
    "Tab Intendation is always recommended. But you can also give a double space..\n",
    "Otherwise it will treat as the main block statement..\n",
    "--> All the statements in the function should always , align properly\n",
    "'''\n",
    "print \"program started\"\n",
    "def fun():\n",
    "    print \"function started\"\n",
    "    print \"statements in function\"\n",
    "    print \"function ended\"\n",
    "print \"other statements in program\"\n",
    "fun()\n",
    "print \"program ended\"\n",
    "    \n",
    "\n",
    "    "
   ]
  },
  {
   "cell_type": "code",
   "execution_count": 90,
   "metadata": {
    "collapsed": false
   },
   "outputs": [
    {
     "name": "stdout",
     "output_type": "stream",
     "text": [
      "program started\n",
      "function ended\n",
      "other statements in program\n",
      "function started\n",
      "statements in function\n",
      "program ended\n"
     ]
    }
   ],
   "source": [
    "# Function will not call atomatically\n",
    "# We need to call the function , by using function name\n",
    "# Here function is called , afetr fourth print statement, so then only that function will executed.\n",
    "print \"program started\"\n",
    "def fun():\n",
    "    print \"function started\"\n",
    "    print \"statements in function\"\n",
    "print \"function ended\"\n",
    "print \"other statements in program\"\n",
    "fun()\n",
    "print \"program ended\"\n",
    "    \n",
    "\n",
    "    "
   ]
  },
  {
   "cell_type": "code",
   "execution_count": 91,
   "metadata": {
    "collapsed": false
   },
   "outputs": [
    {
     "ename": "IndentationError",
     "evalue": "unindent does not match any outer indentation level (<ipython-input-91-c21d69c7ecdc>, line 5)",
     "output_type": "error",
     "traceback": [
      "\u001b[0;36m  File \u001b[0;32m\"<ipython-input-91-c21d69c7ecdc>\"\u001b[0;36m, line \u001b[0;32m5\u001b[0m\n\u001b[0;31m    print \"function ended\"\u001b[0m\n\u001b[0m                          ^\u001b[0m\n\u001b[0;31mIndentationError\u001b[0m\u001b[0;31m:\u001b[0m unindent does not match any outer indentation level\n"
     ]
    }
   ],
   "source": [
    "# All the statements in the function should always align properly with equal Indentation\n",
    "# Otherwise , if any statement in the function is not Indented properly , then it will throws Indentation Error.\n",
    "# IndentationError: unindent does not match any outer indentation level\n",
    "print \"program started\"\n",
    "def fun():\n",
    "    print \"function started\"\n",
    "    print \"statements in function\"\n",
    "  print \"function ended\"\n",
    "print \"other statements in program\"\n",
    "fun()\n",
    "print \"program ended\"\n",
    "    "
   ]
  },
  {
   "cell_type": "code",
   "execution_count": 92,
   "metadata": {
    "collapsed": false
   },
   "outputs": [
    {
     "name": "stdout",
     "output_type": "stream",
     "text": [
      "program started\n",
      "other statements in program\n",
      "function started\n",
      "statements in function\n",
      "function ended\n",
      "program ended\n"
     ]
    }
   ],
   "source": [
    "# Indetation by using any number of normal spaces (Here two normal spaces) will work properly\n",
    "print \"program started\"\n",
    "def fun():\n",
    "  print \"function started\"\n",
    "  print \"statements in function\"\n",
    "  print \"function ended\"\n",
    "print \"other statements in program\"\n",
    "fun()\n",
    "print \"program ended\"\n",
    "    "
   ]
  },
  {
   "cell_type": "code",
   "execution_count": 93,
   "metadata": {
    "collapsed": false
   },
   "outputs": [
    {
     "ename": "IndentationError",
     "evalue": "unexpected indent (<ipython-input-93-5dffb22a7bee>, line 4)",
     "output_type": "error",
     "traceback": [
      "\u001b[0;36m  File \u001b[0;32m\"<ipython-input-93-5dffb22a7bee>\"\u001b[0;36m, line \u001b[0;32m4\u001b[0m\n\u001b[0;31m    print \"statements in function\"\u001b[0m\n\u001b[0m    ^\u001b[0m\n\u001b[0;31mIndentationError\u001b[0m\u001b[0;31m:\u001b[0m unexpected indent\n"
     ]
    }
   ],
   "source": [
    "# But if we use Some statements in the function with two normal spaces &\n",
    "# Some other statements in the function with single tab It will throws IndentationError\n",
    "# IndentationError: unexpected indent\n",
    "\n",
    "# Note: In Function all the statements , shuld take the equal indentation .(That may be tab spac or any number of spaces)\n",
    "print \"program started\"\n",
    "def fun():\n",
    "  print \"function started\"\n",
    "    print \"statements in function\"\n",
    "  print \"function ended\"\n",
    "print \"other statements in program\"\n",
    "fun()\n",
    "print \"program ended\"\n",
    "    "
   ]
  },
  {
   "cell_type": "code",
   "execution_count": 94,
   "metadata": {
    "collapsed": false
   },
   "outputs": [
    {
     "ename": "IndentationError",
     "evalue": "unexpected indent (<ipython-input-94-68f2fa4bb4fe>, line 5)",
     "output_type": "error",
     "traceback": [
      "\u001b[0;36m  File \u001b[0;32m\"<ipython-input-94-68f2fa4bb4fe>\"\u001b[0;36m, line \u001b[0;32m5\u001b[0m\n\u001b[0;31m    print \"function ended\"\u001b[0m\n\u001b[0m    ^\u001b[0m\n\u001b[0;31mIndentationError\u001b[0m\u001b[0;31m:\u001b[0m unexpected indent\n"
     ]
    }
   ],
   "source": [
    "# Here we can say that it is an indentation eror.\n",
    "# But Here , the Indentation error came at 4th print statement but not at the 3rd print statement.\n",
    "# Here the 4th print statement is supposed to be (or) treating as main block statement \n",
    "print \"program started\"\n",
    "def fun():\n",
    "  print \"function started\"\n",
    "print \"statements in function\"\n",
    "  print \"function ended\"\n",
    "print \"other statements in program\"\n",
    "fun()\n",
    "print \"program ended\"\n",
    "    "
   ]
  },
  {
   "cell_type": "code",
   "execution_count": 95,
   "metadata": {
    "collapsed": false
   },
   "outputs": [
    {
     "name": "stdout",
     "output_type": "stream",
     "text": [
      "program started\n",
      "other statements in program\n",
      "function started\n",
      "statements in function\n",
      "function ended\n",
      "program ended\n"
     ]
    }
   ],
   "source": [
    "# The indentation is upto respective function level only\n",
    "# If we have two different functions in the program,\n",
    "# In Function1 we take Indentation by using two normal spaces and\n",
    "# in function2 we take Indentation by using single tabspace\n",
    "# Indentation may vary from function to function with in the same program will work fine.\n",
    "\n",
    "print \"program started\"\n",
    "def fun():\n",
    "  print \"function started\"\n",
    "  print \"statements in function\"\n",
    "  print \"function ended\"\n",
    "def fun2():\n",
    "    print \"fun2 definition\"\n",
    "print \"other statements in program\"\n",
    "fun()\n",
    "print \"program ended\"\n",
    "    "
   ]
  },
  {
   "cell_type": "code",
   "execution_count": 96,
   "metadata": {
    "collapsed": false
   },
   "outputs": [
    {
     "name": "stdout",
     "output_type": "stream",
     "text": [
      "program started\n",
      "program ended\n"
     ]
    }
   ],
   "source": [
    "# If we don't call the function , the function will not execte\n",
    "print \"program started\"\n",
    "def fun():\n",
    "    print \"this is finction\"\n",
    "print \"program ended\"\n"
   ]
  },
  {
   "cell_type": "code",
   "execution_count": 97,
   "metadata": {
    "collapsed": false
   },
   "outputs": [
    {
     "name": "stdout",
     "output_type": "stream",
     "text": [
      "program started\n",
      "this is finction\n",
      "program ended\n"
     ]
    }
   ],
   "source": [
    "# Depending on our requirement, we can call the function in our program, once the function declaration\n",
    "print \"program started\"\n",
    "def fun():\n",
    "    print \"this is finction\"\n",
    "fun()\n",
    "print \"program ended\"\n"
   ]
  },
  {
   "cell_type": "code",
   "execution_count": 98,
   "metadata": {
    "collapsed": false
   },
   "outputs": [
    {
     "name": "stdout",
     "output_type": "stream",
     "text": [
      "program started\n",
      "program ended\n",
      "this is finction\n"
     ]
    }
   ],
   "source": [
    "# Depending on our requirement, we can call the function in our program, once the function declaration\n",
    "print \"program started\"\n",
    "def fun():\n",
    "    print \"this is finction\"\n",
    "print \"program ended\"\n",
    "fun()\n"
   ]
  },
  {
   "cell_type": "code",
   "execution_count": 99,
   "metadata": {
    "collapsed": false
   },
   "outputs": [
    {
     "name": "stdout",
     "output_type": "stream",
     "text": [
      "30\n"
     ]
    }
   ],
   "source": [
    "# Function with Parameters:\n",
    "# We can pass some values to the function by using Parameters\n",
    "# Parameters: The variables , which are declared in the parameter is called parameters\n",
    "# Arguments: The variable , which are sending to a function, with the function call is called arguments\n",
    "# In the below example, a,b are parameters, and 10,20 are arguments\n",
    "# This entire concept is called passing parameters mechanisum\n",
    "\n",
    "def fun(a,b):\n",
    "    print a+b\n",
    "fun(10,20)\n",
    "    "
   ]
  },
  {
   "cell_type": "code",
   "execution_count": 100,
   "metadata": {
    "collapsed": true
   },
   "outputs": [],
   "source": [
    "# If we call a function , it will simply executes the called function, but not returns any value\n",
    "def fun(a,b):\n",
    "    c = a+b\n",
    "fun(10,20)"
   ]
  },
  {
   "cell_type": "code",
   "execution_count": 101,
   "metadata": {
    "collapsed": false
   },
   "outputs": [
    {
     "name": "stdout",
     "output_type": "stream",
     "text": [
      "30\n",
      "d= None\n"
     ]
    }
   ],
   "source": [
    "# inorder to return some value from the function to the called function, \n",
    "# we need to use 'return' keyword at the end of the function statements along with return variable\n",
    "\n",
    "# Here this function will returns nothing, so the function call returns nothing\n",
    "# So when we assign this function call to another variable , it will prints \"None\"\n",
    "def fun(a,b):\n",
    "    c = a+b\n",
    "    print c\n",
    "d = fun(10,20)\n",
    "print \"d=\",d"
   ]
  },
  {
   "cell_type": "code",
   "execution_count": 102,
   "metadata": {
    "collapsed": true
   },
   "outputs": [],
   "source": [
    "d"
   ]
  },
  {
   "cell_type": "code",
   "execution_count": 103,
   "metadata": {
    "collapsed": false
   },
   "outputs": [
    {
     "name": "stdout",
     "output_type": "stream",
     "text": [
      "None\n"
     ]
    }
   ],
   "source": [
    "print d"
   ]
  },
  {
   "cell_type": "code",
   "execution_count": 104,
   "metadata": {
    "collapsed": false
   },
   "outputs": [
    {
     "name": "stdout",
     "output_type": "stream",
     "text": [
      "<type 'NoneType'>\n"
     ]
    }
   ],
   "source": [
    "# None is not an Integer as well as not a String . It is itself a type (i.e NoneType)\n",
    "print type(d)"
   ]
  },
  {
   "cell_type": "code",
   "execution_count": 105,
   "metadata": {
    "collapsed": false
   },
   "outputs": [
    {
     "ename": "NameError",
     "evalue": "name 'python' is not defined",
     "output_type": "error",
     "traceback": [
      "\u001b[0;31m---------------------------------------------------------------------------\u001b[0m",
      "\u001b[0;31mNameError\u001b[0m                                 Traceback (most recent call last)",
      "\u001b[0;32m<ipython-input-105-a9b583074938>\u001b[0m in \u001b[0;36m<module>\u001b[0;34m()\u001b[0m\n\u001b[0;32m----> 1\u001b[0;31m \u001b[0ms1\u001b[0m\u001b[1;33m=\u001b[0m\u001b[0mpython\u001b[0m\u001b[1;33m\u001b[0m\u001b[0m\n\u001b[0m",
      "\u001b[0;31mNameError\u001b[0m: name 'python' is not defined"
     ]
    }
   ],
   "source": [
    "s1=python"
   ]
  },
  {
   "cell_type": "code",
   "execution_count": 106,
   "metadata": {
    "collapsed": true
   },
   "outputs": [],
   "source": [
    "# we can initialize the variable with None.\n",
    "s1=None"
   ]
  },
  {
   "cell_type": "code",
   "execution_count": 107,
   "metadata": {
    "collapsed": true
   },
   "outputs": [],
   "source": [
    "s1=True"
   ]
  },
  {
   "cell_type": "code",
   "execution_count": 108,
   "metadata": {
    "collapsed": false
   },
   "outputs": [
    {
     "name": "stdout",
     "output_type": "stream",
     "text": [
      "<type 'bool'>\n"
     ]
    }
   ],
   "source": [
    "print type(s1)"
   ]
  }
 ],
 "metadata": {
  "anaconda-cloud": {},
  "kernelspec": {
   "display_name": "Python [default]",
   "language": "python",
   "name": "python2"
  },
  "language_info": {
   "codemirror_mode": {
    "name": "ipython",
    "version": 2
   },
   "file_extension": ".py",
   "mimetype": "text/x-python",
   "name": "python",
   "nbconvert_exporter": "python",
   "pygments_lexer": "ipython2",
   "version": "2.7.12"
  }
 },
 "nbformat": 4,
 "nbformat_minor": 1
}
