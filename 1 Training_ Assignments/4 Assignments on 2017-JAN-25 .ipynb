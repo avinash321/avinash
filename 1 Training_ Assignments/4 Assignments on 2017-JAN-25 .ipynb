{
 "cells": [
  {
   "cell_type": "code",
   "execution_count": 4,
   "metadata": {
    "collapsed": false
   },
   "outputs": [
    {
     "name": "stdout",
     "output_type": "stream",
     "text": [
      "RDBMS stands for Relational Database Management System.\n",
      "RDBMS is the basis for SQL, and for all modern database systems such as MS SQL Server, IBM DB2, Oracle, MySQL, and Microsoft Access.\n",
      "The data in RDBMS is stored in database objects called tables.\n",
      "A table is a collection of related data entries and it consists of columns and rows.\n",
      "\n"
     ]
    }
   ],
   "source": [
    "# 59. copy 1 file content in to another file(Take the source and destination file path from the user\n",
    "f1 = open('test_files/source.txt','r')\n",
    "data=f1.read()\n",
    "print data"
   ]
  },
  {
   "cell_type": "code",
   "execution_count": 7,
   "metadata": {
    "collapsed": false
   },
   "outputs": [
    {
     "name": "stdout",
     "output_type": "stream",
     "text": [
      "Data copied successfully\n"
     ]
    }
   ],
   "source": [
    "f2 = open('test_files/destin.txt','w')\n",
    "f2.write(data)\n",
    "f2.close()\n",
    "print \"Data copied successfully\""
   ]
  },
  {
   "cell_type": "code",
   "execution_count": 30,
   "metadata": {
    "collapsed": false
   },
   "outputs": [],
   "source": [
    "#60. Show the below menu to the user:\n",
    "#   1. Add a row\n",
    "#   2. modify a row\n",
    "#   3. delete a row\n",
    "#   Go with one unique field in the file. And maintain that unique constraint in all file modifiction operations\n",
    "#   Use .CSV file for this program\n",
    "\n",
    "# Basic Write Mode (If the given file is not available, it will create the new file)\n",
    "f1=open(\"test_files/myfile.csv\",'w')\n",
    "f1.write('1,Avinash,Kandagatla\\n')\n",
    "f1.close()"
   ]
  },
  {
   "cell_type": "code",
   "execution_count": 9,
   "metadata": {
    "collapsed": false
   },
   "outputs": [
    {
     "name": "stdout",
     "output_type": "stream",
     "text": [
      "enter your details: IdNo,First Name, Last Name 2,ramu,k\n",
      "your details saved successfully\n",
      "1,Avinash,Kandagatla\n",
      "2,ramu,k\n",
      "\n"
     ]
    }
   ],
   "source": [
    "# Add a Row\n",
    "k=raw_input(\"enter your details: IdNo,First Name, Last Name \")\n",
    "f1=open(\"test_files/myfile.csv\",'a')\n",
    "f1.write(k+'\\n')\n",
    "f1.flush()\n",
    "f1.close()\n",
    "print \"your details saved successfully\"\n",
    "f1=open(\"test_files/myfile.csv\",'r')\n",
    "print f1.read()\n",
    "f1.close()"
   ]
  },
  {
   "cell_type": "code",
   "execution_count": 11,
   "metadata": {
    "collapsed": false
   },
   "outputs": [
    {
     "name": "stdout",
     "output_type": "stream",
     "text": [
      "1,Avinash,Kandagatla\n",
      "2,ramu,k\n",
      "\n"
     ]
    },
    {
     "data": {
      "text/plain": [
       "'1,Avinash,Kandagatla\\n2,ramu,k\\n'"
      ]
     },
     "execution_count": 11,
     "metadata": {},
     "output_type": "execute_result"
    }
   ],
   "source": [
    "#2. modify a row\n",
    "f1=open(\"test_files/myfile.csv\",'r')\n",
    "data1= f1.read()\n",
    "print data1\n",
    "data1.replace('kandagatla','k')"
   ]
  },
  {
   "cell_type": "code",
   "execution_count": 91,
   "metadata": {
    "collapsed": false
   },
   "outputs": [],
   "source": [
    "#3. delete a row\n",
    "f1=open(\"test_files/myfile.csv\",'a')"
   ]
  },
  {
   "cell_type": "code",
   "execution_count": 151,
   "metadata": {
    "collapsed": false
   },
   "outputs": [
    {
     "name": "stdout",
     "output_type": "stream",
     "text": [
      "Number of lines are: 4\n"
     ]
    }
   ],
   "source": [
    "# 61. number of lines, words, characters\n",
    "f2=open(\"test_files/test.txt\",'r')\n",
    "# Number of lines\n",
    "k=f2.readlines()\n",
    "print \"Number of lines are: \"+ str(len(k))"
   ]
  },
  {
   "cell_type": "code",
   "execution_count": 150,
   "metadata": {
    "collapsed": false
   },
   "outputs": [
    {
     "name": "stdout",
     "output_type": "stream",
     "text": [
      "﻿and the feat is worthy to be applauded, since it is only a 3 year old venture. Started by Satyen Kothari and Jitendra Gupta, their aim was to simplify online payment and make it quick & effective while following all safety protocols.Right from Emirates, Etihad, Airtel, Bagskart, Meru, Zivame, Esselworld, Kaya, PVR Cinemas, Healthkart, they all use Citrus Pay. \n",
      "They offer 3 packages, monthly charges for which are Rs. 7000 for Easy Starter, Rs. 10000 for Level Up, and Rs. 15000 for Power Packed.Testing for Payment Gateway should includeFunctional Testing: It is the act of testing base functionality of the payment gateway.\n",
      "It is to verify whether the application behaves in same way as it is supposed to be like handling orders, calculation, addition of VAT as per the country etc.\n",
      "Integration:Test integration with your creditcardservice.Performance: Identify various performance metrics like highest possible number of users coming through gateways during specific day and converting them to concurrent usersSecurity: You need to perform a deep security pass for Payment Gateway. \n",
      "\n",
      "Number of Words are: 167\n"
     ]
    }
   ],
   "source": [
    "# Number of words\n",
    "f2=open(\"test_files/test.txt\",'r')\n",
    "k=f2.read()\n",
    "count =0\n",
    "print k\n",
    "for i in k:\n",
    "    if i==' ':\n",
    "        count= count+1\n",
    "print \"Number of Words are: \"+ str(count)\n",
    "f2.close()"
   ]
  },
  {
   "cell_type": "code",
   "execution_count": 153,
   "metadata": {
    "collapsed": false
   },
   "outputs": [
    {
     "name": "stdout",
     "output_type": "stream",
     "text": [
      "﻿and the feat is worthy to be applauded, since it is only a 3 year old venture. Started by Satyen Kothari and Jitendra Gupta, their aim was to simplify online payment and make it quick & effective while following all safety protocols.Right from Emirates, Etihad, Airtel, Bagskart, Meru, Zivame, Esselworld, Kaya, PVR Cinemas, Healthkart, they all use Citrus Pay. \n",
      "They offer 3 packages, monthly charges for which are Rs. 7000 for Easy Starter, Rs. 10000 for Level Up, and Rs. 15000 for Power Packed.Testing for Payment Gateway should includeFunctional Testing: It is the act of testing base functionality of the payment gateway.\n",
      "It is to verify whether the application behaves in same way as it is supposed to be like handling orders, calculation, addition of VAT as per the country etc.\n",
      "Integration:Test integration with your creditcardservice.Performance: Identify various performance metrics like highest possible number of users coming through gateways during specific day and converting them to concurrent usersSecurity: You need to perform a deep security pass for Payment Gateway. \n",
      "\n",
      "Number of Words are: 1091\n"
     ]
    }
   ],
   "source": [
    "# # Number of Characters\n",
    "f2=open(\"test_files/test.txt\",'r')\n",
    "k=f2.read()\n",
    "count =0\n",
    "print k\n",
    "for i in k:\n",
    "    count= count+1\n",
    "print \"Number of Characters are: \"+ str(count)\n",
    "f2.close()"
   ]
  },
  {
   "cell_type": "code",
   "execution_count": 158,
   "metadata": {
    "collapsed": false
   },
   "outputs": [
    {
     "ename": "TypeError",
     "evalue": "'str' object is not callable",
     "output_type": "error",
     "traceback": [
      "\u001b[0;31m---------------------------------------------------------------------------\u001b[0m",
      "\u001b[0;31mTypeError\u001b[0m                                 Traceback (most recent call last)",
      "\u001b[0;32m<ipython-input-158-4d32cb5a9257>\u001b[0m in \u001b[0;36m<module>\u001b[0;34m()\u001b[0m\n\u001b[1;32m      1\u001b[0m \u001b[0;31m# 62. convert .txt file in .json\u001b[0m\u001b[0;34m\u001b[0m\u001b[0;34m\u001b[0m\u001b[0m\n\u001b[1;32m      2\u001b[0m \u001b[0mf3\u001b[0m\u001b[0;34m=\u001b[0m\u001b[0mopen\u001b[0m\u001b[0;34m(\u001b[0m\u001b[0;34m\"test_files/samples.txt\"\u001b[0m\u001b[0;34m,\u001b[0m\u001b[0;34m'w'\u001b[0m\u001b[0;34m)\u001b[0m\u001b[0;34m\u001b[0m\u001b[0m\n\u001b[0;32m----> 3\u001b[0;31m \u001b[0mf3\u001b[0m\u001b[0;34m.\u001b[0m\u001b[0mname\u001b[0m\u001b[0;34m(\u001b[0m\u001b[0;34m)\u001b[0m\u001b[0;34m\u001b[0m\u001b[0m\n\u001b[0m",
      "\u001b[0;31mTypeError\u001b[0m: 'str' object is not callable"
     ]
    }
   ],
   "source": [
    "# 62. convert .txt file in .json\n",
    "f3=open(\"test_files/samples.txt\",'w')\n",
    "f3.name()"
   ]
  },
  {
   "cell_type": "code",
   "execution_count": null,
   "metadata": {
    "collapsed": true
   },
   "outputs": [],
   "source": [
    "#63. Take three columns disease, symptoms, advice in a file and fill the details\n",
    "#\tAsk the user to enter symptoms. Based on this symptoms Suggest the user to what disease it may be and few advices.\n"
   ]
  },
  {
   "cell_type": "code",
   "execution_count": null,
   "metadata": {
    "collapsed": true
   },
   "outputs": [],
   "source": [
    "# 64. Take employees info (id,name, age, adress, sal, height, weight)\n",
    "#\ta. Take id, provide employee information for that id.\n",
    "#\tb. find out average salary.\n",
    "#\tc. find out which age, address taking the heighest salary \n",
    "#\td. find out every employee BMI value\n",
    "#\te. Finally find out the Organization overall BMI"
   ]
  },
  {
   "cell_type": "code",
   "execution_count": null,
   "metadata": {
    "collapsed": true
   },
   "outputs": [],
   "source": [
    "# 65.read the file which contains the size greater than your ram size\n",
    "'''\n",
    "System completely strucking..\n",
    "'''"
   ]
  },
  {
   "cell_type": "code",
   "execution_count": null,
   "metadata": {
    "collapsed": true
   },
   "outputs": [],
   "source": [
    "# 66. Read ten gb movie\n",
    "'''\n",
    "System completely strucking..\n",
    "'''"
   ]
  },
  {
   "cell_type": "code",
   "execution_count": null,
   "metadata": {
    "collapsed": true
   },
   "outputs": [],
   "source": [
    "# 67. Collect nexii emp information in a file Provide these operations.\n",
    "    \n",
    "#    Menu:\n",
    "#     1. Get information information of an employee\n",
    "#    2. Modify employee information\n",
    "#    3. delete an employee information (Only status field change in the employee file)\n",
    "#    4. Add an employee."
   ]
  },
  {
   "cell_type": "code",
   "execution_count": null,
   "metadata": {
    "collapsed": true
   },
   "outputs": [],
   "source": [
    "#68. Take Source and destination file paths from command line arguments and copy the sourcontent into destination.\n",
    "#    Make Sure that your program checking the below conditions.\n",
    "#    1.if the source file not there. Should ask the user to enter new source file or want to quit a program\n",
    "#    2.if the destination file already there in the specified path. \n",
    "#   Should warn the user want to proceed or want to enter new destination file name or want to quit\n"
   ]
  },
  {
   "cell_type": "code",
   "execution_count": null,
   "metadata": {
    "collapsed": true
   },
   "outputs": [],
   "source": [
    "#69. Bulk file copy. \n",
    "#    Take source and destination file paths from a file and copy the source file content into destination file.\n",
    "#       Maintain configuration file and put the below fields there\n",
    "#       Source not found: Skip the copy\n",
    "#       estination found: skip/replace\n",
    "#     maintain a remarks log. What are the files skiped from copy because no source file found.\n",
    "#    What are the files skip/replaced because of destination file foun in the specified path"
   ]
  }
 ],
 "metadata": {
  "anaconda-cloud": {},
  "kernelspec": {
   "display_name": "Python [default]",
   "language": "python",
   "name": "python2"
  },
  "language_info": {
   "codemirror_mode": {
    "name": "ipython",
    "version": 2
   },
   "file_extension": ".py",
   "mimetype": "text/x-python",
   "name": "python",
   "nbconvert_exporter": "python",
   "pygments_lexer": "ipython2",
   "version": "2.7.12"
  }
 },
 "nbformat": 4,
 "nbformat_minor": 1
}
