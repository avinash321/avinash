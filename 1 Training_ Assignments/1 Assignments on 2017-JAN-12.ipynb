{
 "cells": [
  {
   "cell_type": "code",
   "execution_count": 1,
   "metadata": {
    "collapsed": false
   },
   "outputs": [
    {
     "data": {
      "text/plain": [
       "6"
      ]
     },
     "execution_count": 1,
     "metadata": {},
     "output_type": "execute_result"
    }
   ],
   "source": [
    "#1. write a program to findout \n",
    "s1=\"Learn Python\"\n",
    "s1.find('P')"
   ]
  },
  {
   "cell_type": "code",
   "execution_count": 4,
   "metadata": {
    "collapsed": false
   },
   "outputs": [
    {
     "name": "stdout",
     "output_type": "stream",
     "text": [
      "The given substring is there in actual string\n"
     ]
    }
   ],
   "source": [
    "#2. write a program to chek given substring is there in actual string or not? (search should be case insensitive)\n",
    "# With the help of find() function we can get the index of the given sub string starting index value\n",
    "# find() is case sensitive\n",
    "s1=\"I am Learning Python Progrommoing\"\n",
    "k=s1.find('P')\n",
    "if k>=0:\n",
    "    print \"The given substring is there in actual string\"\n",
    "else:\n",
    "    print \"The given substring is Not there in actual string\"\n"
   ]
  },
  {
   "cell_type": "code",
   "execution_count": 8,
   "metadata": {
    "collapsed": false
   },
   "outputs": [
    {
     "name": "stdout",
     "output_type": "stream",
     "text": [
      "Enter your String: avinash\n",
      "Enter your Sub String: avi\n",
      "The given substring is there in actual string\n"
     ]
    }
   ],
   "source": [
    "s1=raw_input(\"Enter your String: \")\n",
    "s2=raw_input(\"Enter your Sub String: \")\n",
    "k=s1.find(s2)\n",
    "if k>=0:\n",
    "    print \"The given substring is there in actual string\"\n",
    "else:\n",
    "    print \"The given substring is Not there in actual string\""
   ]
  },
  {
   "cell_type": "code",
   "execution_count": 3,
   "metadata": {
    "collapsed": false
   },
   "outputs": [
    {
     "name": "stdout",
     "output_type": "stream",
     "text": [
      "Eneter your number: 2\n",
      "2 is an even number\n"
     ]
    }
   ],
   "source": [
    "# 3. take a number from the user and check whether even or odd\n",
    "n=input(\"Eneter your number: \")\n",
    "if(n!=0):\n",
    "    if(n%2==0):\n",
    "        print(str(n)+\" is an even number\")\n",
    "    else:\n",
    "        print(str(n)+\" is an odd number\")\n",
    "else:\n",
    "    print \"Pleas enter other than Zero\""
   ]
  },
  {
   "cell_type": "code",
   "execution_count": 21,
   "metadata": {
    "collapsed": false
   },
   "outputs": [
    {
     "name": "stdout",
     "output_type": "stream",
     "text": [
      "Eneter your number: 329\n",
      "The given number is Not a Prime Number\n"
     ]
    }
   ],
   "source": [
    "# 4. take a number from the user and check whether it is prime?\n",
    "n=input(\"Eneter your number: \")\n",
    "count = 0\n",
    "for m in range(2,n-1):\n",
    "    if (n%m==0):\n",
    "        count=count+1\n",
    "if count<1:\n",
    "    print (\"The given number is Prime Number\")\n",
    "else:\n",
    "    print (\"The given number is Not a Prime Number\")\n"
   ]
  },
  {
   "cell_type": "code",
   "execution_count": 38,
   "metadata": {
    "collapsed": false
   },
   "outputs": [
    {
     "name": "stdout",
     "output_type": "stream",
     "text": [
      "Enter your String value: 123\n",
      "Entered String contains only digits\n"
     ]
    }
   ],
   "source": [
    "# 5. take a string from the user and check contains only digits or not?\n",
    "s1=raw_input(\"Enter your String value: \")\n",
    "if(s1.isdigit()):\n",
    "    print \"Entered String contains only digits\"\n",
    "else:\n",
    "    print \"Entered String NOT contains only digits\""
   ]
  },
  {
   "cell_type": "code",
   "execution_count": 37,
   "metadata": {
    "collapsed": false
   },
   "outputs": [
    {
     "name": "stdout",
     "output_type": "stream",
     "text": [
      "Enter your String value: avi\n",
      "Entered String contains only  alphabets\n"
     ]
    }
   ],
   "source": [
    "# 6. take a string from the user and check contains only  alphabets or not?\n",
    "s1=raw_input(\"Enter your String value: \")\n",
    "if(s1.isalpha()):\n",
    "    print \"Entered String contains only  alphabets\"\n",
    "else:\n",
    "    print \"Entered String NOT contains only alphabets\""
   ]
  },
  {
   "cell_type": "code",
   "execution_count": 72,
   "metadata": {
    "collapsed": false
   },
   "outputs": [
    {
     "name": "stdout",
     "output_type": "stream",
     "text": [
      "Enter your String value: @#$\n",
      "Entered String contains only Special Chars\n"
     ]
    }
   ],
   "source": [
    "# 7. take a string from the user and check contains only  special chars or not?\n",
    "s1=raw_input(\"Enter your String value: \")\n",
    "count=0\n",
    "if(s1.isalnum()):\n",
    "    print \"Entered String NOT contains only Special Chars\" \n",
    "else:\n",
    "    for m in s1:\n",
    "        if(m.isalpha() or m.isdigit()):\n",
    "            count=count+1\n",
    "    if(count>0):\n",
    "        print \"Entered String NOT contains only Special Chars\"\n",
    "    else:\n",
    "        print \"Entered String contains only Special Chars\"\n",
    "            "
   ]
  },
  {
   "cell_type": "code",
   "execution_count": 50,
   "metadata": {
    "collapsed": false
   },
   "outputs": [
    {
     "name": "stdout",
     "output_type": "stream",
     "text": [
      "Enter your String value: @#\n",
      "Entered String NOT contains only Capiatl Letters\n"
     ]
    }
   ],
   "source": [
    "# 8. take a string from the user and check contains only  capiatl letters or not?\n",
    "s1=raw_input(\"Enter your String value: \")\n",
    "if s1.isupper():\n",
    "    print \"Entered String contains only Capiatl Letters\"\n",
    "else:\n",
    "    print \"Entered String NOT contains only Capiatl Letters\""
   ]
  },
  {
   "cell_type": "code",
   "execution_count": 69,
   "metadata": {
    "collapsed": false
   },
   "outputs": [
    {
     "name": "stdout",
     "output_type": "stream",
     "text": [
      "Enter your String value: avi\n",
      "Entered String contains only Small Letters\n"
     ]
    }
   ],
   "source": [
    "# 9. take a string from the user and check contains only  small letters or not?\n",
    "s1=raw_input(\"Enter your String value: \")\n",
    "if s1.islower():\n",
    "    print \"Entered String contains only Small Letters\"\n",
    "else:\n",
    "    print \"Entered String NOT contains only Small Letters\"\n"
   ]
  },
  {
   "cell_type": "code",
   "execution_count": 4,
   "metadata": {
    "collapsed": false
   },
   "outputs": [
    {
     "name": "stdout",
     "output_type": "stream",
     "text": [
      "Menu:\n",
      "1. windows\n",
      "2. Linux\n",
      "3. Mac\n",
      "4. quit\n",
      "Please select your OS: 2\n",
      "linux selected\n",
      "\n"
     ]
    }
   ],
   "source": [
    "# 10. Show the below menu to the user until and until user select quit and display corresponding os message\n",
    "\n",
    "'''\n",
    "Menu:\n",
    "1. windows\n",
    "2. Linux\n",
    "3. Mac\n",
    "4. quit\n",
    "'''\n",
    "\n",
    "print \"Menu:\\n1. windows\\n2. Linux\\n3. Mac\\n4. quit\"\n",
    "s1=input(\"Please select your OS: \")\n",
    "\n",
    "if s1==1:\n",
    "    print \"windows selected\\n\"\n",
    "elif s1==2:\n",
    "    print \"linux selected\\n\"\n",
    "elif s1==3:\n",
    "    print \"Mac selected\\n\"\n",
    "elif s1==4:\n",
    "    print \"Your Programming Terminated\" \n",
    "else:\n",
    "    print \"You Entered wrong output\"\n",
    "        "
   ]
  },
  {
   "cell_type": "code",
   "execution_count": 1,
   "metadata": {
    "collapsed": false
   },
   "outputs": [
    {
     "name": "stdout",
     "output_type": "stream",
     "text": [
      "Enter your String value: dqs\n",
      "Entered String NOT contains atleast one digit\n"
     ]
    }
   ],
   "source": [
    "# 11. take a string from the user and check contains atleast one digit or not?\n",
    "\n",
    "s1=raw_input(\"Enter your String value: \") \n",
    "l1=len(s1) \n",
    "count =0 \n",
    "for m in range(l1): \n",
    "    if s1[m].isdigit(): \n",
    "        print \"Entered String contains atleast one digit\" \n",
    "        count=count+1\n",
    "        break\n",
    "\n",
    "if count==0: \n",
    "    print \"Entered String NOT contains atleast one digit\"\n"
   ]
  },
  {
   "cell_type": "code",
   "execution_count": 14,
   "metadata": {
    "collapsed": false
   },
   "outputs": [
    {
     "name": "stdout",
     "output_type": "stream",
     "text": [
      "Enter your String value: shsdjhjsd321321\n",
      "Entered String contains atleast one alphabet\n"
     ]
    }
   ],
   "source": [
    "# 12. take a string from the user and check contains atleast one alphabets or not?\n",
    "s1=raw_input(\"Enter your String value: \")\n",
    "l1=len(s1)\n",
    "count =0\n",
    "for m in range(l1):\n",
    "    if s1[m].isalpha():\n",
    "        print \"Entered String contains atleast one alphabet\"\n",
    "        count=count+1\n",
    "        break\n",
    "            \n",
    "if count==0:\n",
    "    print \"Entered String NOT contains atleast one alphabet\""
   ]
  },
  {
   "cell_type": "code",
   "execution_count": 80,
   "metadata": {
    "collapsed": false
   },
   "outputs": [
    {
     "name": "stdout",
     "output_type": "stream",
     "text": [
      "Enter your String value: nsdnsdnfn@\n",
      "Entered String contains atleast one Character letter\n"
     ]
    }
   ],
   "source": [
    "# 13. take a string from the user and check contains atleast one chars or not?\n",
    "s1=raw_input(\"Enter your String value: \")\n",
    "count=0\n",
    "if(s1.isalnum()):\n",
    "    print \"Entered String NOT contains atleast one Character letter\" \n",
    "else:\n",
    "    print \"Entered String contains atleast one Character letter\"\n",
    "    "
   ]
  },
  {
   "cell_type": "code",
   "execution_count": 81,
   "metadata": {
    "collapsed": false
   },
   "outputs": [
    {
     "name": "stdout",
     "output_type": "stream",
     "text": [
      "Enter your String value: vnvkjdf\n",
      "Entered String NOT contains atleast one capital letter\n"
     ]
    }
   ],
   "source": [
    "# 14. take a string from the user and check contains atleast one capital letter or not?\n",
    "s1=raw_input(\"Enter your String value: \")\n",
    "l1=len(s1)\n",
    "count =0\n",
    "for m in range(l1):\n",
    "    if s1[m].isupper():\n",
    "        print \"Entered String contains atleast one capital letter\"\n",
    "        count=count+1\n",
    "        break\n",
    "            \n",
    "if count==0:\n",
    "    print \"Entered String NOT contains atleast one capital letter\""
   ]
  },
  {
   "cell_type": "code",
   "execution_count": 82,
   "metadata": {
    "collapsed": false
   },
   "outputs": [
    {
     "name": "stdout",
     "output_type": "stream",
     "text": [
      "Enter your String value: ASS\n",
      "Entered String NOT contains atleast one small letter\n"
     ]
    }
   ],
   "source": [
    "# 15. take a string from the user and check contains atleast one small letter or not?\n",
    "s1=raw_input(\"Enter your String value: \")\n",
    "l1=len(s1)\n",
    "count =0\n",
    "for m in range(l1):\n",
    "    if s1[m].islower():\n",
    "        print \"Entered String contains atleast one small letter\"\n",
    "        count=count+1\n",
    "        break\n",
    "            \n",
    "if count==0:\n",
    "    print \"Entered String NOT contains atleast one small letter\""
   ]
  },
  {
   "cell_type": "code",
   "execution_count": 1,
   "metadata": {
    "collapsed": false
   },
   "outputs": [
    {
     "name": "stdout",
     "output_type": "stream",
     "text": [
      "Enter total number of people: 1101\n",
      "Enter total number of buses: 10\n",
      "Enter total number of seats: 100\n",
      "2 Extra buses are needed\n"
     ]
    }
   ],
   "source": [
    "# 16. Take the input from the user for(Total number of people, toatl number of busses, Number of seats for bus). Based on the input\n",
    "#\tDeside whether there is sufficient busses or not and give solution for how many extra busses required.\n",
    "people=input(\"Enter total number of people: \")\n",
    "buses=input(\"Enter total number of buses: \")\n",
    "seats=input(\"Enter total number of seats: \")\n",
    "\n",
    "Required_Buses=float(people)/seats\n",
    "\n",
    "if Required_Buses>buses:\n",
    "    extrabuses=Required_Buses-buses\n",
    "    old_extrabuses=extrabuses\n",
    "    extrabuses=round(extrabuses)\n",
    "    if extrabuses-old_extrabuses==0:\n",
    "        extrabuses=int(extrabuses)\n",
    "        print str(extrabuses)+\" Extra buses are needed\"\n",
    "    else:\n",
    "        extrabuses=int(extrabuses)\n",
    "        print str(extrabuses+1)+\" Extra buses are needed\"\n",
    "else:\n",
    "    print \"No need of Extra buses\"\n"
   ]
  },
  {
   "cell_type": "code",
   "execution_count": 83,
   "metadata": {
    "collapsed": false
   },
   "outputs": [
    {
     "name": "stdout",
     "output_type": "stream",
     "text": [
      "The first 100 odd numbers are: \n",
      "[1, 3, 5, 7, 9, 11, 13, 15, 17, 19, 21, 23, 25, 27, 29, 31, 33, 35, 37, 39, 41, 43, 45, 47, 49, 51, 53, 55, 57, 59, 61, 63, 65, 67, 69, 71, 73, 75, 77, 79, 81, 83, 85, 87, 89, 91, 93, 95, 97, 99, 101, 103, 105, 107, 109, 111, 113, 115, 117, 119, 121, 123, 125, 127, 129, 131, 133, 135, 137, 139, 141, 143, 145, 147, 149, 151, 153, 155, 157, 159, 161, 163, 165, 167, 169, 171, 173, 175, 177, 179, 181, 183, 185, 187, 189, 191, 193, 195, 197, 199, 201, 203]\n"
     ]
    }
   ],
   "source": [
    "# 17. Print the first 100 odd numbers\n",
    "l1=[]\n",
    "for m in range(500):\n",
    "    if (m%2!=0):\n",
    "        l1.append(m)\n",
    "        if l1.index(m)>100:\n",
    "            break\n",
    "print \"The first 100 odd numbers are: \"\n",
    "print l1\n",
    "        "
   ]
  },
  {
   "cell_type": "code",
   "execution_count": 112,
   "metadata": {
    "collapsed": false
   },
   "outputs": [
    {
     "name": "stdout",
     "output_type": "stream",
     "text": [
      "Enter your Number: 15\n",
      "The factors of the given number is:\n",
      "\n",
      "[1, 3, 5, 15]\n"
     ]
    }
   ],
   "source": [
    "#18. Determine the factors of a number entered  by the user\n",
    "a=input(\"Enter your Number: \")\n",
    "count=0\n",
    "l1=[]\n",
    "for m in range(1,a+1):\n",
    "    if(a%m==0):\n",
    "        l1.append(m)\n",
    "        \n",
    "print \"The factors of the given number is:\\n\"\n",
    "print l1\n"
   ]
  },
  {
   "cell_type": "code",
   "execution_count": 13,
   "metadata": {
    "collapsed": false
   },
   "outputs": [
    {
     "name": "stdout",
     "output_type": "stream",
     "text": [
      "Enter your guess Number501\n",
      "Higher\n"
     ]
    }
   ],
   "source": [
    "# 19. Play a number guessing game (User enters a guess, you print YES or Higher or Lower)\n",
    "actual_num=500\n",
    "user_num=input(\"Enter your guess Number\")\n",
    "if user_num==actual_num:\n",
    "    print \"YES\"\n",
    "elif user_num>actual_num:\n",
    "    print \"Higher\"\n",
    "elif user_num<actual_num:\n",
    "    print \"Lower\"\n",
    "    "
   ]
  },
  {
   "cell_type": "code",
   "execution_count": 15,
   "metadata": {
    "collapsed": false
   },
   "outputs": [
    {
     "name": "stdout",
     "output_type": "stream",
     "text": [
      "enter your first number44\n",
      "Enter your second number2\n",
      "a is divisible by b\n"
     ]
    }
   ],
   "source": [
    "# 20. Take two numbers from the user a,b check whether a is divisible by b or not?\n",
    "a=input(\"enter your first number\")\n",
    "b=input(\"Enter your second number\")\n",
    "if a%b is 0:\n",
    "    print \"a is divisible by b\"\n",
    "else:\n",
    "    print \"a is Not divisible by b\""
   ]
  },
  {
   "cell_type": "code",
   "execution_count": 21,
   "metadata": {
    "collapsed": false
   },
   "outputs": [
    {
     "name": "stdout",
     "output_type": "stream",
     "text": [
      "Enter Age: 14\n",
      "Teenager\n"
     ]
    }
   ],
   "source": [
    "#21. Given an age, figure out whether someone's a baby, toddler, child, teenager, adult or old codger.\n",
    "age=input(\"Enter Age: \")\n",
    "if age<1:\n",
    "    print \"Baby\"\n",
    "elif age<5:\n",
    "     print \"Toddler\"\n",
    "elif age<12:\n",
    "     print \"Chld\"\n",
    "elif age<20:\n",
    "     print \"Teenager\"\n",
    "elif age<40:\n",
    "     print \"Adult\"\n",
    "else:\n",
    "    print \"Old Codger\""
   ]
  },
  {
   "cell_type": "code",
   "execution_count": 24,
   "metadata": {
    "collapsed": false
   },
   "outputs": [
    {
     "name": "stdout",
     "output_type": "stream",
     "text": [
      "[0, 3, 5, 6, 9, 10, 12, 15, 18, 20, 21, 24, 25, 27, 30, 33, 35, 36, 39, 40, 42, 45, 48, 50, 51, 54, 55, 57, 60, 63, 65, 66, 69, 70, 72, 75, 78, 80, 81, 84, 85, 87, 90, 93, 95, 96, 99, 100, 102, 105, 108, 110, 111, 114, 115, 117, 120, 123, 125, 126, 129, 130, 132, 135, 138, 140, 141, 144, 145, 147, 150, 153, 155, 156, 159, 160, 162, 165, 168, 170, 171, 174, 175, 177, 180, 183, 185, 186, 189, 190, 192, 195, 198, 200, 201, 204, 205, 207, 210, 213, 215, 216, 219, 220, 222, 225, 228, 230, 231, 234, 235, 237, 240, 243, 245, 246, 249, 250, 252, 255, 258, 260, 261, 264, 265, 267, 270, 273, 275, 276, 279, 280, 282, 285, 288, 290, 291, 294, 295, 297, 300, 303, 305, 306, 309, 310, 312, 315, 318, 320, 321, 324, 325, 327, 330, 333, 335, 336, 339, 340, 342, 345, 348, 350, 351, 354, 355, 357, 360, 363, 365, 366, 369, 370, 372, 375, 378, 380, 381, 384, 385, 387, 390, 393, 395, 396, 399, 400, 402, 405, 408, 410, 411, 414, 415, 417, 420, 423, 425, 426, 429, 430, 432, 435, 438, 440, 441, 444, 445, 447, 450, 453, 455, 456, 459, 460, 462, 465, 468, 470, 471, 474, 475, 477, 480, 483, 485, 486, 489, 490, 492, 495, 498, 500, 501, 504, 505, 507, 510, 513, 515, 516, 519, 520, 522, 525, 528, 530, 531, 534, 535, 537, 540, 543, 545, 546, 549, 550, 552, 555, 558, 560, 561, 564, 565, 567, 570, 573, 575, 576, 579, 580, 582, 585, 588, 590, 591, 594, 595, 597, 600, 603, 605, 606, 609, 610, 612, 615, 618, 620, 621, 624, 625, 627, 630, 633, 635, 636, 639, 640, 642, 645, 648, 650, 651, 654, 655, 657, 660, 663, 665, 666, 669, 670, 672, 675, 678, 680, 681, 684, 685, 687, 690, 693, 695, 696, 699, 700, 702, 705, 708, 710, 711, 714, 715, 717, 720, 723, 725, 726, 729, 730, 732, 735, 738, 740, 741, 744, 745, 747, 750, 753, 755, 756, 759, 760, 762, 765, 768, 770, 771, 774, 775, 777, 780, 783, 785, 786, 789, 790, 792, 795, 798, 800, 801, 804, 805, 807, 810, 813, 815, 816, 819, 820, 822, 825, 828, 830, 831, 834, 835, 837, 840, 843, 845, 846, 849, 850, 852, 855, 858, 860, 861, 864, 865, 867, 870, 873, 875, 876, 879, 880, 882, 885, 888, 890, 891, 894, 895, 897, 900, 903, 905, 906, 909, 910, 912, 915, 918, 920, 921, 924, 925, 927, 930, 933, 935, 936, 939, 940, 942, 945, 948, 950, 951, 954, 955, 957, 960, 963, 965, 966, 969, 970, 972, 975, 978, 980, 981, 984, 985, 987, 990, 993, 995, 996, 999]\n"
     ]
    }
   ],
   "source": [
    "# 22. Find the sum of all the multiples of 3 or 5 below 1000\n",
    "l1=[]\n",
    "for m in range(1000):\n",
    "    if(m%3 is 0 or m%5 is 0):\n",
    "        l1.append(m)\n",
    "print l1\n",
    "    "
   ]
  },
  {
   "cell_type": "code",
   "execution_count": 26,
   "metadata": {
    "collapsed": false
   },
   "outputs": [
    {
     "name": "stdout",
     "output_type": "stream",
     "text": [
      "Enter your first number222\n",
      "Enter your second number555\n",
      "555 is Bigger than 222\n"
     ]
    }
   ],
   "source": [
    "#23. Write a program to findout big of two numbers\n",
    "a=input(\"Enter your first number\")\n",
    "b=input(\"Enter your second number\")\n",
    "if a>b :\n",
    "    print a,\"is Bigger than\",b\n",
    "else:\n",
    "    print b,\"is Bigger than\",a"
   ]
  },
  {
   "cell_type": "code",
   "execution_count": 27,
   "metadata": {
    "collapsed": false
   },
   "outputs": [
    {
     "name": "stdout",
     "output_type": "stream",
     "text": [
      "Enter your first number12\n",
      "Enter your second number34\n",
      "the bigger number is 34\n"
     ]
    }
   ],
   "source": [
    "#24. Write a program to findout biggest number in the given numbers.\n",
    "a=input(\"Enter your first number\")\n",
    "b=input(\"Enter your second number\")\n",
    "if a>b :\n",
    "    print \"the bigger number is\",a\n",
    "else:\n",
    "    print \"the bigger number is\",b"
   ]
  },
  {
   "cell_type": "code",
   "execution_count": 92,
   "metadata": {
    "collapsed": false
   },
   "outputs": [
    {
     "name": "stdout",
     "output_type": "stream",
     "text": [
      "Enetr Your Stringavinash kandagatla\n",
      "Enter your Sub String a\n"
     ]
    },
    {
     "data": {
      "text/plain": [
       "4"
      ]
     },
     "execution_count": 92,
     "metadata": {},
     "output_type": "execute_result"
    }
   ],
   "source": [
    "#1. findout third occurance of given substring\n",
    "s1=raw_input(\"Enetr Your String\")\n",
    "s2=raw_input(\"Enter your Sub String \")\n",
    "s1.find(s2,3)"
   ]
  },
  {
   "cell_type": "code",
   "execution_count": 94,
   "metadata": {
    "collapsed": false
   },
   "outputs": [
    {
     "name": "stdout",
     "output_type": "stream",
     "text": [
      "python programs Learning avinash kandagatla\n",
      "Enter your Sub String a\n"
     ]
    },
    {
     "data": {
      "text/plain": [
       "17"
      ]
     },
     "execution_count": 94,
     "metadata": {},
     "output_type": "execute_result"
    }
   ],
   "source": [
    "#2. findout nth occurance of given substring\n",
    "s1=raw_input(\"python programs Learning \")\n",
    "s2=raw_input(\"Enter your Sub String \")\n",
    "s1.find(s2,-1)"
   ]
  },
  {
   "cell_type": "code",
   "execution_count": null,
   "metadata": {
    "collapsed": true
   },
   "outputs": [],
   "source": []
  }
 ],
 "metadata": {
  "anaconda-cloud": {},
  "kernelspec": {
   "display_name": "Python [default]",
   "language": "python",
   "name": "python2"
  },
  "language_info": {
   "codemirror_mode": {
    "name": "ipython",
    "version": 2
   },
   "file_extension": ".py",
   "mimetype": "text/x-python",
   "name": "python",
   "nbconvert_exporter": "python",
   "pygments_lexer": "ipython2",
   "version": "2.7.12"
  }
 },
 "nbformat": 4,
 "nbformat_minor": 1
}
