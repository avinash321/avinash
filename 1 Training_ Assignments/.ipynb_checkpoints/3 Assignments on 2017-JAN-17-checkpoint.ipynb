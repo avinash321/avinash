{
 "cells": [
  {
   "cell_type": "code",
   "execution_count": 1,
   "metadata": {
    "collapsed": false
   },
   "outputs": [
    {
     "data": {
      "text/plain": [
       "{'e': 1, 'g': 2, 'l': 1, 'o': 2}"
      ]
     },
     "execution_count": 1,
     "metadata": {},
     "output_type": "execute_result"
    }
   ],
   "source": [
    "#51. input: google\n",
    "#\toutput: {'g':2,'o':2,'l':1,'e':1} use dictionary comprehension\n",
    "a=\"google\"\n",
    "{char:a.count(char) for char in a}"
   ]
  },
  {
   "cell_type": "code",
   "execution_count": 10,
   "metadata": {
    "collapsed": false
   },
   "outputs": [
    {
     "data": {
      "text/plain": [
       "{'k1': 'v1', 'k2': 'v2'}"
      ]
     },
     "execution_count": 10,
     "metadata": {},
     "output_type": "execute_result"
    }
   ],
   "source": [
    "#52. keys=['k1','k2'], values = ['v1','v2'] form a dictionary.\n",
    "keys=['k1','k2']\n",
    "values = ['v1','v2']\n",
    "l=zip(keys,values)\n",
    "# Dictionary comprehension\n",
    "{i:j for i,j in l}"
   ]
  },
  {
   "cell_type": "code",
   "execution_count": 11,
   "metadata": {
    "collapsed": false
   },
   "outputs": [
    {
     "name": "stdout",
     "output_type": "stream",
     "text": [
      "{'mohan': 80, 'satish': 90, 'purnesh': 40, 'venkat': 30}\n"
     ]
    }
   ],
   "source": [
    "#53. Sort the list marks = [(\"mohan\", 80), (\"satish\", 90), (\"purnesh\", 40), (\"venkat\", 30)] \n",
    "# acording to descending order of marks\n",
    "marks = [(\"mohan\", 80), (\"satish\", 90), (\"purnesh\", 40), (\"venkat\", 30)]\n",
    "d={i:j for i,j in marks}\n",
    "print d"
   ]
  },
  {
   "cell_type": "code",
   "execution_count": 27,
   "metadata": {
    "collapsed": false
   },
   "outputs": [
    {
     "name": "stdout",
     "output_type": "stream",
     "text": [
      "Enter starting of your float numbers: 20\n",
      "Enter Ending of your float numbers: 21\n"
     ]
    },
    {
     "data": {
      "text/plain": [
       "[20.0, 20.1, 20.2, 20.3, 20.4, 20.5, 20.6, 20.7, 20.8, 20.9]"
      ]
     },
     "execution_count": 27,
     "metadata": {},
     "output_type": "execute_result"
    }
   ],
   "source": [
    "# 54. write a function to get dynamic list for floating numbers also based on strat and end and step parameters\n",
    "import decimal\n",
    "def drange(x, y, jump):\n",
    "     while x < y:\n",
    "        yield float(x)\n",
    "        x += decimal.Decimal(jump)\n",
    "n1=input(\"Enter starting of your float numbers: \")\n",
    "n2=input(\"Enter Ending of your float numbers: \")\n",
    "list(drange(n1,n2,'0.1'))"
   ]
  },
  {
   "cell_type": "code",
   "execution_count": 2,
   "metadata": {
    "collapsed": false
   },
   "outputs": [
    {
     "name": "stdout",
     "output_type": "stream",
     "text": [
      "Enter your Number: 28\n",
      "the given number is Perfect Number\n"
     ]
    }
   ],
   "source": [
    "#55. find out all perfect numbers in given range\n",
    "#(a). The given Number is perfect or not?\n",
    "n=input(\"Enter your Number: \")\n",
    "count=0\n",
    "for i in range(1,n):\n",
    "    if n%i==0:\n",
    "        count =count+i\n",
    "if count==n:\n",
    "    print \"the given number is Perfect Number\"\n",
    "else:\n",
    "    print \"the given number is Not Perfect Number\""
   ]
  },
  {
   "cell_type": "code",
   "execution_count": 20,
   "metadata": {
    "collapsed": false
   },
   "outputs": [
    {
     "name": "stdout",
     "output_type": "stream",
     "text": [
      "Enter your range: 2000\n",
      "[6, 28, 496]\n"
     ]
    }
   ],
   "source": [
    "# (b)find out all perfect numbers in given range\n",
    "k=input(\"Enter your range: \")\n",
    "l=[]\n",
    "count=0\n",
    "for x in range(1,k):\n",
    "    for i in range(1,x):\n",
    "        if x%i==0:\n",
    "            count =count+i\n",
    "    if count==x:\n",
    "        l.append(x)\n",
    "    count=0\n",
    "print l"
   ]
  },
  {
   "cell_type": "code",
   "execution_count": null,
   "metadata": {
    "collapsed": true
   },
   "outputs": [],
   "source": [
    "#56. WAP to do all stack operations using lists\n"
   ]
  },
  {
   "cell_type": "code",
   "execution_count": 25,
   "metadata": {
    "collapsed": false
   },
   "outputs": [],
   "source": [
    "#57. WAP to do all queue operations using list"
   ]
  }
 ],
 "metadata": {
  "anaconda-cloud": {},
  "kernelspec": {
   "display_name": "Python [default]",
   "language": "python",
   "name": "python2"
  },
  "language_info": {
   "codemirror_mode": {
    "name": "ipython",
    "version": 2
   },
   "file_extension": ".py",
   "mimetype": "text/x-python",
   "name": "python",
   "nbconvert_exporter": "python",
   "pygments_lexer": "ipython2",
   "version": "2.7.12"
  }
 },
 "nbformat": 4,
 "nbformat_minor": 1
}
