{
 "cells": [
  {
   "cell_type": "code",
   "execution_count": 26,
   "metadata": {
    "collapsed": false
   },
   "outputs": [
    {
     "name": "stdout",
     "output_type": "stream",
     "text": [
      "Eneter some single digit Numbers: 1234\n",
      "Sum is:  10\n",
      "Min Value:  1\n",
      "Max Value:  4\n",
      "Average is:  2\n"
     ]
    }
   ],
   "source": [
    "# 27. Take some single digit numbers from the user and find out min, maximum, sum, average\n",
    "a=raw_input(\"Eneter some single digit Numbers: \")\n",
    "l=[]\n",
    "for i in a:\n",
    "    k=int(i)\n",
    "    l=l+[k]\n",
    "print \"Sum is: \",sum(l)\n",
    "print \"Min Value: \",min(l)\n",
    "print \"Max Value: \",max(l)\n",
    "length=len(a)\n",
    "avg=sum(l)/length\n",
    "print \"Average is: \",avg"
   ]
  },
  {
   "cell_type": "code",
   "execution_count": 14,
   "metadata": {
    "collapsed": false
   },
   "outputs": [
    {
     "name": "stdout",
     "output_type": "stream",
     "text": [
      "Enter Your Number: 1000\n"
     ]
    },
    {
     "data": {
      "text/plain": [
       "'001000'"
      ]
     },
     "execution_count": 14,
     "metadata": {},
     "output_type": "execute_result"
    }
   ],
   "source": [
    "#28. WAP> 10 -> 000010\n",
    "#       100 ->  000100\n",
    "#      1000 ->  001000\n",
    "#2345678  ->  2345678\n",
    "\n",
    "a=raw_input(\"Enter Your Number: \") \n",
    "a.zfill(6)"
   ]
  },
  {
   "cell_type": "code",
   "execution_count": null,
   "metadata": {
    "collapsed": true
   },
   "outputs": [],
   "source": [
    "# 29. names  =\"emp1,emp2,emp3,emp4\" iterate through the employee names."
   ]
  },
  {
   "cell_type": "code",
   "execution_count": 4,
   "metadata": {
    "collapsed": false,
    "scrolled": true
   },
   "outputs": [
    {
     "name": "stdout",
     "output_type": "stream",
     "text": [
      "emp1\n",
      "emp2\n",
      "emp3\n",
      "emp4\n"
     ]
    }
   ],
   "source": [
    "emp=\"emp1,emp2,emp3,emp4\"\n",
    "l=emp.split(',')\n",
    "for i in l:\n",
    "    print i\n"
   ]
  },
  {
   "cell_type": "code",
   "execution_count": 11,
   "metadata": {
    "collapsed": false
   },
   "outputs": [
    {
     "name": "stdout",
     "output_type": "stream",
     "text": [
      "Enter your String: abcabcabcabcabc\n",
      "Enter your Sub String: a\n",
      "Enter Your String for Replace Sub String: $\n",
      "Enter no of occurences you want: 2\n"
     ]
    },
    {
     "data": {
      "text/plain": [
       "'$bc$bcabcabcabc'"
      ]
     },
     "execution_count": 11,
     "metadata": {},
     "output_type": "execute_result"
    }
   ],
   "source": [
    "#30. Take actuual string, soucrce string, destination string.\n",
    "#replce first nth occurances of soucestring with destination string of actual string\n",
    "s1=raw_input(\"Enter your String: \")\n",
    "s2=raw_input(\"Enter your Sub String: \")\n",
    "s3=raw_input(\"Enter Your String for Replace Sub String: \")\n",
    "n=input(\"Enter no of occurences you want: \")\n",
    "s1.replace(s2,s3,n)"
   ]
  },
  {
   "cell_type": "code",
   "execution_count": 8,
   "metadata": {
    "collapsed": true
   },
   "outputs": [],
   "source": [
    "# 31. Taake numbers from the user and findout min, maximum, sum, average\n"
   ]
  },
  {
   "cell_type": "code",
   "execution_count": 18,
   "metadata": {
    "collapsed": false
   },
   "outputs": [
    {
     "name": "stdout",
     "output_type": "stream",
     "text": [
      "[10, 20, 30, 40, 50, 60, 70, 80, 90, 20]\n"
     ]
    }
   ],
   "source": [
    "# 32. l=[10,20,30,[40,50,60],70,[80,90,20]]. Convert this list as sigle dimentiona list\n",
    "l=[10,20,30,[40,50,60],70,[80,90,20]]\n",
    "l1=[]\n",
    "for i in l:\n",
    "    if type(i) != list:\n",
    "        l1=l1+[i]\n",
    "    else:\n",
    "        l1=l1+i\n",
    "print l1"
   ]
  },
  {
   "cell_type": "code",
   "execution_count": 17,
   "metadata": {
    "collapsed": false
   },
   "outputs": [
    {
     "name": "stdout",
     "output_type": "stream",
     "text": [
      "[1, 2, 3, [4, 5], 6, 7]\n"
     ]
    }
   ],
   "source": [
    "# 34. Convert n dimentional list to single dimentiona list.\n",
    "l=[1,2,[3,[4,5],6],7]\n",
    "l1=[]\n",
    "for i in l:\n",
    "    if type(i) is int:\n",
    "        l1=l1+[i]\n",
    "    else:\n",
    "        l1=l1+i\n",
    "print l1  "
   ]
  },
  {
   "cell_type": "code",
   "execution_count": null,
   "metadata": {
    "collapsed": true
   },
   "outputs": [],
   "source": [
    "#33. input: \"google\" print count of each character\n",
    "s=\"google\"\n",
    "for i in s:\n",
    "    n=s.count(i)\n",
    "    print \"Character \"+str(i)+\" count is: \"+str(n)"
   ]
  },
  {
   "cell_type": "code",
   "execution_count": 52,
   "metadata": {
    "collapsed": false
   },
   "outputs": [
    {
     "name": "stdout",
     "output_type": "stream",
     "text": [
      "1,2,3\n"
     ]
    },
    {
     "data": {
      "text/plain": [
       "str"
      ]
     },
     "execution_count": 52,
     "metadata": {},
     "output_type": "execute_result"
    }
   ],
   "source": [
    "# 35. l=[1,2,3] just make it as a string\n",
    "l=[1,2,3]\n",
    "s=\"\"\n",
    "for i in l:\n",
    "    s=s+str(i)+','\n",
    "print s.rstrip(',')    \n",
    "type(s)"
   ]
  },
  {
   "cell_type": "code",
   "execution_count": 82,
   "metadata": {
    "collapsed": false
   },
   "outputs": [
    {
     "name": "stdout",
     "output_type": "stream",
     "text": [
      "[1, 2, 3, 4, 5, 6, 7, 8, 9, 10]\n"
     ]
    }
   ],
   "source": [
    "#36. l=[1,2,3,[4,5,6],7,[8,9,10]] for single dimentional list\n",
    "l=[1,2,3,[4,5,6],7,[8,9,10]]\n",
    "l1=[]\n",
    "for i in l:\n",
    "    if type(i) is int:\n",
    "        l1=l1+[i]\n",
    "    else:\n",
    "        l1=l1+i\n",
    "print l1"
   ]
  },
  {
   "cell_type": "code",
   "execution_count": 97,
   "metadata": {
    "collapsed": false
   },
   "outputs": [
    {
     "data": {
      "text/plain": [
       "2"
      ]
     },
     "execution_count": 97,
     "metadata": {},
     "output_type": "execute_result"
    }
   ],
   "source": [
    "#37. l=['a','A','b','B','d','D','c','C'] WAP to find out case insensitive count \n",
    "#and case insensitive search for an element.\n",
    "l=['a','A','b','B','d','D','c','C']\n",
    "\n",
    "l2=[]\n",
    "for i in l:\n",
    "    l2=l2+[i.lower()]\n",
    "    \n",
    "#case insensitive count\n",
    "l2.count('a')"
   ]
  },
  {
   "cell_type": "code",
   "execution_count": 1,
   "metadata": {
    "collapsed": false
   },
   "outputs": [
    {
     "data": {
      "text/plain": [
       "False"
      ]
     },
     "execution_count": 1,
     "metadata": {},
     "output_type": "execute_result"
    }
   ],
   "source": [
    "l=['a','A','b','B','d','D','c','C' , 'F']\n",
    "#case insensitive search for an element\n",
    "any(s.lower() == 'a' for s in l)\n",
    "'f' in l"
   ]
  },
  {
   "cell_type": "code",
   "execution_count": null,
   "metadata": {
    "collapsed": true
   },
   "outputs": [],
   "source": [
    "#38. l=['a','A','b','B','d','D','c','C']  sort the list properly"
   ]
  },
  {
   "cell_type": "code",
   "execution_count": null,
   "metadata": {
    "collapsed": true
   },
   "outputs": [],
   "source": [
    "#39. find the start position of the largest block of repeated characters in a given string\n",
    "s=raw_input(\"Enter your String: \")\n",
    "\n"
   ]
  },
  {
   "cell_type": "code",
   "execution_count": 23,
   "metadata": {
    "collapsed": false
   },
   "outputs": [
    {
     "data": {
      "text/plain": [
       "[1, 2, 3, 4, 5, 6]"
      ]
     },
     "execution_count": 23,
     "metadata": {},
     "output_type": "execute_result"
    }
   ],
   "source": [
    "#40. WAP to find union and intersection of lists.\n",
    "# UNION - Method-1\n",
    "l1=[1,2,3,4]\n",
    "l2=[3,4,5,6]\n",
    "list(set(l1+l2))\n"
   ]
  },
  {
   "cell_type": "code",
   "execution_count": 32,
   "metadata": {
    "collapsed": false
   },
   "outputs": [
    {
     "data": {
      "text/plain": [
       "[1, 2, 3, 4, 5, 6]"
      ]
     },
     "execution_count": 32,
     "metadata": {},
     "output_type": "execute_result"
    }
   ],
   "source": [
    "# UNION -Method-2\n",
    "l1=[1,2,3,4]\n",
    "l2=[3,4,5,6]\n",
    "l1=set(l1)\n",
    "l2=set(l2)\n",
    "list(l1 | l2)"
   ]
  },
  {
   "cell_type": "code",
   "execution_count": 37,
   "metadata": {
    "collapsed": false
   },
   "outputs": [
    {
     "data": {
      "text/plain": [
       "[3, 4]"
      ]
     },
     "execution_count": 37,
     "metadata": {},
     "output_type": "execute_result"
    }
   ],
   "source": [
    "# Intersection\n",
    "l1=[1,2,3,4]\n",
    "l2=[3,4,5,6]\n",
    "l1=set(l1)\n",
    "l2=set(l2)\n",
    "list(l1 & l2)\n"
   ]
  },
  {
   "cell_type": "code",
   "execution_count": 178,
   "metadata": {
    "collapsed": false
   },
   "outputs": [
    {
     "name": "stdout",
     "output_type": "stream",
     "text": [
      "[1, 2, 3, 4]\n",
      "None\n"
     ]
    }
   ],
   "source": [
    "# 41. input: fun(5) output: [1,2,3,4,3,2,1]\n",
    "l1=[]\n",
    "l2=[]\n",
    "def fun(a):\n",
    "    l1= [i for i in range(1,a)]  \n",
    "    l2=l1\n",
    "    print l1\n",
    "    print l2.reverse()\n",
    "fun(5)"
   ]
  },
  {
   "cell_type": "code",
   "execution_count": 5,
   "metadata": {
    "collapsed": false
   },
   "outputs": [
    {
     "name": "stdout",
     "output_type": "stream",
     "text": [
      "[['a'], ['b'], ['c']]\n"
     ]
    }
   ],
   "source": [
    "#42.input fun('abc') output: [[],][a],[b],[c],[a,b],[b,c],[c,a],[a,b,c]]\n",
    "def fun(a):\n",
    "    print [[i] for i in a]\n",
    "fun('abc')"
   ]
  },
  {
   "cell_type": "code",
   "execution_count": 8,
   "metadata": {
    "collapsed": false
   },
   "outputs": [
    {
     "name": "stdout",
     "output_type": "stream",
     "text": [
      "[1, 2, 3, 4]\n"
     ]
    }
   ],
   "source": [
    "#43. Remove duplicates from the list: a=[1,2,3,2,3,4,1,,3,4]\n",
    "a=[1,2,3,2,3,4,1,3,4]\n",
    "b=[]\n",
    "for i in a:\n",
    "    if i not in b:\n",
    "        b.append(i)\n",
    "print b"
   ]
  },
  {
   "cell_type": "code",
   "execution_count": 11,
   "metadata": {
    "collapsed": false
   },
   "outputs": [
    {
     "name": "stdout",
     "output_type": "stream",
     "text": [
      "[1, 2, 3]\n"
     ]
    },
    {
     "data": {
      "text/plain": [
       "6"
      ]
     },
     "execution_count": 11,
     "metadata": {},
     "output_type": "execute_result"
    }
   ],
   "source": [
    "# 44. l=['1','2','3'] get the sum of the list\n",
    "l=['1','2','3']\n",
    "l2=map(int,l)\n",
    "print l2\n",
    "sum(l2)"
   ]
  },
  {
   "cell_type": "code",
   "execution_count": 12,
   "metadata": {
    "collapsed": false
   },
   "outputs": [
    {
     "data": {
      "text/plain": [
       "36"
      ]
     },
     "execution_count": 12,
     "metadata": {},
     "output_type": "execute_result"
    }
   ],
   "source": [
    "#45. l1=[1,2,3,4] l2=[5,6,7,8] sum of two lists\n",
    "l1=[1,2,3,4]\n",
    "l2=[5,6,7,8]\n",
    "sum(l1+l2)"
   ]
  },
  {
   "cell_type": "code",
   "execution_count": 64,
   "metadata": {
    "collapsed": false
   },
   "outputs": [
    {
     "name": "stdout",
     "output_type": "stream",
     "text": [
      "list without sorting: [1, 5, 3, 8, 44, 22, 6]\n",
      "Third Max value is : 8\n",
      "list with sorting: [1, 3, 5, 6, 8, 22, 44]\n",
      "Third Max value is : 8\n"
     ]
    }
   ],
   "source": [
    "# 46. Find third max value of element in a list with soring and without sorting a list.\n",
    "l=[1,5,3,8,44,22,6]\n",
    "# Max value without sorting\n",
    "k=0\n",
    "print \"list without sorting: \"+str(l)\n",
    "for i in range(2):\n",
    "    k=max(l)\n",
    "    l.remove(k)\n",
    "print \"Third Max value is : \"+ str(max(l))\n",
    "\n",
    "# Max value with sorting\n",
    "l2=[1,5,3,8,44,22,6]\n",
    "l3=sorted(l2)\n",
    "print \"list with sorting: \"+str(l3)\n",
    "for i in range(2):\n",
    "    k=max(l3)\n",
    "    l3.remove(k)\n",
    "print \"Third Max value is : \"+ str(max(l3))\n",
    "\n"
   ]
  },
  {
   "cell_type": "code",
   "execution_count": null,
   "metadata": {
    "collapsed": true
   },
   "outputs": [],
   "source": [
    "# 47. Input = [\"1/1\",\"1/2\",\"1/3\",\"1/4\",\"2/5\",\"2/6\",\"2/8\"] Output = [['1/1-4'], ['2/5-6'], ['2/8']]\n",
    "Input = [\"1/1\",\"1/2\",\"1/3\",\"1/4\",\"2/5\",\"2/6\",\"2/8\"]"
   ]
  },
  {
   "cell_type": "code",
   "execution_count": 233,
   "metadata": {
    "collapsed": false
   },
   "outputs": [
    {
     "name": "stdout",
     "output_type": "stream",
     "text": [
      "[1]\n"
     ]
    }
   ],
   "source": [
    "#48. l=[1,2,3,5,7,8,9,10,11,12,13,20,22,23,24,25,26,27,20,21,22,4]\n",
    "# output = [[1, 2, 3], [5], [7, 8, 9, 10, 11, 12, 13], [20], [22, 23, 24, 25, 26, 27], [20, 21, 22], [4]]\n",
    "l=[1,2,3,5,7,8,9,10,11,12,13,20,22,23,24,25,26,27,20,21,22,4]\n",
    "l2=[]\n",
    "for i in l:\n",
    "    if i==1:\n",
    "        l2.append(i)\n",
    "print l2"
   ]
  },
  {
   "cell_type": "code",
   "execution_count": 185,
   "metadata": {
    "collapsed": false
   },
   "outputs": [
    {
     "name": "stdout",
     "output_type": "stream",
     "text": [
      "['odd', 'even', 'odd', 'even', 'odd', 'even', 'even', 'even']\n"
     ]
    }
   ],
   "source": [
    "#49. input = 1,2,3,4,5,6,8,10 output = odd,even,odd,even,odd,even,even,even\n",
    "input = 1,2,3,4,5,6,8,10\n",
    "l=[]\n",
    "for i in input:\n",
    "    if i%2 is 0:\n",
    "        l.append(\"even\")\n",
    "    else:\n",
    "        l.append(\"odd\")\n",
    "print l"
   ]
  },
  {
   "cell_type": "code",
   "execution_count": 186,
   "metadata": {
    "collapsed": false
   },
   "outputs": [
    {
     "name": "stdout",
     "output_type": "stream",
     "text": [
      "odd,even,odd,even,odd,even,even,even\n"
     ]
    }
   ],
   "source": [
    "input = 1,2,3,4,5,6,8,10\n",
    "s=\"\"\n",
    "for i in input:\n",
    "    if i%2 is 0:\n",
    "        s +=\"even,\"\n",
    "    else:\n",
    "        s +=\"odd,\"\n",
    "print s.strip(',')"
   ]
  },
  {
   "cell_type": "code",
   "execution_count": 184,
   "metadata": {
    "collapsed": false
   },
   "outputs": [
    {
     "name": "stdout",
     "output_type": "stream",
     "text": [
      "Enter Your Number: 5\n",
      "1 1 1 1 1 \n",
      "1 0 0 0 1 \n",
      "1 0 0 0 1 \n",
      "1 0 0 0 1 \n",
      "1 1 1 1 1 \n",
      "\n"
     ]
    }
   ],
   "source": [
    "#50. input n=3 \n",
    "#    output:\n",
    "#               111\n",
    "#\t\t        101\n",
    "#\t\t        111\n",
    "n=raw_input(\"Enter Your Number: \")\n",
    "n=int(n)\n",
    "s=\"\"\n",
    "for i in range(n):\n",
    "    for j in range(n):\n",
    "        if(j==0 or j==n-1 or i==0 or i==n-1):\n",
    "            s += \"1\"+\" \"\n",
    "        else:\n",
    "            s +=\"0\"+\" \"\n",
    "    s +=\"\\n\"\n",
    "print s"
   ]
  },
  {
   "cell_type": "code",
   "execution_count": null,
   "metadata": {
    "collapsed": true
   },
   "outputs": [],
   "source": []
  }
 ],
 "metadata": {
  "anaconda-cloud": {},
  "kernelspec": {
   "display_name": "Python [default]",
   "language": "python",
   "name": "python2"
  },
  "language_info": {
   "codemirror_mode": {
    "name": "ipython",
    "version": 2
   },
   "file_extension": ".py",
   "mimetype": "text/x-python",
   "name": "python",
   "nbconvert_exporter": "python",
   "pygments_lexer": "ipython2",
   "version": "2.7.12"
  }
 },
 "nbformat": 4,
 "nbformat_minor": 1
}
